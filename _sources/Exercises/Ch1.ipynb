{
 "cells": [
  {
   "cell_type": "markdown",
   "id": "5565eaff-9f66-4224-b113-3ff3b657f3e2",
   "metadata": {},
   "source": [
    "# Exercises for Chapter 1\n",
    "\n",
    "Topics to be covered:\n",
    "\n",
    "- Unit Conversions\n",
    "- Reading Data Plots \n",
    "- Definitions of Pathways\n",
    "- Calculations with the Ideal Gas Law\n",
    "- Calculations with the Ideal Gas Heat Capacity\n",
    "- Conservation of Mass "
   ]
  },
  {
   "cell_type": "markdown",
   "id": "ca0cde95-98b5-4c57-81a7-26fb11a604ea",
   "metadata": {},
   "source": [
    "## Past Homework Problems\n",
    "\n",
    "1. An ideal gas is contained in a cylinder at $100$ bar. What is this Pressure in $kPa$?\n",
    "\n",
    "2. In the arctic, the Temperature can reach $-40$ $^o C$. What is this Temperature in $K$?\n",
    "\n",
    "3. An ideal gas is contained in a reactor at a constant Pressure $10$ $bar$ and Temperature, $300$ $^o$C. What is its density in $kg/m^3$?\n",
    "\n",
    "4. Using real gas properties derived from the [NIST property database](https://webbook.nist.gov/chemistry/fluid/), perform the same calculation for steam and ethanol.\n",
    "\n",
    "5. Liquid water has a density of $998$ $kg/m^3$ at room temperature. What is its molar volume in $cm^3/mol$?\n",
    "\n",
    "6. The relationship between $P$ and $\\underline{V}$ defined by the ideal gas law, $P\\underline{V}=RT$ implies that for a constant temperature, $P\\sim \\frac{1}{\\underline{V}}$. Using a jupyter notebook, please plot 5 isotherms at $100$, $200$, $300$, $400$, and $500$ $^oC$ on a $P-\\underline{V}$ diagram over a range of molar volumes from $\\underline{V}=10^{-3}$ $m^3/mol$ to $\\underline{V}=10^{-6}$ $m^3/mol$. Plot the isotherms on a **log-log** scale\n",
    "\n",
    "7. Do the same as in (6) for steam. Compare the results on a **log-log** and **lin-lin** scale. Which does a better job of capturing the change in state over this range of molar volumes.\n",
    "\n",
    "8. Nitrogen is heated from $20$ $^o C$ to $100$ $^o C$ at a constant volume $V=1e-5 m^3/mol$. Using nitrogen's ideal gas heat capacity , calculate the heat required to do this if the container is *well-insulated*.\n",
    "\n",
    "9. Steam is cooled from $800$ $^o C$ to $500$ $^o C$ at a constant density ($\\underline{V}=10^{-5}$ $m^3/mol$). Using [NIST property database](https://webbook.nist.gov/chemistry/fluid/), numerically integrate the data to find the heat released during the cooling process.\n",
    "\n",
    "10. What is the change in internal energy in (9)?\n",
    "\n",
    "11. A valve attached to a cylinder with a volume of $1$ $m^3$ initially containing $10$ $moles$ of an ideal gas at $25$ $^o C$ is opened.  The mass leaves the cylinder at a rate that depends on the pressure $mol/hr$. How long does it take for the cylinder to empty?\n",
    "\n"
   ]
  },
  {
   "cell_type": "markdown",
   "id": "4972a4ed-51da-4b0e-94c2-500d7db17c4b",
   "metadata": {},
   "source": [
    "## Past Exam Problems \n",
    "\n",
    "Pressurized Water nuclear power plants (PWR) generate high pressure steam that when expanded across a turbine produces electricity. Steam is generated from in the steam generator by contacting the coolant water in a heat exchanger with secondary water, which enters the circuit at $220$ $^oC$ and pressure of $70$ $bar$ and exits at  $275$ $^oC$ and $70$ $bar$. \n",
    "\n",
    "1. What is the steam quality in the exit feed?\n",
    "\n",
    "2. Assuming constant heat capacity of water, how much heat is transfered from the reactor colling water to the secondary water?\n",
    "\n",
    "\n"
   ]
  },
  {
   "cell_type": "markdown",
   "id": "c89533a8-7a65-4b42-9984-79195ba62abc",
   "metadata": {},
   "source": [
    "## Questions that Challenge your Understanding"
   ]
  }
 ],
 "metadata": {
  "kernelspec": {
   "display_name": "Python 3 (ipykernel)",
   "language": "python",
   "name": "python3"
  },
  "language_info": {
   "codemirror_mode": {
    "name": "ipython",
    "version": 3
   },
   "file_extension": ".py",
   "mimetype": "text/x-python",
   "name": "python",
   "nbconvert_exporter": "python",
   "pygments_lexer": "ipython3",
   "version": "3.9.13"
  }
 },
 "nbformat": 4,
 "nbformat_minor": 5
}
