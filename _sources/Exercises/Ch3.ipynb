{
 "cells": [
  {
   "cell_type": "markdown",
   "id": "40dcd9c1-518d-4241-8f39-61d4755b3740",
   "metadata": {},
   "source": [
    "# Exercises for Chapter 3\n",
    "\n",
    "Topics to be covered:\n",
    "\n",
    "- Conservation of Energy\n",
    "- Conservation of Entropy\n",
    "- Thermal and Volumetric Property Changes for Ideal Gases for Open and Closed Systems"
   ]
  },
  {
   "cell_type": "markdown",
   "id": "bbc0c81b-1bc7-4413-b5df-0f453b460904",
   "metadata": {},
   "source": [
    "## Past Homework Problems"
   ]
  },
  {
   "cell_type": "markdown",
   "id": "62cf362a-064b-4926-8682-327e74b9a987",
   "metadata": {},
   "source": [
    "## Past Exam Problems"
   ]
  },
  {
   "cell_type": "markdown",
   "id": "1a5540a0-a776-4ec5-a3c7-d337c8cad81e",
   "metadata": {},
   "source": [
    "## Questions to Challenge your Understanding"
   ]
  }
 ],
 "metadata": {
  "kernelspec": {
   "display_name": "Python 3 (ipykernel)",
   "language": "python",
   "name": "python3"
  },
  "language_info": {
   "codemirror_mode": {
    "name": "ipython",
    "version": 3
   },
   "file_extension": ".py",
   "mimetype": "text/x-python",
   "name": "python",
   "nbconvert_exporter": "python",
   "pygments_lexer": "ipython3",
   "version": "3.9.13"
  }
 },
 "nbformat": 4,
 "nbformat_minor": 5
}
