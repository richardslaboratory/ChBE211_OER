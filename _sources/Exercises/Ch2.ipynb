{
 "cells": [
  {
   "cell_type": "markdown",
   "id": "1e303352-fe65-42d8-909c-03ec73dff5fd",
   "metadata": {},
   "source": [
    "# Exercises for Chapter 2\n",
    "\n",
    "Topics to be covered:\n",
    "\n",
    "- Conservation of Energy\n",
    "- Conservation of Entropy\n",
    "- Thermal and Volumetric Property Changes for Ideal Gases for Open and Closed Systems\n",
    "- Thermal and Volumetric Property Changes using Real Gas Properties"
   ]
  },
  {
   "cell_type": "markdown",
   "id": "6c64f60f-0828-4780-b388-316f11cdc038",
   "metadata": {},
   "source": [
    "## Past Homework Problems"
   ]
  },
  {
   "cell_type": "markdown",
   "id": "4fc39fc5-6892-4921-b863-5b8ac040b613",
   "metadata": {},
   "source": [
    "## Past Exam Problems\n",
    "\n",
    "\n",
    "### 2018 First Midterm Q1\n",
    "Solar panels work by absorbing sunlight and converting it to electrical energy via the photovoltaic effect. According to NREL the average solar insolation in Evanston is 4 kWh/m2/day (~167 W/m2) on a sunny day. I am looking to purchase 10 m2 of solar panels to power my air conditioner which consumes 0.3 kW during sunny summer days. The specification sheet for the panels says that their efficiency is 14%. \n",
    "\n",
    "1. Will I be able to power my air conditioner?\n",
    "\n",
    "2. Given that the sun's corona has a temperature of 5800 $^o$C and the average temperature of Evanston in the summer is 35$^o$C, how many air conditioners could I theoretically power using a reversible Carnot Heat Engine? "
   ]
  },
  {
   "cell_type": "markdown",
   "id": "e66c51c8-510b-4fd2-bc09-17b82783bbec",
   "metadata": {},
   "source": [
    "## Questions to Challenge your Understanding\n",
    "\n",
    "1. "
   ]
  }
 ],
 "metadata": {
  "kernelspec": {
   "display_name": "Python 3 (ipykernel)",
   "language": "python",
   "name": "python3"
  },
  "language_info": {
   "codemirror_mode": {
    "name": "ipython",
    "version": 3
   },
   "file_extension": ".py",
   "mimetype": "text/x-python",
   "name": "python",
   "nbconvert_exporter": "python",
   "pygments_lexer": "ipython3",
   "version": "3.9.13"
  }
 },
 "nbformat": 4,
 "nbformat_minor": 5
}
