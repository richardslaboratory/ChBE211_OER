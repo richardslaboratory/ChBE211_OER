{
 "cells": [
  {
   "cell_type": "markdown",
   "id": "9583d7e0-94fa-4ebf-b1a3-9a75ca2baba4",
   "metadata": {},
   "source": [
    "# Real Gas Properties\n",
    "\n",
    "[NIST](https://www.nist.gov/) maintains a [Thermophysical Property Database](https://webbook.nist.gov/chemistry/fluid/) for fluids that allows for the determination of the following thermodynamic state variables:\n",
    "\n",
    "1. Density, $\\rho$\n",
    "\n",
    "2. Heat Capacities $C_P$ and $C_V$\n",
    "\n",
    "3. Ethalpy $\\underline{H}$, Entropy $\\underline{S}$, and Internal Energy $\\underline{U}$\n",
    "\n",
    "4. Logarithmic Scales\n",
    "\n",
    "and many others relevant to solving thermodynamic problems."
   ]
  },
  {
   "cell_type": "markdown",
   "id": "64869190",
   "metadata": {},
   "source": [
    "## Using the NIST Property Database to access thermophysical property data of common fluids.\n",
    "\n",
    "Steps to access data-sets via the web.\n",
    "\n",
    "1. Go to https://webbook.nist.gov/chemistry/fluid/\n",
    "\n",
    "2. Select the species of interest (default is water)\n",
    "\n",
    "3. Select the units desired. For this class, the following units are useful:\n",
    "\n",
    "    - T (K)\n",
    "    \n",
    "    - P (bar)\n",
    "    \n",
    "    - Energy (kJ/mol)\n",
    "    \n",
    "4. Choose the desired type of data: (select from)\n",
    "\n",
    "    - **Isothermal Properties** - Defines *thermal variables* as a function of pressure for a fixed **temperature**\n",
    "    \n",
    "    - **Isobaric Properties** - Defines *thermal variables* as a function of temperature for a fixed **pressure**\n",
    "    \n",
    "    - **Isochoric Properties** - Defines *thermal variables* as a function of temperature for a fixed **density**\n",
    "    \n",
    "    - **Saturation Properties** - Defines the VLE envolope\n",
    "    \n",
    "5. After selecting the desired property range and increment and constant property, a window will be displayed that displays the thermophysical property data on a graph and also allows for a tab-delimited datafile to be downloaded."
   ]
  },
  {
   "cell_type": "markdown",
   "id": "ca2c0f20",
   "metadata": {},
   "source": [
    "### Worksheet Problem:\n",
    "\n",
    "Steam $10$ $kg/s$ at $T=600^{o}C$ and $P=10 bar$ is exapanded across an well-designed, adiabatic turbine to a final pressure of $1$ $bar$. Using the NIST property database, determine the following:\n",
    "\n",
    "1. Find the outlet temperature of the steam.\n",
    "\n",
    "2. Find the maximum work that can be generated due to the expansion.\n",
    "\n",
    "Check your work with the steam tables."
   ]
  },
  {
   "cell_type": "markdown",
   "id": "1117c60c",
   "metadata": {},
   "source": [
    "#### Solution:\n",
    "\n",
    "In  order to proceed, I need thermophysical properties of steam. I will use the steps above to obtain those properties.\n",
    "\n",
    "1. First, I will set the units on the property page to reflect the units in this problem (this will make the calculations easy)\n",
    "\n",
    "    - T (C)\n",
    "    \n",
    "    - P (bar)\n",
    "    \n",
    "    - Energy (kJ/kg)\n",
    "    \n",
    "    \n",
    "2. I will simplify the mass, energy, and entropy balance expressions to understand which properties I need to solve the problem. For a well-designed, adiabatic turbine operating at steady state the expansion is **isoentropic** and the is described by the following set of equations.\n",
    "\n",
    "    - Mass balance: $\\quad \\dot{N}_1=\\dot{N}_2$\n",
    "    \n",
    "    - Energy Balance: $\\quad \\dot{W}_s=\\dot{N}_1\\big(\\underline{H}_2-\\underline{H}_1\\big)$\n",
    "    \n",
    "    - Entropy Balance: $\\quad \\underline{S}_2=\\underline{S}_1$\n",
    "    \n",
    "3. As we have seen in prior examples, I know that to find the outlet temperature, I need to identify the temperature where the entropy of the inlet fluid is equal to the entropy of the outlet fluid, $\\underline{S}_2=\\underline{S}_1$. To do this, I need isobaric data as a function of temperature for both the specified inlet and outlet conditions. For this we will use the property database.\n",
    "\n",
    "    - I start with the inlet condition and save the resulting data as \"Steam_Isobar P=10bar.txt\"\n",
    "\n",
    "    - I do the same steps with the outlet condition and save the resulting data as \"Steam_Isobar P=1bar.txt\"\n",
    "    \n",
    "4. We will load the data with pandas, plot the data with matplotlib, and interpolate the data with numpy. The package os is convenient for file handling."
   ]
  },
  {
   "cell_type": "markdown",
   "id": "2c96142e",
   "metadata": {},
   "source": [
    "#### Import the Necessary Libraries:\n",
    "\n",
    "First let's import the necessary libraries. We will use:\n",
    "\n",
    "1. pandas for loading data\n",
    "\n",
    "2. os for file manipulation\n",
    "\n",
    "3. matplotlib for plotting the data\n",
    "\n",
    "4. numpy for interpolation\n"
   ]
  },
  {
   "cell_type": "code",
   "execution_count": 1,
   "id": "8a104e7f",
   "metadata": {},
   "outputs": [],
   "source": [
    "import matplotlib.pyplot as plt\n",
    "import numpy as np\n",
    "import pandas as pd\n",
    "import os"
   ]
  },
  {
   "cell_type": "markdown",
   "id": "62c3654d",
   "metadata": {},
   "source": [
    "#### Load the data:\n",
    "\n",
    "Next we load the data using pandas read_csv function. Note below we have to specify the absolution file path. We do so by concatenating our current working directory with the directory where the data is saved. We load the separate isobar data into separate dataframes and indicate that it is tab delimited and that the loader should skip the first row when loading data as the header can be found in the first row. The header is tab-delimited as well and has the names of the columns stored generated by the NIST Property database."
   ]
  },
  {
   "cell_type": "code",
   "execution_count": 2,
   "id": "9f5e5355",
   "metadata": {},
   "outputs": [],
   "source": [
    "pathtofile=os.getcwd()+\"//data//\"\n",
    "##load the data as tab delimited file - skip first row which has the header info\n",
    "Isobar1 = pd.read_csv(os.path.join(pathtofile,\"Steam_Isobar P=10bar.txt\"),sep='\\t',skiprows=(0),header=(0))\n",
    "Isobar2 = pd.read_csv(os.path.join(pathtofile,\"Steam_Isobar P=1bar.txt\"),sep='\\t',skiprows=(0),header=(0))"
   ]
  },
  {
   "cell_type": "markdown",
   "id": "07f773f9",
   "metadata": {},
   "source": [
    "#### Plot the data\n",
    "\n",
    "For this purpose, I will construct a Temperature-Entropy Diagram for these two isobars, which should allow me to easily identify the **isoentropic pathway**. To remind myself of the units and the names of the columns, I will invoke the \"keys()\" property of the "
   ]
  },
  {
   "cell_type": "code",
   "execution_count": 3,
   "id": "83d63233",
   "metadata": {},
   "outputs": [
    {
     "data": {
      "text/plain": [
       "Index(['Temperature (C)', 'Pressure (bar)', 'Density (mol/l)',\n",
       "       'Volume (l/mol)', 'Internal Energy (kJ/kg)', 'Enthalpy (kJ/kg)',\n",
       "       'Entropy (J/g*K)', 'Cv (J/g*K)', 'Cp (J/g*K)', 'Sound Spd. (m/s)',\n",
       "       'Joule-Thomson (K/bar)', 'Viscosity (uPa*s)', 'Therm. Cond. (W/m*K)',\n",
       "       'Phase'],\n",
       "      dtype='object')"
      ]
     },
     "execution_count": 3,
     "metadata": {},
     "output_type": "execute_result"
    }
   ],
   "source": [
    "Isobar1.keys()\n"
   ]
  },
  {
   "cell_type": "markdown",
   "id": "28b3c407",
   "metadata": {},
   "source": [
    "Now we can see that the **Enthalpy** and **Temperature** keys are strings with the units specified"
   ]
  },
  {
   "cell_type": "code",
   "execution_count": 4,
   "id": "d3e257ec",
   "metadata": {},
   "outputs": [
    {
     "data": {
      "text/plain": [
       "<matplotlib.legend.Legend at 0x21a0a422c10>"
      ]
     },
     "execution_count": 4,
     "metadata": {},
     "output_type": "execute_result"
    },
    {
     "data": {
      "image/png": "[encoded data removed]",
      "text/plain": [
       "<Figure size 400x400 with 1 Axes>"
      ]
     },
     "metadata": {
      "needs_background": "light"
     },
     "output_type": "display_data"
    }
   ],
   "source": [
    "%matplotlib inline\n",
    "plt.figure(dpi=100,figsize=(4,4))\n",
    "plt.plot(Isobar1['Temperature (C)'],Isobar1['Entropy (J/g*K)'],c='r',label='P=10bar')\n",
    "plt.plot(Isobar2['Temperature (C)'],Isobar2['Entropy (J/g*K)'],c='b',label='P=1bar')\n",
    "plt.xlabel(r'$T$ $(C)$')\n",
    "plt.ylabel(r'$\\hat{S}$ $(J/g*K)$')\n",
    "plt.legend()"
   ]
  },
  {
   "cell_type": "markdown",
   "id": "501e90a7",
   "metadata": {},
   "source": [
    "#### Determine the outlet temperature using Numpy\n",
    "\n",
    "To determine the outlet temperature, we first need to find the entropy of the inlet, we for this we will use numpy's interp function, which has as an argument the desired temperature for the interpolation and x, y arrays to perform the interpolation."
   ]
  },
  {
   "cell_type": "code",
   "execution_count": 5,
   "id": "7a2fe04e",
   "metadata": {},
   "outputs": [
    {
     "name": "stdout",
     "output_type": "stream",
     "text": [
      "S (P=10 bar)= 8.031 J/g*K\n"
     ]
    }
   ],
   "source": [
    "T1=600##C\n",
    "S1=np.interp(T1,Isobar1['Temperature (C)'],Isobar1['Entropy (J/g*K)'])\n",
    "print('S (P=10 bar)=',S1, 'J/g*K')"
   ]
  },
  {
   "cell_type": "markdown",
   "id": "ef57719f",
   "metadata": {},
   "source": [
    "We can now use this to find the outlet temperature by interpolating the entropy of interest with the caveat that the data is a monotonic function of temperature in the interpolated ranage."
   ]
  },
  {
   "cell_type": "code",
   "execution_count": 6,
   "id": "f3ad6293",
   "metadata": {},
   "outputs": [
    {
     "name": "stdout",
     "output_type": "stream",
     "text": [
      "T (P=1 bar)=249.06 (C)\n"
     ]
    }
   ],
   "source": [
    "T2=np.interp(S1,Isobar2['Entropy (J/g*K)'],Isobar2['Temperature (C)'])\n",
    "S2=S1\n",
    "print('T (P=1 bar)=%3.2f'%T2, '(C)')"
   ]
  },
  {
   "cell_type": "markdown",
   "id": "fa65d993",
   "metadata": {},
   "source": [
    "#### Determine the Work\n",
    "\n",
    "We can use the same strategy to find the enthalpies."
   ]
  },
  {
   "cell_type": "code",
   "execution_count": 7,
   "id": "930adc28",
   "metadata": {},
   "outputs": [
    {
     "name": "stdout",
     "output_type": "stream",
     "text": [
      "The change in enthalpy is given as: W=-732.97 kJ/kg\n",
      "The available work to extract from the system is given as: W=7329.66 kW\n"
     ]
    }
   ],
   "source": [
    "H1=np.interp(T1,Isobar2['Temperature (C)'],Isobar2['Enthalpy (kJ/kg)'])\n",
    "H2=np.interp(T2,Isobar2['Temperature (C)'],Isobar2['Enthalpy (kJ/kg)'])\n",
    "N1=10##kg/s\n",
    "\n",
    "print(\"The change in enthalpy is given as: W=%3.2f kJ/kg\"%(H2-H1))\n",
    "print(\"The available work to extract from the system is given as: W=%3.2f kW\"%(-N1*(H2-H1)))"
   ]
  }
 ],
 "metadata": {
  "kernelspec": {
   "display_name": "Python 3 (ipykernel)",
   "language": "python",
   "name": "python3"
  },
  "language_info": {
   "codemirror_mode": {
    "name": "ipython",
    "version": 3
   },
   "file_extension": ".py",
   "mimetype": "text/x-python",
   "name": "python",
   "nbconvert_exporter": "python",
   "pygments_lexer": "ipython3",
   "version": "3.9.13"
  }
 },
 "nbformat": 4,
 "nbformat_minor": 5
}
