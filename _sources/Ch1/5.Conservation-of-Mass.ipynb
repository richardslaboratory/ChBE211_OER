{
 "cells": [
  {
   "cell_type": "markdown",
   "id": "75cd2dea-1121-44ef-8c75-ef5e391aba7d",
   "metadata": {},
   "source": [
    "# Conservation of Mass\n",
    "\n",
    "\n",
    "## Topics\n",
    "\n",
    "- [Laws of Conservation](#3.1)\n",
    "\n",
    "- [Differential vs. the Difference Forms](#3.2)\n",
    "\n",
    "\n",
    "## Supplemental Reading\n",
    "\n",
    "- links to OER relevant to this topic.\n"
   ]
  },
  {
   "cell_type": "markdown",
   "id": "e8a66bc2-cda8-4099-9976-ad489dc49cc1",
   "metadata": {},
   "source": [
    "<a id=\"3.1\"></a>\n",
    "## Conservation of Material\n",
    "\n",
    "Conservation laws are balance expressions where the $\\dot{\\theta}_{gen}=0$ or the rate of generation or consumption of $\\theta$ within the control volume is 0. \n",
    "\n",
    "Conserved quantities are quantities that obey conservation laws. There are man"
   ]
  },
  {
   "cell_type": "markdown",
   "id": "802d9262",
   "metadata": {},
   "source": [
    "## Conservation of Moles\n",
    "\n",
    "The *differential form* of the balance expression is given as:\n",
    "\n",
    "$\\quad\\quad \\dfrac{d\\theta}{dt}=\\sum_k\\dot{\\theta}_k+\\dot{\\theta}_{gen}$\n",
    "\n",
    "Substituting $N$ for $\\theta$ and setting $\\dot{\\theta}_{gen}=0$, we arrive at the statement of the *conservation of moles*:\n",
    "\n",
    "$\\quad\\quad \\dfrac{dN}{dt}=\\sum_k\\dot{N}_k$"
   ]
  },
  {
   "cell_type": "markdown",
   "id": "f69be796",
   "metadata": {},
   "source": [
    "## Conservation of Mass\n",
    "\n",
    "Equivelantly the *conservation of mass*. Recall that we can convert between moles and mass for a single component species using the molecular weight of that species $M=N\\times M_W$\n",
    "\n",
    "$$\\dfrac{dM}{dt}=\\sum_k\\dot{M}_k$$"
   ]
  },
  {
   "cell_type": "markdown",
   "id": "7d2217ab",
   "metadata": {},
   "source": [
    "<a id=\"3.2\"></a>\n",
    "## Distinguishing the Difference from the Differential Form\n",
    "\n",
    "The *difference form* of the conservation of mass and moles can be found by integrating with respect to time the differential form. We can write the following for example using the *conservation of mass*\n",
    "\n",
    "$\\quad\\quad \\int_{t_1}^{t_2}\\bigg[\\dfrac{dM}{dt}=\\sum_k\\dot{M}_k\\bigg]dt$\n",
    "\n",
    "which can be broken into pieces:\n",
    "\n",
    "The left hand side:  \n",
    "\n",
    "$\\quad\\quad \\int_{t_1}^{t_2}\\dfrac{dM}{dt}dt=M(t_2)-M(t_1)$\n",
    "\n",
    "and the R.H.S which is just given as:\n",
    "\n",
    "$\\quad \\quad \\int_{t_1}^{t_2}\\sum_k\\dot{M}_kdt$\n",
    "\n",
    "or written as in its most general form.\n",
    "\n",
    "$\\quad\\quad M(t_2)-M(t_1)=\\int_{t_1}^{t_2}\\sum_k\\dot{M}_kdt$\n",
    "\n",
    "Note that the differential form is a first order differential equation that requires an initial condition to solve.\n",
    "\n",
    "<div class=\"alert alert-block alert-info\">\n",
    "<b>Opinion:</b> I find calculations are often most easily performed using the differential form of the balance expressions. However, we will see a few exceptions.\n",
    "</div>\n"
   ]
  },
  {
   "cell_type": "markdown",
   "id": "9f06e9b0-4885-4193-aa40-f3c61d0dc96c",
   "metadata": {},
   "source": [
    "## Example\n",
    "\n",
    "A tank initially filled with $1000$ $m^3$ of water has a valve opened at the bottom. The water drains through a pipe with a flow rate, $\\dot{V}(t)$.  The volumetric flow rate of water leaving the tank is a linear function of the liquid height, $h$, and changes as a function of time.  The initial rate of water leaving the tank was measured to be $\\dot{V}_0=1$ $m^3/s$.\n",
    "\n",
    "Calculate the time that it takes for 90% of the water to drain from the tank.\n"
   ]
  },
  {
   "cell_type": "markdown",
   "id": "2bc93355-8879-48f3-8451-14a4e12a18d9",
   "metadata": {},
   "source": [
    "### Solution to Example Problem\n",
    "\n",
    "Solution:\n",
    "\n",
    "In order to solve this problem, we first need to simplify the mass balance expression.\n",
    "\n",
    "$\\quad (1)$ $\\dfrac{dM}{dt}=\\sum_{k}\\dot{M}_k$\n",
    "\n",
    "recognizing that k=1, we can simplify to\n",
    "\n",
    "$\\quad (2)$ $\\dfrac{dM}{dt}=-\\dot{M}$\n",
    "\n",
    "Note the negative sign reflects that mass leaving the tank. \n",
    "\n",
    "Dividing both sides of the equation by the density of the fluid gives:\n",
    "\n",
    "$\\quad (3)$ $\\dfrac{dV}{dt}=-\\dot{V}_0$\n",
    "\n",
    "recognizing that the volumetric flow rate out of the tank is a linear function the liquid height, we can write (3) as:\n",
    "\n",
    "$\\quad (4)$ $\\dfrac{dV(t)}{dt}=-Ch(t)$\n",
    "\n",
    "where $C$ is an undetermined constant with units $m^2/s$\n",
    "\n",
    "Finally, we also should recognize that  where $A$  is the area of the tank, we get,\n",
    "\n",
    "$\\quad (4)$ $\\dfrac{dV(t)}{dt}=-\\dfrac{C}{A}V(t)$\n",
    "\n",
    "We are now ready to solve:\n",
    "\n",
    "$\\quad (5)$ $\\int_{V_0}^{V(t)}\\frac{dV(t)}{V\\left(t\\right)}=\\int_0^t \\dfrac{-C}{A}dt$\n",
    "\n",
    "we are left with:\n",
    "\n",
    "$\\quad (6)$ $\\ln\\left(\\dfrac{V(t)}{V_0}\\right)=-\\dfrac{C}{A}t$\n",
    "\n",
    "ok, so we need to calculate $C$ (the undetermined constant), let's proceed by rearranging (6).\n",
    "\n",
    "$\\quad (7)$ $V(t)=V_0e^{-m t}$ where $m=\\dfrac{C}{A}$\n",
    "\n",
    "Let's take the first derivative (we need the rate at t=0)\n",
    "\n",
    "$\\quad (8)$ $\\dot{V}(t)=-m V_0 e^{-m t}$ which when t=0, $\\dot{V}(t)=-m V_0$\n",
    "\n",
    "therefore, $m=-\\dfrac{\\dot{V}_0}{V_0}$ and so $m=0.001$ $1/s$.\n",
    "\n",
    "Finally, we can solve:\n",
    "\n",
    "\n",
    "$\\quad (9)$ $t_{90\\%}=\\dfrac{\\ln(0.1)}{-0.001}=2302 s$\n",
    "\n",
    "\n",
    "<div class=\"alert alert-block alert-info\">\n",
    "<b>Note:</b> This was a deceptively complex example problem but its illustrative how something that initially seems straight forward and familiar can be made slightly more complicated.\n",
    "</div>"
   ]
  }
 ],
 "metadata": {
  "kernelspec": {
   "display_name": "Python 3 (ipykernel)",
   "language": "python",
   "name": "python3"
  },
  "language_info": {
   "codemirror_mode": {
    "name": "ipython",
    "version": 3
   },
   "file_extension": ".py",
   "mimetype": "text/x-python",
   "name": "python",
   "nbconvert_exporter": "python",
   "pygments_lexer": "ipython3",
   "version": "3.9.13"
  }
 },
 "nbformat": 4,
 "nbformat_minor": 5
}
