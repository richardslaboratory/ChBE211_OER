{
 "cells": [
  {
   "cell_type": "markdown",
   "id": "b8424a93",
   "metadata": {},
   "source": [
    "# Change in Temperature of a Gas due to Expansion"
   ]
  },
  {
   "cell_type": "markdown",
   "id": "382ef8b8",
   "metadata": {},
   "source": [
    "## Applications of the Mass and Energy Balance Expression\n",
    "\n",
    "As we saw last time, when a high pressure gas is expanded its properties change. The change in property must be subject to Gibb's Phase Rule and obey the Conservation of Mass and Energy. In today's lecuture, we will explore how the expansion of a gas results in the change of other thermodynamic properties, with a special focus on the temperature of the gas after expansion. \n",
    "\n",
    "Last lecture, we simplified the macroscopic mass and energy balance expressions for three scenarios and the resulting combined mass and energy balance expressions are summarized below:\n",
    "\n",
    "1. [Steady state, adiabatic expansion of a gas across a valve](#1.1)\n",
    "\n",
    "$$\\underline{H}_2=\\underline{H}_1$$\n",
    "\n",
    "2. [Steady state, adiabatic expansion of a gas across a turbine](#1.2)\n",
    "\n",
    "$$W_s=\\dot{N}_1\\big(\\underline{H}_2-\\underline{H}_1\\big)$$\n",
    "\n",
    "3. [Transient, adiabatic expansion of a gas within a closed piston](#1.3)\n",
    "\n",
    "$$\\dfrac{dU}{dt}=-P^{ext}\\dfrac{dV}{dt}$$"
   ]
  },
  {
   "cell_type": "markdown",
   "id": "3ae1b03c",
   "metadata": {},
   "source": [
    "## Temperature change due to expansion of a gas\n",
    "\n",
    "Butane is stored lighter that is initially at $2$ $bar$ and $25$ $^o C$. When the valve is opened the liquid butane expands to atmospheric pressure.  \n",
    "\n"
   ]
  },
  {
   "cell_type": "markdown",
   "id": "e29a2a86",
   "metadata": {},
   "source": [
    "<a id=\"2.4\"></a>\n",
    "## Heat Capacities of an Ideal Gas\n",
    "    \n",
    "As discussed in chapter 1, the **heat capacities** and have the definition:\n",
    "\n",
    "$$ C_{P}=\\bigg(\\dfrac{\\partial \\underline{H}}{\\partial T}\\bigg)_{P}$$\n",
    "\n",
    "$$ C_{V}=\\bigg(\\dfrac{\\partial \\underline{U}}{\\partial T}\\bigg)_{\\underline{V}}$$\n",
    "\n",
    "As the equation above implies, the heat capacities of ideal gases are either constants or only functions of temperature. Empirical equations exist that allow for the estimation of an ideal gas at any temperature. One such equation is given as:\n",
    "\n",
    "$$C_{P}^{IG}=a+bT+cT^2+dT^3$$\n",
    "\n",
    "and by definition\n",
    "\n",
    "$$C_{V}^{IG}=C_P^{IG}-R$$\n",
    "\n",
    "Heat capacities have units of $J/(mol\\cdot K$). \n",
    "\n",
    "This combined with the ideal gas law permits the computation for the ideal gas how changes in enthalpy are linked to changes in temperature. \n",
    "\n"
   ]
  },
  {
   "cell_type": "markdown",
   "id": "820c486f",
   "metadata": {},
   "source": [
    "## Steady state, adiabatic expansion of butane across a valve\n",
    "\n",
    "### Ideal Gas\n",
    "\n",
    "For the ideal gas, the enthalpy is only a function of temperature. Therefore, we can deduce that isoenthalpic expansion will not result in a temperature change. The result is that the $T_2 = 25^o C$\n",
    "\n"
   ]
  },
  {
   "cell_type": "markdown",
   "id": "08d2856f",
   "metadata": {},
   "source": [
    "### Real Gas\n",
    "\n",
    "For the real gas, we need to download the isobars of butane at the relevant pressures. Find the enthalpy of the inlet, $\\underline{H}_1$, and then use this to interpolate to the temperature at the outlet. The code below accomplishes this task.\n"
   ]
  },
  {
   "cell_type": "markdown",
   "id": "d6fb3568",
   "metadata": {},
   "source": [
    "## Steady state, adiabatic expansion of butane across a turbine\n",
    "\n",
    "### Ideal Gas\n",
    "\n",
    "For the ideal gas, the enthalpy is only a function of temperature. In contrast to the expansion across the valve, expansion across a turbine involves shaft work. This means that $\\underline{H}_2\\ne\\underline{H}_1$. In order to know the change in enthalpy (and thus be able to calculate the temperature change, we need more information - we need to know the amount of work done per unit volumetric flow rate of gas or $\\dot{W}/\\dot{N}_1$. If we have this information, then we can proceed with the solution of the problem by recognizing that an isobaric change in temperature from some reference temperature to the temperature of interest will yield for a constant heat capacity:\n",
    "\n",
    "$$\\Delta{}\\underline{H}=\\int_{T_R}^{T_A} \\bigg(\\dfrac{d\\underline{H}}{dT}\\bigg)_P dT = C_P^{IG}(T_A-T_R)$$\n",
    "\n",
    "where $T_R$ is some reference temperature and $C_P^{IG}$ is the temperature independent ideal gas heat capacity. Recall that changes in state are path independent so that if we want to compute the change in temperature we can chose the path most convient for computation. This path consists of:\n",
    "\n",
    "1. Isobaric change of temperature from $T_1$ to some reference temperature, $T_R$.\n",
    "\n",
    "2. Isobaric change of temperature from $T_R$ to $T_2$. \n",
    "\n",
    "\n",
    "Writing the two steps in integral form yields \n",
    "\n",
    "1. $\\Delta{}\\underline{H}_1^R = \\int_{T_1}^{T_R} \\bigg(\\dfrac{d\\underline{H}}{dT}\\bigg)_P dT = C_P^{IG}(T_R-T_1)$\n",
    "\n",
    "2. $\\Delta{}\\underline{H}_R^2 = \\int_{T_R}^{T_2} \\bigg(\\dfrac{d\\underline{H}}{dT}\\bigg)_P dT = C_P^{IG}(T_2-T_R)$\n",
    "\n",
    "If we add the enthalpy change the results from these two steps, we can obtain the result that the enthalpy change is given in terms of the temperature difference of the inlet and the outlet streams.\n",
    "\n",
    "$$\\Delta\\underline{H}_1^2 = \\Delta\\underline{H}_1^R + \\Delta\\underline{H}_R^2 = C_P^{IG}(T_R-T_1)$$\n",
    "\n",
    "<div class=\"alert alert-block alert-info\">\n",
    "<b>Note:</b> Many of you will correctly recognize that I could have taken the path directly from $T_1$ to $T_2$ to evaluate the temperature change and I agree, but I have provided this example here for completeness.\n",
    "</div>\n",
    "\n",
    "Combining this all together we find that: \n",
    "\n",
    "$$\\dfrac{\\dot{W}}{\\dot{N}_1} = C_P^{IG}(T_2-T_1)$$\n"
   ]
  },
  {
   "cell_type": "markdown",
   "id": "09ed29ad",
   "metadata": {},
   "source": [
    "#### Question for Reflection\n",
    "\n",
    "How would the answer above change if the ideal gas heat capacity was temperature independent? \n",
    "\n",
    "\n",
    "Answer: We need to explicitly integrate the temperature dependence\n",
    "\n",
    "$$\\Delta{}\\underline{H}_1^2=\\int_{T_1}^{T_2} a+b\\times{}T+c\\times{}T^2+d\\times{}T^3dT$$\n",
    "\n",
    "This type of integration can be evaluated analytically by hand or using [simpy](insert link here) as shown below to find the answer. "
   ]
  },
  {
   "cell_type": "markdown",
   "id": "10cffc52",
   "metadata": {},
   "source": [
    "### Real Gas\n",
    "\n",
    "If we know the work done per unit molar flow rate, then the combined mass and energy balance expression can be rearranged to yield:\n",
    "\n",
    "$$\\underline{H}_2 = \\underline{H}_1 - \\dfrac{\\dot{W}}{\\dot{N}_1}$$\n",
    "\n",
    "Once we have the enthalpy of the outflowing stream, then the same isobar as in example 1 can be used to calculate the temperature change of the gas. The code below does this.\n"
   ]
  },
  {
   "cell_type": "code",
   "execution_count": null,
   "id": "9d10be5b",
   "metadata": {},
   "outputs": [],
   "source": [
    "_"
   ]
  }
 ],
 "metadata": {
  "kernelspec": {
   "display_name": "Python 3 (ipykernel)",
   "language": "python",
   "name": "python3"
  },
  "language_info": {
   "codemirror_mode": {
    "name": "ipython",
    "version": 3
   },
   "file_extension": ".py",
   "mimetype": "text/x-python",
   "name": "python",
   "nbconvert_exporter": "python",
   "pygments_lexer": "ipython3",
   "version": "3.9.18"
  }
 },
 "nbformat": 4,
 "nbformat_minor": 5
}
