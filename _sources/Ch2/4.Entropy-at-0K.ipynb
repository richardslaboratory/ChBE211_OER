{
 "cells": [
  {
   "cell_type": "markdown",
   "id": "203aadae-7bb2-4ded-867a-b17ebc028370",
   "metadata": {},
   "source": [
    "# Entropy at 0K\n",
    "\n",
    "The 3rd Law of Thermodynamics unlike the first two laws is not as useful for the purposes of computation \n",
    "\n",
    "Nernst defined it as\n",
    "\n",
    "> It is impossible for any procedure to lead to the isotherm $T = 0 K$ in a finite number of steps\n",
    "\n",
    "In other words, it takes an infinite number of operations to reach absolute 0.\n",
    "\n",
    "An alternative statement given by wikipedia is:\n",
    "\n",
    "> The entropy change associated with any condensed system undergoing a reversible isothermal process approaches zero as the temperature at which it is performed approaches 0 K\n",
    "\n",
    "This statement and the one above basically say that while the entropy at 0 K is identically 0 as the $W=1$, and according to Boltzmann that makes $S=0$, this state can never be reached by any physical process because as you approach absolute $0$, the ability to reduce the temperature farther requires ever more energy.\n",
    "\n",
    "In fact experiments show that the energy required to cool systems to astonishingly low temperatures $T<1 mK$ diverge as the temperature is reduced further. This confirms the statements made above.\n",
    "\n"
   ]
  }
 ],
 "metadata": {
  "kernelspec": {
   "display_name": "Python 3 (ipykernel)",
   "language": "python",
   "name": "python3"
  },
  "language_info": {
   "codemirror_mode": {
    "name": "ipython",
    "version": 3
   },
   "file_extension": ".py",
   "mimetype": "text/x-python",
   "name": "python",
   "nbconvert_exporter": "python",
   "pygments_lexer": "ipython3",
   "version": "3.9.13"
  }
 },
 "nbformat": 4,
 "nbformat_minor": 5
}
