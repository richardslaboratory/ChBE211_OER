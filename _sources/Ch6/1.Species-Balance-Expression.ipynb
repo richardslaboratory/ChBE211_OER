{
 "cells": [
  {
   "cell_type": "markdown",
   "id": "39e5b7ad-aaf4-462e-a42d-839c504e9a7f",
   "metadata": {},
   "source": [
    "# Species Balance Expression and Reaction Kinetics\n",
    "\n",
    "Conservation laws are balance expressions where the $\\dot{\\theta}_{gen}=0$ or the rate of generation or consumption of $\\theta$ within the control volume is 0. \n",
    "\n",
    "The conservation of mass is intuitive, but it follows from the derivation of the balance expression via the statement that we set $\\theta=M_i$ for the total mass or $\\theta=N_i$ for the total number of moles.\n"
   ]
  },
  {
   "cell_type": "markdown",
   "id": "1938e8ee",
   "metadata": {},
   "source": [
    "## Species Balance Expression\n",
    "\n",
    "The *differential form* of the balance expression is given as:\n",
    "\n",
    "$\\quad\\quad \\dfrac{d\\theta}{dt}=\\sum_k\\dot{\\theta}_k+\\dot{\\theta}_{gen}$\n",
    "\n",
    "Substituting the number of moles of species $i$, $N_i$, for $\\theta$, we arrive at the statement of the species balance expression:\n",
    "\n",
    "$\\quad\\quad \\dfrac{dN_i}{dt}=\\sum_k(\\dot{N_i})_k+\\dot{N}_{i,gen}$\n",
    "\n",
    "<div class=\"alert alert-block alert-info\">\n",
    "<b>Note:</b> Now the generation and consumption term is not zero. \n",
    "</div>"
   ]
  },
  {
   "cell_type": "markdown",
   "id": "11e9ccd8",
   "metadata": {},
   "source": [
    "## Illustration Problem\n"
   ]
  },
  {
   "cell_type": "code",
   "execution_count": null,
   "id": "1874f70b",
   "metadata": {},
   "outputs": [],
   "source": []
  }
 ],
 "metadata": {
  "kernelspec": {
   "display_name": "Python 3 (ipykernel)",
   "language": "python",
   "name": "python3"
  },
  "language_info": {
   "codemirror_mode": {
    "name": "ipython",
    "version": 3
   },
   "file_extension": ".py",
   "mimetype": "text/x-python",
   "name": "python",
   "nbconvert_exporter": "python",
   "pygments_lexer": "ipython3",
   "version": "3.9.13"
  }
 },
 "nbformat": 4,
 "nbformat_minor": 5
}
