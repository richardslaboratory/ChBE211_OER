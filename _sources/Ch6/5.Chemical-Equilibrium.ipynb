{
 "cells": [
  {
   "cell_type": "markdown",
   "id": "39e5b7ad-aaf4-462e-a42d-839c504e9a7f",
   "metadata": {},
   "source": [
    "# Chemical Equilibrium"
   ]
  }
 ],
 "metadata": {
  "kernelspec": {
   "display_name": "Python 3 (ipykernel)",
   "language": "python",
   "name": "python3"
  },
  "language_info": {
   "codemirror_mode": {
    "name": "ipython",
    "version": 3
   },
   "file_extension": ".py",
   "mimetype": "text/x-python",
   "name": "python",
   "nbconvert_exporter": "python",
   "pygments_lexer": "ipython3",
   "version": "3.9.7"
  }
 },
 "nbformat": 4,
 "nbformat_minor": 5
}
