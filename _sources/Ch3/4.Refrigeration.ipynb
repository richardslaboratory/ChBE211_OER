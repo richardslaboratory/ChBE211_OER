{
 "cells": [
  {
   "cell_type": "markdown",
   "id": "2bc3777f-5ecf-4a6a-8288-e6f5a1759987",
   "metadata": {},
   "source": [
    "# Refrigeration"
   ]
  }
 ],
 "metadata": {
  "kernelspec": {
   "display_name": "Python 3 (ipykernel)",
   "language": "python",
   "name": "python3"
  },
  "language_info": {
   "codemirror_mode": {
    "name": "ipython",
    "version": 3
   },
   "file_extension": ".py",
   "mimetype": "text/x-python",
   "name": "python",
   "nbconvert_exporter": "python",
   "pygments_lexer": "ipython3",
   "version": "3.9.13"
  }
 },
 "nbformat": 4,
 "nbformat_minor": 5
}
