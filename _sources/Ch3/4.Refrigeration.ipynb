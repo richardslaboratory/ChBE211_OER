{
 "cells": [
  {
   "cell_type": "markdown",
   "id": "2bc3777f-5ecf-4a6a-8288-e6f5a1759987",
   "metadata": {},
   "source": [
    "# Refrigeration\n",
    "\n"
   ]
  },
  {
   "cell_type": "markdown",
   "id": "d40e6185",
   "metadata": {},
   "source": [
    "## Coefficient of Performance"
   ]
  },
  {
   "cell_type": "markdown",
   "id": "21bda747",
   "metadata": {},
   "source": [
    "## Rankine Refrigeration Cycle\n",
    "\n",
    "The Rankine Refrigeration cycle is depicted below, it consists of the following pathways.\n",
    "\n",
    "<img src=\"images/Rankine Refrigeration Cycle.png\" width=\"500\" >\n",
    "\n",
    "\n",
    "- $1\\rightarrow 2$: *Isoenthalpic* expansion of a high pressure liquid across a valve\n",
    "\n",
    "- $2\\rightarrow 3$: *Isobaric* boiling of a liquid/vapor mixture to form a low pressure vapor\n",
    "\n",
    "- $3\\rightarrow 4$: *Isoentropic* compression of a low pressure vapor to generate a high pressure vapor\n",
    "\n",
    "- $4\\rightarrow 1$: *Isobaric* cooling of a high pressure vapor to form a high pressure liquid \n",
    "\n",
    "The Rankine Refrigeration cycle operates in the opposite direction from the Ranking Power cycle following the pathways in the table below. Note I use a slightly different notation here to emphasize that the condenser is expected to expel heat to a warm place relative to the boiler that is extracting heat from a cold place.\n",
    "\n",
    "\n",
    "| Step   | Pathway        | $T$ | $P$ | $\\underline{V}$ | $\\underline{S}$ | $\\underline{U}$ |\n",
    "| :-:    | :-:                | :-: | :-: | :-:             | :-:             | :-:             |\n",
    "| 1      | | $T_C$ | $P_{1}$ | $\\underline{V}_1$  | $0$ | $0$ |\n",
    "| 1-2    | Isoenthalpic |  | |  |  |  | \n",
    "| 2      | | $T_C$|  $P_2=K P_{1}$ | $\\dfrac{RT_C}{P_2}$  | $-R\\ln{K}$ | $0$ | \n",
    "| 2-3    | Isobaric |  | |  |  |  |\n",
    "| 3      | | $T_H$ | $P_3=P_2\\bigg(\\dfrac{T_H}{T_C}\\bigg)^{C_{p}^{IG}/R}$ | $\\dfrac{RT_H}{P_3}$  | $-R\\ln{K}$ | $C_v^{IG}(T_H-T_C)$ | \n",
    "| 3-4    | Isoentropic |  | |  |  |  |\n",
    "| 4      | | $T_H$ | $P_4=P_1\\bigg(\\dfrac{T_H}{T_C}\\bigg)^{C_{p}^{IG}/R}$ | $\\dfrac{RT_H}{P_4}$  | $0$ | $C_v^{IG}(T_H-T_C)$ | \n",
    "| 4-1    | Isobaric |  | |  |  |  | \n",
    "\n",
    "\n",
    "\n",
    "\t\n",
    "\n",
    "The figure of merit for a refrigeration cycle is given by the **coefficient of performance (C.O.P.)**:\n",
    "\n",
    " (note in the book this is \n",
    " \n",
    " $$C.O.P. = \\frac{\\dot{Q}}{\\dot{W}_s} = \\frac{\\underline{H}_3-\\underline{H}_2}{\\underline{H}_4-\\underline{H}_3}$$\n",
    "\n",
    "The T-S and P-H diagrams are instructive to understand what is happening:\n",
    "\n",
    "<img src=\"images/TS - Rankine Refrigeration Cycle.png\" width=\"800\" >\n",
    "\n",
    "### Understanding modern refrigeration\n"
   ]
  },
  {
   "cell_type": "markdown",
   "id": "b6563d67",
   "metadata": {},
   "source": [
    "## Heat Pumps (cooling)\n",
    "\n",
    "Heat Pumps:\n",
    "\n",
    "In analogy to heat engines which extract work from the motion of heat from a hot reservoir to a cold reservoir, the Coefficient of Performance (COP) is defined by the ratio of the desired output to the necessary input. \n",
    "\n",
    "\n",
    "\n",
    "\n",
    "Refrigerators (Heat Pumps for Cooling):\n",
    "A class of heat pump that uses fluids to perform cooling\n",
    "How they work?\n",
    "Boiling a volatile liquid extracts heat from a desired system\n",
    "The resulting low pressure, superheated vapor is compressed to high pressures and then expanded through a valve\n",
    "The high pressure, superheated vapor is then cooled (usually by a fan) to reduce its temperature\n",
    "The cool, high pressure gas is expanded through the valve to generate a liquid/vapor mixture that can be cycled back into the boiler.\n",
    "\n",
    "Constraints on Refrigerants (fluids used in refrigerators):\n",
    "\n",
    "Refrigerant vapor pressure\n",
    "In the boiler, the vapor pressure needs to be ~ 1 atm so air doesn’t leak into the system.\n",
    "The hot temperature is the temperature of the environment so ideally the critical temperature is below TH\n",
    "The fluid must be very volatile\n",
    "Must be non-toxic and environmentally friendly watch this video. Ozone Depletion\n"
   ]
  }
 ],
 "metadata": {
  "kernelspec": {
   "display_name": "Python 3 (ipykernel)",
   "language": "python",
   "name": "python3"
  },
  "language_info": {
   "codemirror_mode": {
    "name": "ipython",
    "version": 3
   },
   "file_extension": ".py",
   "mimetype": "text/x-python",
   "name": "python",
   "nbconvert_exporter": "python",
   "pygments_lexer": "ipython3",
   "version": "3.9.13"
  }
 },
 "nbformat": 4,
 "nbformat_minor": 5
}
