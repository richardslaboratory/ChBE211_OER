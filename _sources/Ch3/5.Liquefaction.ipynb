{
 "cells": [
  {
   "cell_type": "markdown",
   "id": "bf77e10e-37cc-4dad-819a-5d97c7a7bb86",
   "metadata": {},
   "source": [
    "# Liquefaction"
   ]
  }
 ],
 "metadata": {
  "kernelspec": {
   "display_name": "Python 3 (ipykernel)",
   "language": "python",
   "name": "python3"
  },
  "language_info": {
   "codemirror_mode": {
    "name": "ipython",
    "version": 3
   },
   "file_extension": ".py",
   "mimetype": "text/x-python",
   "name": "python",
   "nbconvert_exporter": "python",
   "pygments_lexer": "ipython3",
   "version": "3.9.13"
  }
 },
 "nbformat": 4,
 "nbformat_minor": 5
}
