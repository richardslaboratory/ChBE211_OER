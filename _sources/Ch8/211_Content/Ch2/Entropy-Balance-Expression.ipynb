{
 "cells": [
  {
   "cell_type": "markdown",
   "id": "cc7d1449-5aa8-4149-b287-4afaf31a867a",
   "metadata": {},
   "source": [
    "# Balance Expression for Entropy\n",
    "\n",
    "The 2nd Law of Thermodynamics, the balance expression for entropy, and the 1st law of thermodynamics, the *conservation of energy*, are the foundation of thermodynamics. When combine with *conservation of mass*, we become fully equipped to solve thermodynamic problems. "
   ]
  },
  {
   "cell_type": "markdown",
   "id": "b8279671",
   "metadata": {},
   "source": [
    "## Definition of Entropy\n",
    "\n",
    "### Clausius Definition\n",
    "Entropy, whose name arises from the Greek word for *transformation*, is deeply connected to the microscopic description of a state of matter and its order/disorder.\n",
    "\n",
    "Clausis put it this way:\n",
    "\n",
    "> when bodies are expanded by heat, their molecules being thus separated from each other: in this case the mutual attractions of the molecules on the one hand, and external opposing forces on the other, insofar as any such are in operation, have to be overcome. Again, the state of aggregation of bodies is altered by heat, solid bodies rendered liquid, and both solid and liquid bodies being rendered aeriform: here likewise internal forces, and in general external forces also, have to be overcome.\n",
    "\n",
    "In other words, there is an energy penalty that must be paid in order to overcome the localized structure that arises from the constituents of a material and how its buildings blocks behave in the ensemble. \n",
    "\n",
    "\n",
    "### More Practical Definition\n",
    "\n",
    "To gain some intuition about the nature of entropy, I find [this video](https://www.pbs.org/video/the-misunderstood-nature-of-entropy-nyv9bu/) to be particularly helpful - \n",
    "\n",
    "Entropy is the state property that increases with time as an isolated system evolves toward equilibrium.\n",
    "\n",
    "### Mathematical Definition\n",
    "\n",
    "When a system is at equilibrium, we define entropy such that it is at a maximum. Mathematically, we say that in an isolated system, the system will evolve to equilibrium such that:\n",
    "\n",
    "1. $dS = 0$  \n",
    "\n",
    "2. $d^2 S < 0$ \n",
    "\n",
    "These two criteria establish that entropy is the property that defines equilibrium, but there are many scenarios where the system is driven either by mass, heat, or work flows such that the above criteria are not satisfied. In these scenarios, we often find that entropy is *generated*. "
   ]
  },
  {
   "cell_type": "markdown",
   "id": "97dfdfc3",
   "metadata": {},
   "source": [
    "## Reversibility:\n",
    "\n",
    "\n",
    "Watch - https://www.youtube.com/watch?v=ROrovyJXSnM\n",
    "\n",
    "\n",
    "### Gradients and Entropy Generation\n",
    "Entropy generation is a direct consequence of systems which possess internal gradients that drive material flows. Generally, the larger the gradients, the more irreversible the process. As chemical engineers, the design and maintenance of chemical, thermal, and momentum gradients are critical to the function of many unit operations. In turn, larger gradients lead to energy losses through entropy generation. Reversible processes are those which are performed in a way that internal gradients within a system are eliminated. \n",
    "\n",
    "\n",
    "### The Arrow of Time\n",
    "Time is an arrow that points in only one direction. Time has an intimate relationship with entropy due to its connection to the evolution of systems toward equilibrium. Take for example, a dye localized in a liquid depicted in the left panel image below. We all have intuition that that over time, the dye would diffuse away from that central position, resulting in a diffuse halo of dye that ultimately becomes uniformly mixed with the dispersing fluid. The equilibrium condition is the one where the dye has been uniformly mixed with the continuous liquid phase. \n",
    "\n",
    "**Reversible processes** are ones that are indistinguishable when played in the forward vs. reverse direction. Reversibility necessitates the elimination of all gradients within the samples.\n",
    "\n",
    "**Irreversible processess** are all real processes. Irreversible processes cause the generation of entropy."
   ]
  },
  {
   "cell_type": "markdown",
   "id": "9ae7e610",
   "metadata": {},
   "source": [
    "## Balance Expression for Entropy\n",
    "\n",
    "The construction of the balance expression requires that we set $\\theta=S$, but unlike for mass and energy, we will retain the possibility that irreversibilities will generate entropy, $\\dot{S}_{gen}\\ge 0$.\n",
    "\n",
    "We must also recognize based on the definitions above that the flow of entropy is effected by the exchange of heat at a fixed temperature. This observation, first formalized by Clausius, completes the formulation of the entropy balance expression.\n",
    "\n",
    "$$ \\dfrac{dS}{dt}=\\sum_k \\big(\\dot{N}\\underline{S}\\big)+\\sum_j\\dfrac{\\dot{Q}_j}{T_j}+\\dot{S}_{gen}$$\n",
    "\n",
    "This expression in its *differential form* is the most general statement of the entropy balance expression.\n",
    "\n",
    "- On the l.h.s. \n",
    "\n",
    "    - $\\dfrac{dS}{dt}$ tracks the change of entropy within a system as a function of time\n",
    "\n",
    "- On the r.h.s.,\n",
    "\n",
    "    - $\\sum_k \\big(\\dot{N}\\underline{S}\\big)$ is the entropy carried into the system across the boundary due to the flow of mass\n",
    "    \n",
    "    - $\\sum_j\\dfrac{\\dot{Q}_j}{T_j}$ is the entropy carried across the system boundary due to the flow of heat\n",
    "    \n",
    "    - $\\dot{S}_{gen}$ is the rate of entropy generated within the system due to internal gradients in mass, concentration, temperature, or velocity.\n",
    "    \n",
    "    \n",
    "### Conservation of Entropy\n",
    "\n",
    "For reversible processes, the entropy balance expression becomes a *conservation law* and the conservation of entropy can be written as: \n",
    "\n",
    "$$ \\dfrac{dS}{dt}=\\sum_k \\big(\\dot{N}\\underline{S}\\big)+\\sum_j\\dfrac{\\dot{Q}_j}{T_j}$$\n",
    "\n",
    "While there is no more fundamental fact of thermodynamics that **entropy is not conserved**, in this class we frequently use this form of the entropy balance expression. This form is useful because if we can use the reversible process to compute state property changes that occur due to physical processes, then we can compare those hypothetical processes to our real processes to identify irreversibilities and potentially eliminate them."
   ]
  },
  {
   "cell_type": "markdown",
   "id": "ec7b769c",
   "metadata": {},
   "source": [
    "## The Microscopic Entropy Balance\n",
    "\n",
    "Boltzmann defined the entropy at a microscopic level as:\n",
    "\n",
    "$S=k_B \\ln{W}$ \n",
    "\n",
    "where \n",
    "\n",
    "- $k_B$ is the Boltzmann's constant\n",
    "\n",
    "- $W$ is the multiplicity\n",
    "\n",
    "The **multiplicity** defines the number of permutations of possible configurations or **microstates** (degrees of freedom) which define a system that are consistent with the system state.  It can be written for an *ideal gas* as:\n",
    "\n",
    "- $W=\\dfrac{N!}{\\Pi_i N_i!}$ where the $!$ is the factorial and the $i$ represents the set of microstates.\n",
    "\n",
    "- Each unique configuration is called **microstate** which in the context of vapors and liquids is a description of the positions and velocities of all the atoms within a volume. \n",
    "\n",
    "- As the density of substance increases, the number of accessible microstates decreases resulting in a decrease in entropy. This is the origin of the statement that entropy describes the *disorder* of a system. This is a simplified view as individual microstates can adopt ordered configurations. For a system in equilibrium, even a highly ordered state that is described by the macroscopic state of the system is equally likely as a highly disordered one.\n",
    "\n",
    "- Using this microscopic viewpoint, **Equilibrium** is the condition defined as when the multiplicity reaches a maximum or put in words the system will evolve to the state where the multiplicity is maximized.\n",
    "\n",
    "We can see that the condition for equilibrium defined above is satisfied by Boltzmann's definition provided that $W\\ge1$.\n",
    "\n",
    "- $\\dfrac{dS}{dt} =  \\dfrac{k_B}{W}\\dfrac{dW}{dt}$ \n",
    "\n",
    "    - which by the definition of equilibrium $\\dfrac{dW}{dt}>0$ so that $\\dfrac{dS}{dt}>0$\n",
    "    \n",
    "- $\\dfrac{d^2 S}{dt^2} = k_B -\\dfrac{1}{W^2}$"
   ]
  }
 ],
 "metadata": {
  "kernelspec": {
   "display_name": "Python 3 (ipykernel)",
   "language": "python",
   "name": "python3"
  },
  "language_info": {
   "codemirror_mode": {
    "name": "ipython",
    "version": 3
   },
   "file_extension": ".py",
   "mimetype": "text/x-python",
   "name": "python",
   "nbconvert_exporter": "python",
   "pygments_lexer": "ipython3",
   "version": "3.9.7"
  }
 },
 "nbformat": 4,
 "nbformat_minor": 5
}
