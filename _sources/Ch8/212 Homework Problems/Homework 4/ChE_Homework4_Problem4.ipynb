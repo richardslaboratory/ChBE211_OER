{
 "cells": [
  {
   "cell_type": "markdown",
   "id": "6139c59a",
   "metadata": {},
   "source": [
    "## Problem Statement:\n",
    "\n",
    "You are distilling the following 4-component mixture:\n",
    "\n",
    "| Component No. | Name     | Feed mole fraction | Relative volatility |\n",
    "|---------------|----------|--------------------|---------------------|\n",
    "| 1             | Methane  | 0.229              | $\\alpha_{12}$ = 9.92          |\n",
    "| 2             | Propane  | 0.368              | $\\alpha_{22}$ = 1.0           |\n",
    "| 3             | n-Butane | 0.322              | $\\alpha_{32}$ = 0.49          |\n",
    "| 4             | n-Hexane | 0.081              | $\\alpha_{42}$ = 0.1           |\n",
    "\n",
    "The column operates with a total condenser (the reflux is a saturated liquid) and a partial reboiler. The reflux ratio is 1.5. The feed is a saturated liquid entering the column at 50 kmol/hr\n",
    "\n",
    "Your design goals are fractional recoveries of 87.91% of the n-butane in the bottoms and 98.54 of the propane in the distillate.\n",
    "\n",
    "Use the Fenske/Underwood/Gilliland methods to find $N_{min}$, $r_{min}$, and N (the number of theoretical equilibrium stages required to achieve this separation - does not need to be a whole number), and state how many trays the column should have. Perform these calculations without using HYSYS and state any assumptions (if needed)."
   ]
  },
  {
   "cell_type": "markdown",
   "id": "bbb32a1f",
   "metadata": {},
   "source": [
    "Equations we need\n",
    "\n",
    "$N_{min} = \\frac{\\ln(\\frac{f_{d,a}}{f_{b,b}})}{\\ln(\\alpha_{a,b})}$"
   ]
  },
  {
   "cell_type": "code",
   "execution_count": 1,
   "id": "8b269f3c",
   "metadata": {},
   "outputs": [],
   "source": [
    "## let's define what we know\n",
    "\n",
    "r = 1.5 ## reflux ratio\n",
    "F = 50 ## kmol/hr, feed rate\n",
    "fb3 = .8791 ## desired fraction of n-butane in bottoms\n",
    "fd2 = .9854 ## desired fraction of propane in distillate"
   ]
  },
  {
   "cell_type": "code",
   "execution_count": 3,
   "id": "83e3909f",
   "metadata": {},
   "outputs": [
    {
     "name": "stdout",
     "output_type": "stream",
     "text": [
      "f Nmin: {Nmin}\n"
     ]
    }
   ],
   "source": [
    "## find N_min\n",
    "\n",
    "## here, a is 2 (propane) and b is 3 (n-butane)\n",
    "\n",
    "import numpy as np\n",
    "\n",
    "Nmin = np.log((fd2*fb3)/((1-fb3)*(1-fd2)))/(np.log(1/.49))\n",
    "print('f Nmin: {Nmin}')"
   ]
  },
  {
   "cell_type": "code",
   "execution_count": null,
   "id": "b9616682",
   "metadata": {},
   "outputs": [],
   "source": []
  }
 ],
 "metadata": {
  "kernelspec": {
   "display_name": "Python 3 (ipykernel)",
   "language": "python",
   "name": "python3"
  },
  "language_info": {
   "codemirror_mode": {
    "name": "ipython",
    "version": 3
   },
   "file_extension": ".py",
   "mimetype": "text/x-python",
   "name": "python",
   "nbconvert_exporter": "python",
   "pygments_lexer": "ipython3",
   "version": "3.9.6"
  }
 },
 "nbformat": 4,
 "nbformat_minor": 5
}
