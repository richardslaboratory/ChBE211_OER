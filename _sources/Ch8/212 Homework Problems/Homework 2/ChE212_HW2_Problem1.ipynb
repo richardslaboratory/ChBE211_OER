{
 "cells": [
  {
   "cell_type": "markdown",
   "id": "6debfeb3",
   "metadata": {},
   "source": [
    "# ChE 212: Homework 2 Problem 1\n",
    "\n",
    "# Problem Statement:\n",
    "\n",
    "A binary mixture of 40 mol% vinylacetylene and 60 mol% toluene is to be flashed at 1 atm pressure and 60C. The Vapor-Liquid Equilibrium (VLE) is adequately represented by Raoult's Law, with the Antoine coefficients for vapor pressures given in the table below.\n",
    "\n",
    "a) Solve the Rachford-Rice equations for the fraction of the feed that is vapor ($\\phi$) and for the composition of the vapor and liquid streams leaving the flash vessel.\n",
    "\n",
    "b) Repeat the calculations at the same T and P, but with feed compositions of 30 mol% and 50 mol% vinylacetylene.\n",
    "\n",
    "Antoine Coefficient Data (P in mmHg, T in C)\n",
    "\n",
    "|   | Toluene | Vinylacetylene |\n",
    "|---|---------|----------------|\n",
    "| A | 6.95087 | 7.02515        |\n",
    "| B | 1342.31 | 999.110        |\n",
    "| C | 219.187 | 235.817        |"
   ]
  },
  {
   "cell_type": "markdown",
   "id": "04f44a14",
   "metadata": {},
   "source": [
    "## Let's import Python packages we might need"
   ]
  },
  {
   "cell_type": "code",
   "execution_count": 13,
   "id": "aca542e5",
   "metadata": {},
   "outputs": [],
   "source": [
    "import numpy as np\n",
    "import matplotlib.pyplot as plt"
   ]
  },
  {
   "cell_type": "markdown",
   "id": "fc9e1a7c",
   "metadata": {},
   "source": [
    "## Set up Rachford-Rice Equation\n",
    "\n",
    "$$\\begin{equation}\n",
    "    Fz_i = Vy_i + Lx_i \\label{Fzi} \\\\\n",
    "\\end{equation}$$\n",
    "$$\\begin{equation}\n",
    "    z_i = \\frac{V}{F}y_i + \\frac{L}{F}x_i \\label{zi}\n",
    "\\end{equation}$$\n",
    "\n",
    "Define:\n",
    "$$\\begin{equation}\n",
    "    V = \\phi F \\label{V} \\\\\n",
    "\\end{equation}$$\n",
    "$$\\begin{equation}\n",
    "    \\phi = \\frac{V}{F} \\label{phi}\n",
    "\\end{equation}$$\n",
    "\n",
    "And:\n",
    "$$\\begin{equation}\n",
    "    L =F-V \\label{L} \\\\\n",
    "\\end{equation}$$\n",
    "$$\\begin{equation}\n",
    "    L=F-\\phi F = F(1-\\phi) \\label{Lsub}\n",
    "\\end{equation}$$\n",
    "\n",
    "Plug in Equation \\ref{phi}\n",
    "$$\\begin{equation}\n",
    "    \\frac{L}{F} = (1-\\phi) \\label{Lsub2}\n",
    "\\end{equation}$$\n",
    "\n",
    "And: \n",
    "\n",
    "$$\\begin{equation}\n",
    "    z_i = \\phi y_i + (1-\\phi)x_i \\label{ziphi}\n",
    "\\end{equation}$$\n",
    "\n",
    "We know Raoult's Law:\n",
    "\n",
    "$$\\begin{equation}\n",
    "    Py_i = P_i^{sat}x_i \\label{Psat}\n",
    "\\end{equation}$$\n",
    "\n",
    "Rearrange for $y_i$:\n",
    "$$\\begin{equation}\n",
    "    y_i = \\frac{P_i^{sat}}{P}x_i = K_ix_i \\label{Ki}\n",
    "\\end{equation}$$\n",
    "where $K_i$ is the equilibrium value - which is constant for ideal mixtures at a single T and P\n",
    "\n",
    "Substitute Equation $\\ref{eq:Ki}$ into Equation $\\ref{eq:ziphi}$\n",
    "\n",
    "$$\\begin{equation}\n",
    "    z_i = \\phi K_ix_i + (1-\\phi)x_i \\label{ziKi}\n",
    "\\end{equation}$$\n",
    "\n",
    "$$\\begin{equation}\n",
    "    z_i = x_i(\\phi K_i + (1-\\phi)) = x_i(1 + \\phi(K_i-1)) \\label{ziKi2}\n",
    "\\end{equation}$$\n",
    "\n",
    "Now:\n",
    "\n",
    "$$\\begin{equation}\n",
    "    x_i = \\frac{z_i}{1+\\phi(K_i-1)} \\label{xiziKi}\n",
    "\\end{equation}$$\n",
    "\n",
    "$$\\begin{equation}\n",
    "    y_i = \\frac{K_iz_i}{1+\\phi(K_i-1)} \\label{yiziKi}\n",
    "\\end{equation}$$\n",
    "\n",
    "And we know:\n",
    "$$\\begin{equation}\n",
    "    \\sum y_i - \\sum x_i = 0 \\label{sum}\n",
    "\\end{equation}$$\n",
    "\n",
    "Plugging in everything:\n",
    "$$\\begin{equation}\n",
    "    \\sum_{i} \\frac{z_i(K_i - 1)}{1+\\phi(K_i - 1)} = 0 \\label{RRE}\n",
    "\\end{equation}$$\n",
    "\n",
    "We get the Rachford-Rice Equation!"
   ]
  },
  {
   "cell_type": "markdown",
   "id": "effdff80",
   "metadata": {},
   "source": [
    "## What Variables Do We Need To Define?\n",
    "\n",
    "Let \"1\" be Toluene and \"2\" be Vinylacetylene"
   ]
  },
  {
   "cell_type": "code",
   "execution_count": 110,
   "id": "9fea5660",
   "metadata": {},
   "outputs": [],
   "source": [
    "## Temperature and Pressure\n",
    "T = 60 #C\n",
    "P = 1 #atm\n",
    "\n",
    "## Antoine Coefficients\n",
    "A_tol = 6.95087\n",
    "B_tol = 1342.31\n",
    "C_tol = 219.2\n",
    "A_va = 7.02515\n",
    "B_va = 999.11\n",
    "C_va = 235.817\n",
    "\n",
    "## Entering Mol Fractions\n",
    "z1 = .6\n",
    "z2 = 1 - z1\n",
    "\n",
    "## A basis\n",
    "Basis = 1000 ##kmol/hr"
   ]
  },
  {
   "cell_type": "markdown",
   "id": "2b8dfadb",
   "metadata": {},
   "source": [
    "## We can solve for $P^{sat}$, $K_i$, and $F$ using our equations above."
   ]
  },
  {
   "cell_type": "code",
   "execution_count": 87,
   "id": "fd14ddf8",
   "metadata": {},
   "outputs": [],
   "source": [
    "## Saturated Pressures using Antoine Equation\n",
    "\n",
    "Psat_tol_mmHg = 10**(A_tol - B_tol/(T+C_tol)) ## mmHg\n",
    "Psat_tol = Psat_tol_mmHg/760 ## atm\n",
    "\n",
    "Psat_va_mmHg = 10**(A_va - B_va/(T+C_va)) ## mmHg\n",
    "Psat_va = Psat_va_mmHg/760 ## atm\n",
    "\n",
    "## Ki = Psat/P\n",
    "\n",
    "K1 = Psat_tol/P ## unitless\n",
    "K2 = Psat_va/P ## unitless\n",
    "\n",
    "## F\n",
    "\n",
    "F_tol = z_tol * Basis ## kmol/hr\n",
    "F_va = z_va * Basis ## kmol/hr"
   ]
  },
  {
   "cell_type": "markdown",
   "id": "e11bcadb",
   "metadata": {},
   "source": [
    "## What's $\\phi$? We have to find it using the Rachford-Rice Equation and iteration\n",
    "\n",
    "We need to make\n",
    "$$\\frac{z_1(K_1-1)}{(1+\\phi(K_1-1))} = \\frac{z_2(K_2-1)}{(1+\\phi(K_2-1))}$$"
   ]
  },
  {
   "cell_type": "markdown",
   "id": "d1c91074",
   "metadata": {},
   "source": [
    "## We use a similar approach to Homework 1 Problem 3"
   ]
  },
  {
   "cell_type": "markdown",
   "id": "15a103c9",
   "metadata": {},
   "source": [
    "## Let's define a function that will help solve for $\\phi$. Here's we'll move the $z_2$ equation to the other side to solve\n",
    "\n",
    "$$\\frac{z_1(K_1-1)}{(1+\\phi(K_1-1))} + \\frac{z_2(K_2-1)}{(1+\\phi(K_2-1))} = 0$$\n",
    "\n",
    "## A minimization problem!"
   ]
  },
  {
   "cell_type": "code",
   "execution_count": 88,
   "id": "c8639490",
   "metadata": {},
   "outputs": [],
   "source": [
    "def phi_solver(phi,z1,z2):\n",
    "    z1eq = (z1*(K1-1))/(1+(phi*(K1-1)))\n",
    "    z2eq = (z2*(K2-1))/(1+(phi*(K2-1)))\n",
    "    diff = abs(z1eq + z2eq) ## this is what we want to minimize\n",
    "    return diff"
   ]
  },
  {
   "cell_type": "markdown",
   "id": "8faa8969",
   "metadata": {},
   "source": [
    "## We need to define an initial guess array. We don't know what $\\phi$ might be, so we might make a guess that $\\phi$ is between 0 and 1. We choose 1000 increments between 0 and 1 to be evaluated\n",
    "#### Note: 1000 increments is arbitrary. One can choose any positive integer!"
   ]
  },
  {
   "cell_type": "code",
   "execution_count": 89,
   "id": "76baf201",
   "metadata": {},
   "outputs": [],
   "source": [
    "phi_guess = np.linspace(0,1,1000) # phi can only be between 0 and 1"
   ]
  },
  {
   "cell_type": "markdown",
   "id": "c75245a9",
   "metadata": {},
   "source": [
    "## Let's solve for $\\phi$!"
   ]
  },
  {
   "cell_type": "code",
   "execution_count": 90,
   "id": "0c05251d",
   "metadata": {},
   "outputs": [
    {
     "name": "stdout",
     "output_type": "stream",
     "text": [
      "Phi: 0.365\n"
     ]
    }
   ],
   "source": [
    "min_diff = 1000 ## we define a variable min_diff that sets a baseline our difference comparison\n",
    "\n",
    "for i in range(0,len(phi_guess)):\n",
    "    diff_out = phi_solver(phi_guess[i],z1,z2) ## using the function above pull out phi\n",
    "    if diff_out < min_diff: ## if we reach a new minimum (less than the previous min_diff)\n",
    "        min_diff = diff_out ## we establish whatever difference from the function output as the new min_diff\n",
    "        phi = phi_guess[i] ## this pulls out the phi at that minimum difference\n",
    "\n",
    "\n",
    "## rounding phi to not have so many decimals\n",
    "phi = round(phi,3) ## three decimals\n",
    "print(f\"Phi: {phi}\") ## this prints the phi that satisfies the Rachford Rice Equation"
   ]
  },
  {
   "cell_type": "markdown",
   "id": "91754f49",
   "metadata": {},
   "source": [
    "## Great, we have $\\phi$! Now we can solve for $x_i$ and $y_i$"
   ]
  },
  {
   "cell_type": "code",
   "execution_count": 91,
   "id": "9db81886",
   "metadata": {},
   "outputs": [],
   "source": [
    "x1 = z1/(1+(phi*(K1-1)))\n",
    "x2 = 1 - x1 ## because mol fractions have to add up to 1\n",
    "y1 = K1*x1\n",
    "y2 = 1 - y1\n",
    "\n",
    "## Let's round to two decimals so we don't have really long numbers\n",
    "x1 = round(x1,2)\n",
    "x2 = round(x2,2)\n",
    "y1 = round(y1,2)\n",
    "y2 = round(y2,2)"
   ]
  },
  {
   "cell_type": "code",
   "execution_count": 92,
   "id": "c09f300c",
   "metadata": {},
   "outputs": [
    {
     "name": "stdout",
     "output_type": "stream",
     "text": [
      "Toluene x: 0.85, y: 0.16\n",
      "Vinylacetylene x: 0.15, y: 0.84\n"
     ]
    }
   ],
   "source": [
    "print(f\"Toluene x: {x1}, y: {y1}\")\n",
    "print(f\"Vinylacetylene x: {x2}, y: {y2}\")"
   ]
  },
  {
   "cell_type": "markdown",
   "id": "8f892eff",
   "metadata": {},
   "source": [
    "## So that was part a. Let's move onto part b - which isn't too bad because we already did the hard work! Everything is the same but our $z_1$ and $z_2$"
   ]
  },
  {
   "cell_type": "code",
   "execution_count": 109,
   "id": "096c0a86",
   "metadata": {},
   "outputs": [
    {
     "name": "stdout",
     "output_type": "stream",
     "text": [
      "Phi: 0.223\n",
      "Toluene x: 0.86, y: 0.16\n",
      "Vinylacetylene x: 0.14, y: 0.84\n"
     ]
    }
   ],
   "source": [
    "## when z_va = .3\n",
    "\n",
    "## changing the z values\n",
    "z1 = .7\n",
    "z2 = 1 - z1 \n",
    "\n",
    "## solve for phi\n",
    "min_diff = 1000 ## have to reset this!\n",
    "\n",
    "for i in range(0,len(phi_guess)):\n",
    "    diff_out = phi_solver(phi_guess[i],z1,z2) ## using the function above pull out phi\n",
    "    if diff_out < min_diff: ## if we reach a new minimum (less than the previous min_diff)\n",
    "        min_diff = diff_out ## we establish whatever difference from the function output as the new min_diff\n",
    "        phi = phi_guess[i] ## this pulls out the phi at that minimum difference\n",
    "phi = round(phi,3)\n",
    "print(f\"Phi: {phi}\")\n",
    "\n",
    "## calculate x1, x2, y1, y2\n",
    "x1 = z1/(1+(phi*(K1-1)))\n",
    "x2 = 1 - x1 ## because mol fractions have to add up to 1\n",
    "y1 = K1*x1\n",
    "y2 = 1 - y1\n",
    "\n",
    "## Let's round to two decimals so we don't have really long numbers\n",
    "x1 = round(x1,2)\n",
    "x2 = round(x2,2)\n",
    "y1 = round(y1,2)\n",
    "y2 = round(y2,2)\n",
    "\n",
    "## print answer\n",
    "print(f\"Toluene x: {x1}, y: {y1}\")\n",
    "print(f\"Vinylacetylene x: {x2}, y: {y2}\")"
   ]
  },
  {
   "cell_type": "code",
   "execution_count": 111,
   "id": "3488d167",
   "metadata": {},
   "outputs": [
    {
     "name": "stdout",
     "output_type": "stream",
     "text": [
      "Phi: 0.509\n",
      "Toluene x: 0.86, y: 0.16\n",
      "Vinylacetylene x: 0.14, y: 0.84\n"
     ]
    }
   ],
   "source": [
    "## when z_va = .3\n",
    "\n",
    "## changing the z values\n",
    "z1 = .5\n",
    "z2 = 1 - z1 \n",
    "\n",
    "## solve for phi\n",
    "min_diff = 1000 ## have to reset this!\n",
    "\n",
    "for i in range(0,len(phi_guess)):\n",
    "    diff_out = phi_solver(phi_guess[i],z1,z2) ## using the function above pull out phi\n",
    "    if diff_out < min_diff: ## if we reach a new minimum (less than the previous min_diff)\n",
    "        min_diff = diff_out ## we establish whatever difference from the function output as the new min_diff\n",
    "        phi = phi_guess[i] ## this pulls out the phi at that minimum difference\n",
    "phi = round(phi,3)\n",
    "print(f\"Phi: {phi}\")\n",
    "\n",
    "## calculate x1, x2, y1, y2\n",
    "x1 = z1/(1+(phi*(K1-1)))\n",
    "x2 = 1 - x1 ## because mol fractions have to add up to 1\n",
    "y1 = K1*x1\n",
    "y2 = 1 - y1\n",
    "\n",
    "## Let's round to two decimals so we don't have really long numbers\n",
    "x1 = round(x1,2)\n",
    "x2 = round(x2,2)\n",
    "y1 = round(y1,2)\n",
    "y2 = round(y2,2)\n",
    "\n",
    "## print answer\n",
    "print(f\"Toluene x: {x1}, y: {y1}\")\n",
    "print(f\"Vinylacetylene x: {x2}, y: {y2}\")"
   ]
  },
  {
   "cell_type": "markdown",
   "id": "5be4b850",
   "metadata": {},
   "source": [
    "## Notice anything interesting about your answers?\n",
    "\n",
    "## They should be the same! Why? Because the mixture exits in equilibrium, which is always the same at a given temperature and pressure!"
   ]
  },
  {
   "cell_type": "code",
   "execution_count": null,
   "id": "c067669e",
   "metadata": {},
   "outputs": [],
   "source": []
  }
 ],
 "metadata": {
  "kernelspec": {
   "display_name": "Python 3 (ipykernel)",
   "language": "python",
   "name": "python3"
  },
  "language_info": {
   "codemirror_mode": {
    "name": "ipython",
    "version": 3
   },
   "file_extension": ".py",
   "mimetype": "text/x-python",
   "name": "python",
   "nbconvert_exporter": "python",
   "pygments_lexer": "ipython3",
   "version": "3.9.6"
  }
 },
 "nbformat": 4,
 "nbformat_minor": 5
}
