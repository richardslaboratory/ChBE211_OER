{
 "cells": [
  {
   "cell_type": "markdown",
   "id": "cf5c8afb",
   "metadata": {},
   "source": [
    "# ChE 212: Homework 1 Problem 3\n",
    "\n",
    "# Problem Statement\n",
    "\n",
    "Calculate the T-xy and y-x phase diagrams for the acetone benzene mixture at 1 atm. Assume the modified Raoult's law applies and use the Wilson equation to calculate activity coefficients.\n",
    "\n",
    "You can find the Wilson equation parameters in Nagahama et al. 1971.\n",
    "\n",
    "Vapor pressure as a function of temperature (T) can be estimated using the Antoine Equation.\n",
    "\n",
    "Benzene's and Acetone's Antoine Equation parameters can be found in the NIST Chemical WebBook "
   ]
  },
  {
   "cell_type": "markdown",
   "id": "90a176a9",
   "metadata": {},
   "source": [
    "## Let's start by defining our equations\n",
    "\n",
    "Antoine Equation: $$log_{10}(P) = A - \\frac{B}{T+C}$$\n",
    "Wilson Equation: $$W = \\frac{A_{12}}{x_1 + (x_2\\cdot A_{12})} - \\frac{A_{21}}{(x_1\\cdot A_{21}) + x_2} $$\n",
    "\n",
    "Gammas:\n",
    "\n",
    "$$\\ln(\\gamma_1) = -\\ln(x_1+(x_2\\cdot A_{12})) + x_2\\cdot W$$\n",
    "\n",
    "$$\\ln(\\gamma_2) = -\\ln(x_2+(x_1\\cdot A_{21})) - x_1\\cdot W$$\n",
    "\n",
    "y1 and y2:\n",
    "\n",
    "$$y_1 = x_1\\cdot \\gamma_1 \\cdot \\frac{P_{sat1}}{P}$$\n",
    "$$y_2 = x_2\\cdot \\gamma_2 \\cdot \\frac{P_{sat2}}{P}$$\n",
    "\n",
    "We'll let acetone be system \"1\" and benzene be system \"2\"\n",
    "\n",
    "## And now our known variables"
   ]
  },
  {
   "cell_type": "code",
   "execution_count": 1,
   "id": "513ac283",
   "metadata": {},
   "outputs": [],
   "source": [
    "P = 1 #bar NOTE: atm on problem! bar in solutions\n",
    "\n",
    "\n",
    "##Antoine Coefficients\n",
    "#Acetone\n",
    "A_ace = 4.42448\n",
    "B_ace = 1312.253\n",
    "C_ace = -32.445\n",
    "#Benzene\n",
    "A_benz = 4.73\n",
    "B_benz = 1660.652\n",
    "C_benz = -1.461\n",
    "\n",
    "## Nagahama et al. 1971 for mixtures\n",
    "A12 = 0.4522 ## acetone in benzene\n",
    "A21 = 1.2026 ## benzene in acetone"
   ]
  },
  {
   "cell_type": "markdown",
   "id": "1233ad1d",
   "metadata": {},
   "source": [
    "## Now let's make an x1 and x2 arrays. \n",
    "#### Remember, each respective entry of x1 and x2 have to sum to 1."
   ]
  },
  {
   "cell_type": "code",
   "execution_count": 2,
   "id": "bf2308ef",
   "metadata": {},
   "outputs": [],
   "source": [
    "import numpy as np\n",
    "\n",
    "x1 = np.linspace(0,1,21) ## this gives us steps of 0.05\n",
    "x2 = 1 - x1 ## this gives us what x2 has to be based on the molar fraction of acetone present"
   ]
  },
  {
   "cell_type": "markdown",
   "id": "04fe6448",
   "metadata": {},
   "source": [
    "## And our W array"
   ]
  },
  {
   "cell_type": "code",
   "execution_count": 3,
   "id": "ffaa2df8",
   "metadata": {},
   "outputs": [],
   "source": [
    "W = (A12/(x1 + (x2*A12))) - (A21)/((x1*A21)+x2)"
   ]
  },
  {
   "cell_type": "markdown",
   "id": "014d7cbd",
   "metadata": {},
   "source": [
    "## Let's calculate our gammas\n",
    "\n",
    "##### A quick note: in Python \"log\" is the natural log. np.ln() does not exist. To do log base 10, the code is np.log10()"
   ]
  },
  {
   "cell_type": "code",
   "execution_count": 9,
   "id": "37da61cb",
   "metadata": {},
   "outputs": [],
   "source": [
    "ln_gamma1 = -np.log(x1+(x2*A12)) + (x2*W)\n",
    "gamma1 = np.exp(ln_gamma1)\n",
    "\n",
    "ln_gamma2 = -np.log(x2+(x1*A21)) - (x1*W)\n",
    "gamma2 = np.exp(ln_gamma2)"
   ]
  },
  {
   "cell_type": "markdown",
   "id": "715e92e0",
   "metadata": {},
   "source": [
    "## Now, let's define a function that will help us solve for temperature. We want to find the temperature that makes the y1 + y2 = 1, or that makes 1 - (y1 + y2) = 0."
   ]
  },
  {
   "cell_type": "code",
   "execution_count": 11,
   "id": "16ba97e0",
   "metadata": {},
   "outputs": [],
   "source": [
    "def g(T,i): ## this is a function. we pass in a temperature (T) and an array index (i)\n",
    "    Psat1 = 10**(A_ace - (B_ace/(T + C_ace))) ## saturated pressure using inputted T\n",
    "    Psat2 = 10**(A_benz - (B_benz/(T + C_benz)))\n",
    "    y1 = x1[i]*gamma1[i]*(Psat1/P) ## calculating vapor molar fraction of acetone\n",
    "    y2 = x2[i]*gamma2[i]*(Psat2/P) ## calculating vapor molar fraction of benzene\n",
    "    sumy = y1 + y2 ## to equal 1\n",
    "    diff = abs(1 - sumy) ## is how we can easily find a minimum. we want this value to be as close to zero as possible!\n",
    "    return diff"
   ]
  },
  {
   "cell_type": "markdown",
   "id": "cf3ee98b",
   "metadata": {},
   "source": [
    "## We need to define an initial guess array. We don't know what the temperature might be, so we might make a guess that the temperature is between 300 and 360C. We choose 1000 increments between 300 and 360 to be evaluated\n",
    "#### Note: 1000 increments is arbitrary. One can choose any positive integer!"
   ]
  },
  {
   "cell_type": "code",
   "execution_count": 12,
   "id": "5221b4f3",
   "metadata": {},
   "outputs": [],
   "source": [
    "Temp = np.linspace(300,360,1000)"
   ]
  },
  {
   "cell_type": "markdown",
   "id": "b944218e",
   "metadata": {},
   "source": [
    "## Let's solve for our temperatures!"
   ]
  },
  {
   "cell_type": "code",
   "execution_count": 16,
   "id": "920e6cb5",
   "metadata": {},
   "outputs": [],
   "source": [
    "T = [] ## define an empty array to store our iterative solution temperature values.\n",
    "\n",
    "for i in range(0,len(x1)): ## iterating over all the values in x1\n",
    "    min_diff = 1000 ## we define a variable min_diff that \"resets\" our difference comparison\n",
    "    for j in range(0,len(Temp)): ## iterating over all temperatures in Temp\n",
    "        diff_out = g(Temp[j],i) ## using the function above to calculate the difference of (1-(y1+y2)) at a given temperature (j) and x1, x2 (i)\n",
    "        if diff_out < min_diff: ## if we reach a new minimum (less than the previous min_diff)\n",
    "            min_diff = diff_out ## we establish whatever difference from the function output as the new min_diff\n",
    "            True_temp = Temp[j] ## this pulls out the temperature at that minimum\n",
    "    T.append(True_temp) ## this adds the minimum difference temperature to our empty array of iterative temperature values\n",
    "    #print(f\"Temperature: {True_temp},\", f\"Difference: {min_diff}\") ## this prints the \"True temperature\" and minimum difference for each x1, x2 combo"
   ]
  },
  {
   "cell_type": "markdown",
   "id": "f0f67bdf",
   "metadata": {},
   "source": [
    "## We have our liquid molar fractions and temperatures. We still need to calculate our y1 and y2 values with our \"true\" temperature"
   ]
  },
  {
   "cell_type": "code",
   "execution_count": 17,
   "id": "0d50a29b",
   "metadata": {},
   "outputs": [],
   "source": [
    "y1 = [] ## define empty arrays to store y1 and y2\n",
    "y2 = []\n",
    "\n",
    "for i in range(0,len(T)): ##iterating over the iterative solution temperature values. could also use x1 or x2 here since they are the same length\n",
    "    Psat1 = 10**(A_ace - (B_ace/(T[i] + C_ace))) ## saturated pressure using inputted T\n",
    "    Psat2 = 10**(A_benz - (B_benz/(T[i] + C_benz)))\n",
    "    y1_calc = x1[i]*gamma1[i]*(Psat1/P) ## calculating vapor molar fraction of acetone\n",
    "    y2_calc = x2[i]*gamma2[i]*(Psat2/P) ## calculating vapor molar fraction of benzene\n",
    "    y1.append(y1_calc) ## adds the calculated y1 to the array\n",
    "    y2.append(y2_calc)"
   ]
  },
  {
   "cell_type": "markdown",
   "id": "f360c653",
   "metadata": {},
   "source": [
    "## Now we can make a T-x-y plot!"
   ]
  },
  {
   "cell_type": "code",
   "execution_count": 18,
   "id": "e83fab11",
   "metadata": {},
   "outputs": [
    {
     "data": {
      "image/png": "[encoded data removed]",
      "text/plain": [
       "<Figure size 640x480 with 1 Axes>"
      ]
     },
     "metadata": {},
     "output_type": "display_data"
    }
   ],
   "source": [
    "import matplotlib.pyplot as plt\n",
    "plt.scatter(x1,T) ## plotting x1 data points\n",
    "plt.scatter(y1,T) ## plotting y1 data points\n",
    "plt.plot(x1,T) ## plotting x1 line\n",
    "plt.plot(y1,T) ## plotting y1 line\n",
    "plt.xlabel('Mole fraction') ## adding x axis label\n",
    "plt.ylabel('Temperature') ## adding y axis label\n",
    "plt.legend(['Liquid fraction (x)', 'Vapor fraction (y)']) ## making a legend\n",
    "plt.title('Acetone') ## adding a title\n",
    "plt.show() ## makes output cleaner"
   ]
  },
  {
   "cell_type": "code",
   "execution_count": null,
   "id": "bc447e69",
   "metadata": {},
   "outputs": [],
   "source": []
  }
 ],
 "metadata": {
  "kernelspec": {
   "display_name": "Python 3 (ipykernel)",
   "language": "python",
   "name": "python3"
  },
  "language_info": {
   "codemirror_mode": {
    "name": "ipython",
    "version": 3
   },
   "file_extension": ".py",
   "mimetype": "text/x-python",
   "name": "python",
   "nbconvert_exporter": "python",
   "pygments_lexer": "ipython3",
   "version": "3.9.6"
  }
 },
 "nbformat": 4,
 "nbformat_minor": 5
}
