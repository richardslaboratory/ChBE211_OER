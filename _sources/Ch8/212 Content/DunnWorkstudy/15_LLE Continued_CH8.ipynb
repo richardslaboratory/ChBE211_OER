{
 "cells": [
  {
   "cell_type": "markdown",
   "id": "51a0b429",
   "metadata": {},
   "source": [
    "# Liquid Liquid Extraction\n",
    "###  Kremser,Dilute Fractional Extraction, Concentrated LLE"
   ]
  },
  {
   "cell_type": "markdown",
   "id": "c7c494ea",
   "metadata": {},
   "source": [
    "# 1\n",
    "# Establishing our nomenclature\n",
    "\n",
    "- **A**: the _solute_. The compound we would like to separate out from one of the two liquid phases\n",
    "- **D**: the _diluent_. Liquid that enters the LLE process with the solute in it.\n",
    "- **Raffinate**: diluent + solute\n",
    "- **S**: the _solvent_. The liquid phase that serves as the separating agent into with the solute moves via mass transfer.\n",
    "- **Extract**: solvent + solute\n"
   ]
  },
  {
   "cell_type": "markdown",
   "id": "5db303fd",
   "metadata": {},
   "source": [
    "# 2\n",
    "\n",
    "## Absorption Factor and Extraction Factor\n",
    "\n",
    "$$ \\frac{L}{mV} $$\n",
    "\n",
    "Think about the absorption factor in terms of the objectives of absorption: Drive a solute from the _gas_ to the _liquid_ phase.\n",
    "\n",
    "We want this value to be large.\n",
    "\n",
    "$$ \\frac{L}{\\frac{H}{P} \\cdot V} $$\n",
    "\n",
    "For absorption, m is dependent upon total pressure.\n",
    "\n",
    "For the same value of H, a higher pressure will lead to a higher absorption factor.\n",
    "\n",
    "This lines up with the general sense that higher pressures will drive the solute to the liquid phase.\n"
   ]
  },
  {
   "cell_type": "markdown",
   "id": "d589d11c",
   "metadata": {},
   "source": [
    "# 3\n",
    "\n",
    "## Absorption Factor and Extraction Factor\n",
    "\n",
    "$$ \\frac{mV}{L} $$\n",
    "\n",
    "The inverse of the absorption factor could be called the stripping factor. In stripping we want to drive a solute from the _liquid_ to the _gas_ phase.\n",
    "\n",
    "We want this value to be large.\n",
    "\n",
    "$$ \\frac{\\frac{H}{P} \\cdot V}{L} $$\n",
    "\n",
    "For stripping, m is dependent upon total pressure.\n",
    "\n",
    "For the same value of H, a lower pressure will lead to a higher stripping factor.\n",
    "\n",
    "This lines up with the general sense that low pressures will be favorable for a solute volatilizing into the gas phase.\n"
   ]
  },
  {
   "cell_type": "markdown",
   "id": "562d663c",
   "metadata": {},
   "source": [
    "# 4\n",
    "\n",
    "## Absorption Factor and Extraction Factor\n",
    "\n",
    "$$ \\frac{mE}{R} $$\n",
    "\n",
    "In LLE, the extraction factor gives us a sense for how favorable the system is for driving the solute into the _extract_, or the target liquid phase.\n",
    "\n",
    "$$ \\frac{K_D E}{R} $$\n",
    "\n",
    "For extraction, m the distribution coefficient.\n",
    "\n",
    "It is T dependent, and not necessarily a linear function of T (see table 13-3)\n",
    "\n",
    "$$ K_D = \\frac{y}{x} $$\n",
    "\n",
    "Additionally, for a given T we can choose among different solvents to achieve a high $ K_D $.\n"
   ]
  },
  {
   "cell_type": "markdown",
   "id": "adb80f9c",
   "metadata": {},
   "source": [
    "# 5\n",
    "\n",
    "# Establishing our nomenclature\n",
    "\n",
    "- **A**: the _solute_. The compound we would like to separate out from one of the two liquid phases\n",
    "- **D**: the _diluent_. Liquid that enters the LLE process with the solute in it.\n",
    "- **Raffinate**: diluent + solute\n",
    "- **S**: the _solvent_. The liquid phase that serves as the separating agent into with the solute moves via mass transfer.\n",
    "- **Extract**: solvent + solute\n"
   ]
  },
  {
   "cell_type": "markdown",
   "id": "12398dfe",
   "metadata": {},
   "source": [
    "# 6\n",
    "\n",
    "![Image](Dunn-Images/15_LLE%20Continued_CH8/Slide9.jpg)\n",
    "\n",
    "\n",
    "### Dilute fractional extraction\n",
    "\n",
    "- Use two solvents to fractionate solutes from each other.\n",
    "- Solute A prefers solvent 1; concentrates at top of column\n",
    "- Solute B prefers solvent 2; concentrates at bottom of column\n",
    "- Equilibrium curve can be different for the two sections\n",
    "- Could have reflux at one or both ends\n",
    "\n"
   ]
  },
  {
   "cell_type": "markdown",
   "id": "dce8bcc0",
   "metadata": {},
   "source": [
    "# 7\n",
    "\n",
    "![Image](Dunn-Images/15_LLE%20Continued_CH8/Slide11.jpg)\n",
    "\n",
    "\n",
    "### Will a solute go up or down in a column?\n",
    "\n",
    "\n",
    "$$ \\frac{\\text{Solute A flow up the column}}{\\text{Solute A flow down the column}}\\frac{y_{A,j}E_j}{x_{A,j}R_j} = \\frac{K_{d,A}E_j}{R_j} $$\n",
    "\n",
    "\n",
    "If this quantity is > 1, solute will move UP at stage j  \n",
    "If this quantity is < 1, the solute will move DOWN at stage j\n",
    "\n",
    "$$ \\left( \\frac{K_{d,A}E}{R} \\right)_j > 1 $$\n",
    "$$ \\left( \\frac{K_{d,A}E}{R} \\right)_j < 1  $$\n",
    "\n",
    "What levers do we have to control whether these quantities are < or > 1?\n",
    "\n",
    "- Change solvent, adjust T, change E or R\n"
   ]
  },
  {
   "cell_type": "markdown",
   "id": "05bfdbbc",
   "metadata": {},
   "source": [
    "# 8\n",
    "\n",
    "![Image](Dunn-Images/15_LLE%20Continued_CH8/Slide13.jpg)\n",
    "\n",
    "### External mass balance on the column:\n",
    "\n",
    "$$ R + \\overline{E} + F = E + \\overline{R} $$\n",
    "\n",
    "$$ Rx_{A,0} + \\overline{E}y_{A,N+1} + Fz_{A,F} = Ey_{A,1} + \\overline{R}x_{A,N} $$\n",
    "\n",
    "$$ Rx_{B,0} + \\overline{E}y_{B,N+1} + Fz_{B,F} = Ey_{B,1} + \\overline{R}x_{B,N} $$\n",
    "\n",
    "If feed is in Solvent 1 (extract)\n",
    "$$ E = \\overline{E} + F $$\n",
    "$$ \\overline{R} = R $$\n",
    "\n",
    "If feed is in Solvent 2 (diluent)\n",
    "$$ \\overline{E} = E $$\n",
    "$$ \\overline{R} = R + F $$\n",
    "\n",
    "Top Operating Line: j is because we have two solutes\n",
    "$$ y_{i,j+1} = \\left( \\frac{{R}}{E} \\right)x_{i,j} + [y_{i,j} - \\left( \\frac{R}{E} \\right)x_{i,0}] $$\n",
    "\n",
    "Bottom Operating Line\n",
    "$$ y_{i,k+1} = \\left( \\frac{\\overline{R}}{E} \\right)x_{i,k} - \\left[ \\left( \\frac{\\overline{R}}{E} \\right)x_{i,N} - y_{i,N+1} \\right] $$\n"
   ]
  },
  {
   "cell_type": "markdown",
   "id": "c3d58785",
   "metadata": {},
   "source": [
    "# 9\n",
    "\n",
    "![Image](Dunn-Images/15_LLE%20Continued_CH8/Slide15.jpg)\n",
    "\n",
    "ABSORPTION – how is solute concentration changing in column\n",
    "\n",
    "It is moving from gas to liquid\n",
    "\n",
    "Solute concentration in y increasing as go down column"
   ]
  },
  {
   "cell_type": "markdown",
   "id": "c0b5f1fb",
   "metadata": {},
   "source": [
    "# 10\n",
    "\n",
    "![Image](Dunn-Images/15_LLE%20Continued_CH8/Slide17.jpg)\n",
    "\n",
    "STRIPPING – how is solute concentration changing in column\n",
    "\n",
    "It is moving from liquid to gas\n",
    "\n",
    "Op line BELOW eq line"
   ]
  },
  {
   "cell_type": "markdown",
   "id": "6a07d034",
   "metadata": {},
   "source": [
    "# 11\n",
    "\n",
    "![Image](Dunn-Images/15_LLE%20Continued_CH8/Slide19.jpg)\n",
    "\n",
    "Two column sections could be operated at different T, P so could have different equilibrium curves.\n",
    "\n",
    "More stages in top of column will result in more A out in top Solvent 1 stream. $y_{B,1}$ be lower\n",
    "\n",
    "More stages in column bottom increase $x_{B,N}$.\n"
   ]
  },
  {
   "cell_type": "markdown",
   "id": "e992b27b",
   "metadata": {},
   "source": [
    "# 12\n",
    "\n",
    "![Image](Dunn-Images/15_LLE%20Continued_CH8/Slide21.jpg)\n",
    "\n",
    "One McCabe Thelie Chart per solute\n",
    "\n",
    "Solutes ABSORBED in top of column – solute in extract is increasing as we go down column.\n",
    "\n",
    "Solutes STRIPPED in bottom of column – solute in extract is increasing as we go up column.\n",
    "\n",
    "$ N = 8 $"
   ]
  },
  {
   "cell_type": "markdown",
   "id": "6c08bb3c",
   "metadata": {},
   "source": [
    "# 13\n",
    "\n",
    "# Concentrated Immiscible Extraction\n",
    "\n",
    "- Diluent and solvent flow rate constant\n",
    "\n",
    "$$ X = \\frac{x}{1 - x} = \\frac{\\text{kg solute}}{\\text{kg diluent}} $$\n",
    "\n",
    "$$ Y = \\frac{y}{1 - y} = \\frac{\\text{kg solute}}{\\text{kg diluent}} $$\n",
    "\n",
    "$$ Y_{j+1} = \\left( \\frac{F_D}{F_S} \\right) X_j + \\left( Y_1 - \\frac{F_D}{F_S} X_0 \\right) $$\n",
    "\n",
    "Operating line. Green quantities generally known.\n",
    "\n",
    "$ X_{N}, Y_{N+1} $also generally known. These are a point on the operating line.\n"
   ]
  },
  {
   "cell_type": "markdown",
   "id": "172c7ddf",
   "metadata": {},
   "source": [
    "# 14\n",
    "\n",
    "![Image](Dunn-Images/15_LLE%20Continued_CH8/Slide39.jpg)"
   ]
  },
  {
   "cell_type": "markdown",
   "id": "67c33685",
   "metadata": {},
   "source": [
    "# 15\n",
    "\n",
    "# Solvent choice governed by solute solubility\n",
    "\n",
    "- Some solvents pose health and environmental risks\n",
    "- Amide solvents: reproductive toxicity\n",
    "- Hydrocarbon solvents: flammable, don't dissolve in water and can bioaccumulate\n",
    "- The European Union has a piece of legislation in place around chemical safety: \"Registration, Evaluation, Authorization, and Restriction of Chemicals\"\n",
    "- In 2015, the EU banned chloroform, benzene.... Many other compounds some of which we talk about in our text!\n"
   ]
  },
  {
   "cell_type": "markdown",
   "id": "c8cc7ddc",
   "metadata": {},
   "source": [
    "# 16\n",
    "\n",
    "![Image](Dunn-Images/15_LLE%20Continued_CH8/Slide43.jpg)\n",
    "\n",
    "## Making solvents consumes energy\n",
    "\n",
    "Cumulative Energy Demand: CED  \n",
    "Distillation credit: purify the solvent and recycle it  \n",
    "With incineration: recover the energy it contains when it is spent\n",
    "\n",
    "The more complex the supply chain, the more energy you save by recycling through distillation\n",
    "\n"
   ]
  },
  {
   "cell_type": "markdown",
   "id": "bc215971",
   "metadata": {},
   "source": [
    "# 17\n",
    "\n",
    "![Image](Dunn-Images/15_LLE%20Continued_CH8/Slide45.jpg)"
   ]
  },
  {
   "cell_type": "markdown",
   "id": "c87b5606",
   "metadata": {},
   "source": [
    "# 18\n",
    "\n",
    "![Image](Dunn-Images/15_LLE%20Continued_CH8/Slide47.jpg)"
   ]
  }
 ],
 "metadata": {
  "kernelspec": {
   "display_name": "Python 3 (ipykernel)",
   "language": "python",
   "name": "python3"
  },
  "language_info": {
   "codemirror_mode": {
    "name": "ipython",
    "version": 3
   },
   "file_extension": ".py",
   "mimetype": "text/x-python",
   "name": "python",
   "nbconvert_exporter": "python",
   "pygments_lexer": "ipython3",
   "version": "3.10.9"
  }
 },
 "nbformat": 4,
 "nbformat_minor": 5
}
