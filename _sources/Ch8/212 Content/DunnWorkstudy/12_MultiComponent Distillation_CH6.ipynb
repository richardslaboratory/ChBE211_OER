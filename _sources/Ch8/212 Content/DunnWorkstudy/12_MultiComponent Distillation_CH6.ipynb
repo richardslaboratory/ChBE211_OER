{
 "cells": [
  {
   "cell_type": "markdown",
   "id": "a913781a",
   "metadata": {},
   "source": [
    "# Multi-Component Distillation\n",
    "\n",
    "### Underwood, Gilliland, and Aspen"
   ]
  },
  {
   "cell_type": "markdown",
   "id": "d39f8e43",
   "metadata": {},
   "source": [
    "# 1\n",
    "\n",
    "# Underwood (1948)\n",
    "\n",
    "![Image](Dunn-Images/12_Multicomponent%20Distillation_CH6/Slide3.jpg)\n",
    "\n",
    "$\n",
    "V_{T,\\text{min}}y_{i,j+1} = L_{\\text{min}}x_{i,j} + Dx_{D,i}\n",
    "$\n",
    "\n",
    "$\n",
    "x_{i,j-1} = x_{i,j} = x_{i,j+1}\n",
    "$\n",
    "\n",
    "$\n",
    "y_{i,j+1} = y_{i,j} = y_{i,j+1}\n",
    "$\n",
    "\n",
    "$\n",
    "y_{i,j+1} = Kx_{i,ij+1}\n",
    "$\n",
    "\n",
    "$\n",
    "V_{\\text{min}}y_{i,j+1} = \\frac{L_{\\text{min}}}{K_i} Y_{i,j+1} + Dx_{i}\n",
    "$\n",
    "\n",
    "$\n",
    "\\alpha_{i,\\text{ref}} = \\frac{K_i}{K_{\\text{ref}}} \n",
    "$\n",
    "\n",
    "$ V_{\\text{min}}y_{i,j+1} = \\frac{L_{\\text{min}}}{\\alpha_{i,\\text{ref}} K_{\\text{ref}}} y_{i,j+1} + Dx_{i}$"
   ]
  },
  {
   "cell_type": "markdown",
   "id": "4cf8de54",
   "metadata": {},
   "source": [
    "# 2\n",
    "\n",
    "$V_{\\text{min}}y_{i,j+1} \\left( 1 - \\frac{L_{\\text{min}}}{V_{T,\\text{min}} \\alpha_{i,\\text{ref}} K_{\\text{ref}}} \\right) = Dx_{i}$\n",
    "\n",
    "$V_{\\text{min}}y_{i,j+1} = \\left(\\frac{\\alpha_{i,\\text{ref}} Dx_{D,i}}{\\alpha_{i,\\text{ref}} - \\frac{L_{\\text{min}}}{V_{\\text{min}}K_{\\text{ref}}}} \\right)$\n",
    "\n",
    "Sum for total $V_\\text{min} $\n",
    "\n",
    "$V_{\\text{min}} = \\sum_{i=1}^{c} \\left( V_{\\text{min}}y_{i,j+1} \\right) = \\sum_{i=1}^{c} \\frac{\\alpha_{i,\\text{ref}} Dx_{D,i}}{\\alpha_{i,\\text{ref}} - \\frac{L_{\\text{min}}}{V_{\\text{min}}K_{\\text{ref}}}}$\n",
    "\n",
    "$-\\overline{V}_{\\text{min}} = \\sum_{i=1}^{c} \\left( V_{\\text{min}}y_{i,j+1} \\right) = \\sum_{i=1}^{c} \\frac{\\alpha_{i,\\text{ref}} Bx_{B,i}}{\\alpha_{i,\\text{ref}} - \\frac{\\overline{L}_{\\text{min}}}{\\overline{V}_{\\text{min}}K_{\\text{ref}}}}$\n",
    "\n",
    "Volatilities, $K$ not necessarily the same in bottom and top of column\n",
    "\n",
    "$\\phi = \\frac{L_{T,\\text{min}}}{V_{T,\\text{min}}K_{T,\\text{ref}}}$\n",
    "\n",
    "$\\bar{\\phi} = \\frac{L_{B,\\text{min}}}{V_{B,\\text{min}}K_{B,\\text{ref}}}$\n",
    "\n",
    "Assumption: $\\phi$ is the same in top and bottom of column (works best for CMO, constant relative volatility)\n",
    "\n",
    "Put in $\\phi$ and add $V_{\\text{min}}$ in equations\n",
    "\n",
    "$V_{T,\\text{min}} - V_{B,\\text{min}} = \\sum_{i=1}^{c} \\left( \\frac{\\alpha_{i,\\text{ref}} Dx_{D,i}}{\\alpha_{i,\\text{ref}} - \\phi} + \\frac{\\alpha_{i,\\text{ref}} Bx_{B,i}}{\\alpha_{i,\\text{ref}} - \\phi} \\right)$\n",
    "\n",
    "$F(1 - q) = V_{T,\\text{min}} - V_{B,\\text{min}} = \\sum_{i=1}^{c} \\left( \\frac{\\alpha_{i,\\text{ref}} Fz_{i}}{\\alpha_{i,\\text{ref}} - \\phi} \\right)$\n",
    "\n",
    "Use overall mass balance for $i$ to simplify\n",
    "\n",
    "$Fz_{i} = Dx_{D,i} + Bx_{B,i}$\n",
    "\n"
   ]
  },
  {
   "cell_type": "markdown",
   "id": "aef26d5f",
   "metadata": {},
   "source": [
    "# 3 \n",
    "\n",
    "## Underwood equations\n",
    "\n",
    "$F(1 - q) = V_{T,\\text{min}} - V_{B,\\text{min}} = \\sum_{i=1}^{c} \\left( \\frac{\\alpha_{i,\\text{ref}} Fz_i}{\\alpha_{i,\\text{ref}} - \\phi} \\right)$\n",
    "*First Underwood Equation. --- Use to find phi*\n",
    "\n",
    "$V_{\\text{min}} = \\sum_{i=1}^{c} \\left( V_{\\text{min}}y_{i,j+1} \\right) = \\sum_{i=1}^{c} \\frac{\\alpha_{i,\\text{ref}} Dx_{D,i}}{\\alpha_{i,\\text{ref}} - \\phi}$\n",
    "*Second Underwood Equation. --- Use to find $ V_{\\text{min}}$*\n",
    "\n",
    "### Use cases\n",
    "\n",
    "1. All NKs are non-distributive\n",
    "$Dx_{\\text{HNK}} = 0$ and $D_{D,\\text{LNK}} = Fz_{\\text{LNK}}$\n",
    "\n",
    "2. Use Fenske results for NK distributions here.\n",
    "\n",
    "Note constant relativity assumption:\n",
    "Geometric mean applies\n",
    "Options:  \n",
    "$(\\alpha_B \\alpha_D \\alpha_F)^{1/3}$  \n",
    "$(\\alpha_B \\alpha_D)^{1/2}$\n"
   ]
  },
  {
   "cell_type": "markdown",
   "id": "ca89958e",
   "metadata": {},
   "source": [
    "# 4\n",
    "\n",
    "![Image](Dunn-Images/12_Multicomponent%20Distillation_CH6/Slide8.jpg)\n",
    "\n",
    "1. Benzene 80.1 C LNK\n",
    "2. Toluene 110.6 C LK\n",
    "3. Cumene 152.4 C HK\n",
    "\n",
    "$\\alpha_{12} = 2.25 \\quad \\alpha_{32} = 0.21 \\quad \\alpha_{22} = 1$\n",
    "\n"
   ]
  },
  {
   "cell_type": "markdown",
   "id": "1dc76025",
   "metadata": {},
   "source": [
    "# 5\n",
    "\n",
    "Gilliland Correlation for number of stages at a finite r\n",
    "\n",
    "![Image](Dunn-Images/12_Multicomponent%20Distillation_CH6/Slide10.jpg)\n"
   ]
  },
  {
   "cell_type": "markdown",
   "id": "43f34822",
   "metadata": {},
   "source": [
    "# 6\n",
    "\n",
    "One form of Fenske\n",
    "\n",
    "$N_{\\text{min}} = \\frac{\\ln \\left[ \\frac{(X_A/X_B)_D}{(X_A/X_B)_R} \\right]}{\\ln \\alpha_{AB}}$\n",
    "\n",
    "Can be used to estimate stages to go from feed to distillate concentration for keys\n",
    "\n",
    "$ N_{F,\\text{min}} = \\frac{\\ln \\left[ \\frac{(X_{LK}/X_{HK})_D}{(Z_{LK}/Z_{HK})} \\right]}{\\ln \\alpha_{LK,HK}} $\n",
    "\n",
    "Ratio of feed to total stages could be ~constant. --> estimate feed stage.\n",
    "\n",
    "$\\frac{N_{F,\\text{min}}}{N_{\\text{min}}} = \\frac{N_F}{N}$"
   ]
  },
  {
   "cell_type": "markdown",
   "id": "da1cabf3",
   "metadata": {},
   "source": [
    "# 7\n",
    "\n",
    "Liddle fit the curve – once you find the x you could calculate the N\n",
    "\n",
    "For $0 \\leq x \\leq 0.01$:\n",
    "\n",
    "$\\frac{N - N_{\\text{min}}}{N + 1} = 1.0 - 18.5715x$\n",
    "\n",
    "For $0.01 \\leq x \\leq 0.90$:\n",
    "\n",
    "$\\frac{N - N_{\\text{min}}}{N + 1} = 0.545827 - 0.591422x + \\frac{0.002743}{x}$\n",
    "\n",
    "For $0.90 \\leq x \\leq 1.0$:\n",
    "\n",
    "$\\frac{N - N_{\\text{min}}}{N + 1} = 0.16595 - 0.16595x$\n"
   ]
  },
  {
   "cell_type": "markdown",
   "id": "79e38aa9",
   "metadata": {},
   "source": [
    "# 8\n",
    "\n",
    "![Image](Dunn-Images/12_Multicomponent%20Distillation_CH6/Slide14.jpg)\n",
    "\n",
    "1 Benzene 80.1 C LNK  \n",
    "2 Toluene 110.6 C LK  \n",
    "3 Cumene 152.4 C HK\n",
    "\n",
    "$\\alpha_{12} = 2.25$ $\\alpha_{32} = 0.21$ $\\alpha_{22} = 1$"
   ]
  },
  {
   "cell_type": "markdown",
   "id": "f7dc48a5",
   "metadata": {},
   "source": [
    "# 9\n",
    "\n",
    "![Image](Dunn-Images/12_Multicomponent%20Distillation_CH6/Slide16.jpg)\n",
    "\n",
    "1 Benzene 80.1 C   \n",
    "2 Toluene 110.6 C  \n",
    "3 Cumene 152.4 C \n",
    "\n",
    "| No. | Name    | BP (C) | Designation |\n",
    "|-----|---------|--------|-------------|\n",
    "| 1   | Benzene | 80.1   | LK          |\n",
    "| 2   | Toluene | 110.6  | HK          |\n",
    "| 3   | Cumene  | 152.4  | HNK         |\n"
   ]
  },
  {
   "cell_type": "code",
   "execution_count": null,
   "id": "cbf0acb5",
   "metadata": {},
   "outputs": [],
   "source": []
  }
 ],
 "metadata": {
  "kernelspec": {
   "display_name": "Python 3 (ipykernel)",
   "language": "python",
   "name": "python3"
  },
  "language_info": {
   "codemirror_mode": {
    "name": "ipython",
    "version": 3
   },
   "file_extension": ".py",
   "mimetype": "text/x-python",
   "name": "python",
   "nbconvert_exporter": "python",
   "pygments_lexer": "ipython3",
   "version": "3.10.9"
  }
 },
 "nbformat": 4,
 "nbformat_minor": 5
}
