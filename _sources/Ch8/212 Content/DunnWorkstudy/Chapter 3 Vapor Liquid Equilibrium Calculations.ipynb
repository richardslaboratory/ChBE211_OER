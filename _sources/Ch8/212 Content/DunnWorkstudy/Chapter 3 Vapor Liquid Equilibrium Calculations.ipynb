{
 "cells": [
  {
   "cell_type": "markdown",
   "id": "80a572ce",
   "metadata": {},
   "source": [
    "# Vapor-Liquid Equilibrium\n",
    "\n",
    "As we saw in Chapter 2, fugacity is a core concept for equilibrium relationships. We established:\n",
    "\n",
    "$$\\overline{f}_i^L(T,P,\\underline{x}) = \\overline{f}_i^V(T,P,\\underline{y}) $$\n",
    "\n",
    "This is the core equilibrium relationship we will work with for VLE. The liquid and vapor phase fugacities of any component in a mixture will be the same when the system is at equilibrium (T and P will also be the same).\n",
    "\n",
    "However, we rarely know fugacities in mixtures, so we will again lean on relationships between fugacities and activity coefficients.\n",
    "\n",
    "$$\\overline{f}_i^L(T,P,\\underline{x}) = x_i\\gamma_i(T,P,\\underline{x})P_i^{vap}(T)\\phi_i^{L,vap}(T,P) = \\overline{f}_i^V(T,P,\\underline{y}) = y_iP\\overline{\\phi}_i^V(T,P,\\underline{y}) $$\n",
    "\n",
    "This is called the <span style=\"color:#DA7407\">$\\gamma$-$\\phi$ approach.</span> It has shortcomings:\n",
    "- We use an EOS for vapor phase and an activity coefficient and model for the liqquid phase. These are different approaches. The properties of the two phases can never be identical. We will not have fully accurate represention near the vapor-liquid critical region.\n",
    "- Other methods that use only activity coefficients and EOS would do a better job, but we will not explore them in this course.\n",
    "\n",
    "The best approximation for pure liquid fugacity is Equation 7.4-21:\n",
    "\n",
    "$$f^L = P^{vap}(T)\\left ( \\frac{f}{P} \\right )_{sat,T} exp \\left [ \\frac{\\underline{V}(P-P^{vap})}{RT} \\right ] $$\n",
    "\n",
    "If P is close to vapor pressure, then the exponential term drops (Poynting correction)."
   ]
  },
  {
   "cell_type": "markdown",
   "id": "d7e5012f",
   "metadata": {},
   "source": [
    "## Getting To Something Workable:\n",
    "\n",
    "$$\\overline{f}_i^L(T,P,\\underline{x}) = x_i\\gamma_i(T,P,\\underline{x})P_i^{vap}(T)\\phi_i^{L,vap}(T,P) = \\overline{f}_i^V(T,P,\\underline{y}) = y_iP\\overline{\\phi}_i^V(T,P,\\underline{y}) $$\n",
    "\n",
    "Recall the <span style=\"color:#DA7407\">**The Lewis-Randall Rule**</span>:\n",
    "\n",
    "$$\\overline{f}_i^V(T,P,\\underline{y}) = y_if_i^V(T,P)$$\n",
    "\n",
    "We need to know the pure component vapor phase fugacity and vapor phase mole fraction.\n",
    "\n",
    "<span style=\"color:#DA7407\">**VLE at Low Pressures:**</span>\n",
    "\n",
    "$$x_i\\gamma_i(T,P,\\underline{x})P_i^{vap}(T) \\left(\\frac{f}{P} \\right)_{sat,i} = y_iP\\left(\\frac{f}{P}\\right)_i $$\n",
    "\n",
    "Summing over all components:\n",
    "\n",
    "$$\\sum{x_i\\gamma_i(T,P,\\underline{x})P_i^{vap}(T) \\left(\\frac{f}{P} \\right)_{sat,i}} = P\\sum{y_i\\left(\\frac{f}{P}\\right)_i} $$\n",
    "\n",
    "At low pressures, the gas phase is close to being ideal, so we can assume $\\left ( \\frac{f}{P} \\right)_i = 1$. Our equation now becomes:\n",
    "\n",
    "$$\\sum{x_i\\gamma_i(T,P,\\underline{x})P_i^{vap}(T) \\left(\\frac{f}{P} \\right)_{sat,i}} = P $$\n",
    "\n",
    "And if the liquid phase is an ideal mixture, $\\gamma_i = 1$ and $\\frac{f}{P} = 1$, we get <span style=\"color:#DA7407\">**Raoult's Law (for ideal liquid and vapor phases):**</span>\n",
    "\n",
    "$$x_iP_i^{vap}(T) = y_iP = P_i$$\n",
    "\n",
    "$$\\sum{x_iP_i^{vap}(T)} = \\sum{P_i} = P $$\n",
    "\n",
    "How can we find $P^{vap}$ if we are not given it directly:\n",
    "\n",
    "Use <span style=\"color:#DA7407\">**Antoine Equation:**</span>\n",
    "\n",
    "$$log\\left(P^{vap}(T)\\right) = A - \\frac{B}{T+C} $$\n",
    "\n",
    "The NIST Chem WebBook has $A,B,C$ parameters for many chemicals."
   ]
  },
  {
   "cell_type": "markdown",
   "id": "1b3e507b",
   "metadata": {},
   "source": [
    "### Let's Do an Example\n",
    "\n",
    "##### Create x,y and P-x,y charts for acetonitrile and 1-butanol at T = 333.15 K. Assume the mixture is ideal.\n",
    "\n",
    "Recalling <span style=\"color:#DA7407\">**Raoult's Law (for ideal liquid and vapor phases):**</span>\n",
    "\n",
    "$$x_iP_i^{vap}(T) = y_iP = P_i$$\n",
    "\n",
    "$$\\sum{x_iP_i^{vap}(T)} = \\sum{P_i} = P $$\n",
    "\n",
    "The top equation becomes two equations, one for each component:\n",
    "\n",
    "$$x_AP_A^{vap}(T) = y_AP = P_A$$\n",
    "$$x_BP_B^{vap}(T) = y_BP = P_B$$\n",
    "\n",
    "We can write the bottom equation for a binary mixture. Call acetonitrile \"A\" and 1-butanol \"B\":\n",
    "\n",
    "$$x_AP_A^{vap}(T) + x_BP_B^{vap}(T) = P$$\n",
    "\n",
    "And recall our mole balance equations:\n",
    "\n",
    "$$x_A + x_B = 1$$\n",
    "\n",
    "$$y_A + y_B = 1$$\n",
    "\n",
    "#### Solving for Vapor Pressures\n",
    "\n",
    "Now, let's look up the Antoine parameteres from NIST Chem WebBook. P is in bar and T is in K. We plug our values into the Antoine equation and solve for pressure."
   ]
  },
  {
   "cell_type": "code",
   "execution_count": 5,
   "id": "87ca1aba",
   "metadata": {},
   "outputs": [
    {
     "name": "stdout",
     "output_type": "stream",
     "text": [
      "Acetonitrile pressure: 0.488 bar\n",
      "1-Butanol pressure: 0.081 bar\n"
     ]
    }
   ],
   "source": [
    "T = 333.15 # K\n",
    "\n",
    "##Antoine Coefficients\n",
    "#Acetonitrile\n",
    "A_ace = 4.27873\n",
    "B_ace = 1355.374\n",
    "C_ace = -37.853\n",
    "#1-Butanol\n",
    "A_but = 4.54607\n",
    "B_but = 1351.55\n",
    "C_but = -93.34\n",
    "\n",
    "import numpy as np\n",
    "\n",
    "## Calculating vapor pressure using Antoine Equation\n",
    "\n",
    "Psat_ace = 10**(A_ace - (B_ace/(T + C_ace)))\n",
    "Psat_but = 10**(A_but - (B_but/(T + C_but)))\n",
    "\n",
    "print(f\"Acetonitrile pressure:\", round(Psat_ace,3), f\"bar\")\n",
    "print(f\"1-Butanol pressure:\", round(Psat_but,3), f\"bar\")"
   ]
  },
  {
   "cell_type": "markdown",
   "id": "da3eb133",
   "metadata": {},
   "source": [
    "#### Calculating Phase Mole Fractions\n",
    "\n",
    "First let's establish which variable we will iterate over. If we set the value of one variable, we can solve for all the others.\n",
    "Let's set up an array of $x_A$ values, ranging from 0 to 1."
   ]
  },
  {
   "cell_type": "code",
   "execution_count": 6,
   "id": "bfa90b07",
   "metadata": {},
   "outputs": [],
   "source": [
    "xA = np.linspace(0,1,11) ## here we choose 10 points to do our calculation at\n",
    "\n",
    "## We know xB too, since xA + xB = 1\n",
    "\n",
    "xB = 1 - xA"
   ]
  },
  {
   "cell_type": "markdown",
   "id": "e91ac393",
   "metadata": {},
   "source": [
    "#### Solving For the Remaining Variables (P, $y_A$, $y_B$)\n",
    "\n",
    "Since we have arrays of $x_A$ and $x_B$, we can now solve for $P$ and subsequently our vapor mole fractions ($y_A$ and $y_B$)\n",
    "\n",
    "$$x_AP_A^{vap}(T) + x_BP_B^{vap}(T) = P$$"
   ]
  },
  {
   "cell_type": "code",
   "execution_count": 7,
   "id": "decb8b6f",
   "metadata": {},
   "outputs": [],
   "source": [
    "## Solving for overall system pressure, P\n",
    "\n",
    "## We need to go through all of our xA (and xB) values to solve for P at each value\n",
    "\n",
    "P = [] ## making an empty pressure array to store the values\n",
    "\n",
    "for i in range(0,len(xA)): ## iterating over the length of xA, which is 10\n",
    "    pressure = xA[i]*Psat_ace + xB[i]*Psat_but\n",
    "    P.append(pressure)"
   ]
  },
  {
   "cell_type": "markdown",
   "id": "f1c81713",
   "metadata": {},
   "source": [
    "Now for the vapor mole fractions:\n",
    "    \n",
    "$$x_AP_A^{vap}(T) = y_AP = P_A$$\n",
    "$$x_BP_B^{vap}(T) = y_BP = P_B$$\n",
    "\n",
    "Rearranging for $y_A$ and $y_B$:\n",
    "\n",
    "$$y_A = \\frac{x_AP_A^{vap}(T)}{P}$$\n",
    "\n",
    "$$y_B = \\frac{x_BP_B^{vap}(T)}{P}$$\n",
    "\n",
    "*Note, we can also calculate $y_B$ with 1 - $y_A$*"
   ]
  },
  {
   "cell_type": "code",
   "execution_count": 8,
   "id": "cae65cc9",
   "metadata": {},
   "outputs": [],
   "source": [
    "## Let's solve\n",
    "\n",
    "yA = []\n",
    "yB = [] ## making blank arrays to store our vapor mole fraction values\n",
    "\n",
    "for i in range(0,len(xA)): ## again, iterating over the length of xA. xB and P have the same lengths\n",
    "    yA_calc = (xA[i]*Psat_ace)/P[i]\n",
    "    yB_calc = (xB[i]*Psat_but)/P[i]\n",
    "    yA.append(yA_calc)\n",
    "    yB.append(yB_calc)"
   ]
  },
  {
   "cell_type": "markdown",
   "id": "47e1ab81",
   "metadata": {},
   "source": [
    "#### We have all the information we need to generate x,y and P-x,y charts!"
   ]
  },
  {
   "cell_type": "code",
   "execution_count": 9,
   "id": "75e9c6e2",
   "metadata": {},
   "outputs": [
    {
     "data": {
      "image/png": "[encoded data removed]",
      "text/plain": [
       "<Figure size 640x480 with 1 Axes>"
      ]
     },
     "metadata": {},
     "output_type": "display_data"
    }
   ],
   "source": [
    "## We can plot\n",
    "\n",
    "import matplotlib.pyplot as plt\n",
    "\n",
    "## First, xy plot\n",
    "\n",
    "plt.plot(xA,yA,\"o\")\n",
    "plt.xlabel(\"xA\")\n",
    "plt.ylabel(\"yA\")\n",
    "plt.show()"
   ]
  },
  {
   "cell_type": "code",
   "execution_count": 10,
   "id": "5c49fe53",
   "metadata": {},
   "outputs": [
    {
     "data": {
      "image/png": "[encoded data removed]",
      "text/plain": [
       "<Figure size 640x480 with 1 Axes>"
      ]
     },
     "metadata": {},
     "output_type": "display_data"
    }
   ],
   "source": [
    "## And now P,x-y\n",
    "\n",
    "plt.plot(xA,P,\"-o\")\n",
    "plt.plot(yA,P,\"-o\")\n",
    "plt.xlabel('Mole fraction of Acetonitrile')\n",
    "plt.ylabel('Pressure (bar)')\n",
    "plt.legend(['xA', 'yA'])\n",
    "plt.show()"
   ]
  },
  {
   "cell_type": "markdown",
   "id": "8930418c",
   "metadata": {},
   "source": [
    "## Let's also generate a T-xy plot.\n",
    "\n",
    "Assume that we now have a constant pressure of 101.325 kPa = 1.01325 bar. This problem requires iterative solving."
   ]
  },
  {
   "cell_type": "code",
   "execution_count": 11,
   "id": "4590595c",
   "metadata": {},
   "outputs": [],
   "source": [
    "## Establishing new P\n",
    "P = 1.0325 # bar\n",
    "\n",
    "## Let's define a temperature range to iterative over:\n",
    "\n",
    "T = np.linspace(300,400,101) #100 points ranging from 300 to 400 K. We can narrow this depending on our plot"
   ]
  },
  {
   "cell_type": "markdown",
   "id": "5b3afed9",
   "metadata": {},
   "source": [
    "## Let's define a function that will help us solve for temperature. We want to find the temperature that makes the xA\\*PsatA + xB\\*PsatB = P, or that makes P - (xA\\*PsatA + xB\\*PsatB) = 0."
   ]
  },
  {
   "cell_type": "code",
   "execution_count": 20,
   "id": "57066930",
   "metadata": {},
   "outputs": [],
   "source": [
    "def g(T,i): ## this is a function. we pass in a temperature (T) and an array index (i)\n",
    "    PsatA = 10**(A_ace - (B_ace/(T + C_ace))) ## saturated pressure using inputted T\n",
    "    PsatB = 10**(A_but - (B_but/(T + C_but)))\n",
    "    Ptest = xA[i]*PsatA + xB[i]*PsatB\n",
    "    yA = xA[i]*(PsatA/P) ## calculating vapor molar fraction of acetonitrile\n",
    "    yB = xB[i]*(PsatB/P) ## calculating vapor molar fraction of 1-butanol\n",
    "    diff = abs(P - Ptest) ## is how we can easily find a minimum. we want this value to be as close to zero as possible!\n",
    "    return diff"
   ]
  },
  {
   "cell_type": "markdown",
   "id": "2b677fba",
   "metadata": {},
   "source": [
    "## We need to define an initial guess array. We don't know what the temperature might be, so we might make a guess that the temperature is between 300 and 500C. We choose 1000 increments between 300 and 500 to be evaluated\n",
    "#### Note: 1000 increments is arbitrary. One can choose any positive integer!"
   ]
  },
  {
   "cell_type": "code",
   "execution_count": 30,
   "id": "1040249a",
   "metadata": {},
   "outputs": [],
   "source": [
    "Temp = np.linspace(300,500,1000)"
   ]
  },
  {
   "cell_type": "markdown",
   "id": "5ab5787d",
   "metadata": {},
   "source": [
    "## Let's solve for our temperatures!"
   ]
  },
  {
   "cell_type": "code",
   "execution_count": 28,
   "id": "13904658",
   "metadata": {},
   "outputs": [],
   "source": [
    "T = [] ## define an empty array to store our iterative solution temperature values.\n",
    "\n",
    "for i in range(0,len(xA)): ## iterating over all the values in x1\n",
    "    min_diff = 1000 ## we define a variable min_diff that \"resets\" our difference comparison\n",
    "    for j in range(0,len(Temp)): ## iterating over all temperatures in Temp\n",
    "        diff_out = g(Temp[j],i) ## using the function above to calculate the difference of pressures at a given temperature (j) and xA, xB (i)\n",
    "        if diff_out < min_diff: ## if we reach a new minimum (less than the previous min_diff)\n",
    "            min_diff = diff_out ## we establish whatever difference from the function output as the new min_diff\n",
    "            True_temp = Temp[j] ## this pulls out the temperature at that minimum\n",
    "    T.append(True_temp) ## this adds the minimum difference temperature to our empty array of iterative temperature values\n",
    "    #print(f\"Temperature: {True_temp},\", f\"Difference: {min_diff}\") ## this prints the \"True temperature\" and minimum difference for each x1, x2 combo"
   ]
  },
  {
   "cell_type": "markdown",
   "id": "f2f00f6f",
   "metadata": {},
   "source": [
    "## We have our liquid molar fractions and temperatures. We still need to calculate our y1 and y2 values with our \"true\" temperature.\n",
    "\n",
    "#### We can use the Antoine Equation and Raoult's Law!"
   ]
  },
  {
   "cell_type": "code",
   "execution_count": 31,
   "id": "ff805365",
   "metadata": {},
   "outputs": [],
   "source": [
    "yA = []\n",
    "yB = [] ##empty arrays to store the vapor mole fractions\n",
    "\n",
    "for i in range(0,len(T)):\n",
    "    PsatA = 10**(A_ace - (B_ace/(T[i] + C_ace))) ## saturated pressure using true T\n",
    "    PsatB = 10**(A_but - (B_but/(T[i] + C_but)))\n",
    "    yA.append(xA[i]*(PsatA/P)) ## calculating vapor molar fraction of acetonitrile and storing into yA\n",
    "    yB.append(xB[i]*(PsatB/P)) ## calculating vapor molar fraction of 1-butanol and storing into yB"
   ]
  },
  {
   "cell_type": "markdown",
   "id": "d02e4edb",
   "metadata": {},
   "source": [
    "## Now, let's plot"
   ]
  },
  {
   "cell_type": "code",
   "execution_count": 32,
   "id": "290d1e6f",
   "metadata": {},
   "outputs": [
    {
     "data": {
      "image/png": "[encoded data removed]",
      "text/plain": [
       "<Figure size 640x480 with 1 Axes>"
      ]
     },
     "metadata": {},
     "output_type": "display_data"
    }
   ],
   "source": [
    "plt.plot(xA,T,\"-o\")\n",
    "plt.plot(yA,T,\"-o\")\n",
    "plt.xlabel('Mole fraction of Acetonitrile')\n",
    "plt.ylabel('Temperature (K)')\n",
    "plt.legend(['xA', 'yA'])\n",
    "plt.show()"
   ]
  },
  {
   "cell_type": "markdown",
   "id": "731692d5",
   "metadata": {},
   "source": [
    "## Bubble Point\n",
    "\n",
    "**ADD IMAGE**\n",
    "\n",
    "Recall that <span style=\"color:#DA7407\">**bubble point**</span> is the temperature or pressure where the first bubble of vapor forms when heating a mixture of two or more liquids.\n",
    "\n",
    "### Let's calculate the bubble point temperature if we weren't given a plot.\n",
    "\n",
    "Again, assume that we have a mixture of acetonitrile and 1-butanol and assume ideality for the mixture.\n",
    "\n",
    "We want to calculate the bubble point temperature when the mixture is 25 mol% aceotnitrile and 75% 1-butanol at 1.01325 bar.\n",
    "\n",
    "At the bubble point temperature, the first vapor bubble must be in equilibrium with the liquid phase (for which we know the composition), so the following relationships must be satisfied and the sum of mole fractions in each phase must be 1.\n",
    "\n",
    "$$x_iP_i^{vap}(T) = y_iP = P_i$$\n",
    "$$\\sum{x_iP_i^{vap}(T)} = \\sum{P_i} = P$$"
   ]
  },
  {
   "cell_type": "markdown",
   "id": "6ddeed79",
   "metadata": {},
   "source": [
    "### Let's first (re)establish our variables. We are resuing ones from the example problems above."
   ]
  },
  {
   "cell_type": "code",
   "execution_count": 1,
   "id": "de61a817",
   "metadata": {},
   "outputs": [],
   "source": [
    "import numpy as np\n",
    "import matplotlib.pyplot as plt"
   ]
  },
  {
   "cell_type": "code",
   "execution_count": 6,
   "id": "24ab3453",
   "metadata": {},
   "outputs": [],
   "source": [
    "## Liquid mole fractions\n",
    "xA = .25\n",
    "xB = .75\n",
    "\n",
    "##Antoine Coefficients\n",
    "#Acetonitrile\n",
    "A_ace = 4.27873\n",
    "B_ace = 1355.374\n",
    "C_ace = -37.853\n",
    "#1-Butanol\n",
    "A_but = 4.54607\n",
    "B_but = 1351.55\n",
    "C_but = -93.34\n",
    "\n",
    "P = 1.01325 #bar\n",
    "\n",
    "## Let's define a temperature range to iterate over\n",
    "\n",
    "Temp = np.linspace(300,500,1000) ## 300C to 500C over 1000 points"
   ]
  },
  {
   "cell_type": "markdown",
   "id": "aa3bee44",
   "metadata": {},
   "source": [
    "### We need to iterate over temperature to find the temperature that makes the sum of the vapor phase mole fractions equal to one"
   ]
  },
  {
   "cell_type": "code",
   "execution_count": 7,
   "id": "cc7f5eb2",
   "metadata": {},
   "outputs": [],
   "source": [
    "## creating a similar function to the iterative one above\n",
    "\n",
    "def h(T): ## this is a function. we pass in a temperature (T)\n",
    "    PsatA = 10**(A_ace - (B_ace/(T + C_ace))) ## saturated pressure using inputted T\n",
    "    PsatB = 10**(A_but - (B_but/(T + C_but)))\n",
    "    yA = xA*(PsatA/P) ## calculating vapor molar fraction of acetonitrile\n",
    "    yB = xB*(PsatB/P) ## calculating vapor molar fraction of 1-butanol\n",
    "    sumy = yA + yB\n",
    "    diff = abs(1 - sumy) ## is how we can easily find a minimum. we want this value to be as close to zero as possible!\n",
    "    return diff"
   ]
  },
  {
   "cell_type": "code",
   "execution_count": 11,
   "id": "efb8d9a7",
   "metadata": {},
   "outputs": [
    {
     "name": "stdout",
     "output_type": "stream",
     "text": [
      "Bubble Point Temperature 379.48\n"
     ]
    }
   ],
   "source": [
    "## Let's solve!\n",
    "\n",
    "min_diff = 1000 ## we define a variable min_diff that gives a comparison value\n",
    "\n",
    "for i in range(0,len(Temp)): ## iterating over all temperatures in Temp\n",
    "    diff_out = h(Temp[i]) ## using the function above to calculate the difference of (1-(y1+y2)) at a given temperature (j)\n",
    "    if diff_out < min_diff: ## if we reach a new minimum (less than the previous min_diff)\n",
    "        min_diff = diff_out ## we establish whatever difference from the function output as the new min_diff\n",
    "        True_temp = Temp[i] ## this pulls out the temperature at that minimum\n",
    "\n",
    "T = True_temp ## there should only be one \"true\" temperature that satisfies yA + yB = 1\n",
    "\n",
    "print(f'Bubble Point Temperature',round(T,2))"
   ]
  },
  {
   "cell_type": "markdown",
   "id": "911e59bf",
   "metadata": {},
   "source": [
    "## Dew Point\n",
    "\n",
    "**ADD IMAGE**\n",
    "\n",
    "Recall that <span style=\"color:#DA7407\">**dew point**</span> is the temperature or pressure where the first drop of liquid forms when cooling a mixture of two or more vapors.\n",
    "\n",
    "### Let's calculate the dew point temperature if we weren't given a plot.\n",
    "\n",
    "Again, assume that we have a mixture of acetonitrile and 1-butanol and assume ideality for the mixture.\n",
    "\n",
    "We want to calculate the dew point temperature when the mixture is 25 mol% aceotnitrile and 75% 1-butanol at 1.01325 bar.\n",
    "\n",
    "At the dew point temperature, the first dew drop must be in equilibrium with the vapor phase (for which we know the composition), so the following relationships must be satisfied and the sum of mole fractions in each phase must be 1.\n",
    "\n",
    "$$x_iP_i^{vap}(T) = y_iP = P_i$$\n",
    "$$\\sum{x_iP_i^{vap}(T)} = \\sum{P_i} = P$$"
   ]
  },
  {
   "cell_type": "markdown",
   "id": "45e4022d",
   "metadata": {},
   "source": [
    "### We have a very similar problem to above, but now we want to solve for $x_A + x_B = 1$ since we know our vapor mole fractions"
   ]
  },
  {
   "cell_type": "code",
   "execution_count": 13,
   "id": "683487fa",
   "metadata": {},
   "outputs": [],
   "source": [
    "## Vapor mole fractions\n",
    "\n",
    "yA = .25\n",
    "yB = .75\n",
    "\n",
    "## Our Antoine coefficients and pressure are the same as before\n",
    "\n",
    "## We will use the same temperature guesses\n",
    "\n",
    "Temp = np.linspace(300,500,1000) ## 300C to 500C over 1000 points"
   ]
  },
  {
   "cell_type": "code",
   "execution_count": 14,
   "id": "682e5915",
   "metadata": {},
   "outputs": [],
   "source": [
    "## Creating a new function similar to above\n",
    "\n",
    "def k(T): ## this is a function. we pass in a temperature (T)\n",
    "    PsatA = 10**(A_ace - (B_ace/(T + C_ace))) ## saturated pressure using inputted T\n",
    "    PsatB = 10**(A_but - (B_but/(T + C_but)))\n",
    "    xA = yA*P/PsatA ## calculating liquid molar fraction of acetonitrile\n",
    "    xB = yB*P/PsatB ## calculating liquid molar fraction of 1-butanol\n",
    "    sumx = xA + xB\n",
    "    diff = abs(1 - sumx) ## is how we can easily find a minimum. we want this value to be as close to zero as possible!\n",
    "    return diff"
   ]
  },
  {
   "cell_type": "code",
   "execution_count": 15,
   "id": "5eac3927",
   "metadata": {},
   "outputs": [
    {
     "name": "stdout",
     "output_type": "stream",
     "text": [
      "Dew Point Temperature 386.09\n"
     ]
    }
   ],
   "source": [
    "## Solving!\n",
    "\n",
    "min_diff = 1000 ## we define a variable min_diff that gives a comparison value\n",
    "\n",
    "for i in range(0,len(Temp)): ## iterating over all temperatures in Temp\n",
    "    diff_out = k(Temp[i]) ## using the function above to calculate the difference of (1-(xA+xB)) at a given temperature (j)\n",
    "    if diff_out < min_diff: ## if we reach a new minimum (less than the previous min_diff)\n",
    "        min_diff = diff_out ## we establish whatever difference from the function output as the new min_diff\n",
    "        True_temp = Temp[i] ## this pulls out the temperature at that minimum\n",
    "\n",
    "T = True_temp ## there should only be one \"true\" temperature that satisfies yA + yB = 1\n",
    "\n",
    "print(f'Dew Point Temperature',round(T,2))"
   ]
  },
  {
   "cell_type": "markdown",
   "id": "35138ce8",
   "metadata": {},
   "source": [
    "## Non-ideality is More Often the Reality\n",
    "\n",
    "$$\\overline{f}_i^L(T,P,\\underline{x}) = x_i\\gamma_i(T,P,\\underline{x})P_i^{vap}(T)\\phi_i^{L,vap}(T,P) = \\overline{f}_i^V(T,P,\\underline{y}) = y_iP\\overline{\\phi}_i^V(T,P,\\underline{y}) $$\n",
    "\n",
    "Note that the activity coefficients are a function of temperature. Once we introduce them to account for non-ideality, we cannot write the pressure as a linear function of mole fractions and vapor pressures.\n",
    "\n",
    "We have been treating the activity coefficient as though it were unity. For non-ideal systems, this is not the case and we need to calculate the activity coefficient."
   ]
  },
  {
   "cell_type": "markdown",
   "id": "05ca44ac",
   "metadata": {},
   "source": [
    "### An Example:\n",
    "\n",
    "We will do an example with a mixture of ethanol (E) and cyclohexane (C) at 303.15 K. We will create a P-x,y diagram.\n",
    "\n",
    "We will assume that the activity coefficients are well-described by the <span style=\"color:#DA7407\">**van Laar**</span> equation. Table 5.1 has the parameters for this system, although the temperature ranges of the validity is higher than the temperature we are at.\n",
    "\n",
    "$$ ln(\\gamma_1) = \\frac{\\alpha}{\\left[1 + \\frac{\\alpha}{\\beta}\\frac{x_1}{x_2}\\right]^2}$$\n",
    "\n",
    "$$ ln(\\gamma_2) = \\frac{\\beta}{\\left[1 + \\frac{\\beta}{\\alpha}\\frac{x_2}{x_1}\\right]^2}$$\n",
    "\n",
    "We will also assume that the vapor phase acts relatively ideal. We then have an equilibrium relationship as follows:\n",
    "\n",
    "$$P = x_E\\gamma_EP_E^{vap} + x_C\\gamma_CP_C^{vap}$$\n",
    "$$y_iP = x_i\\gamma_iP_i^{vap}$$\n",
    "\n",
    "We can replace each $\\gamma_i$ with its respective van Laar activity coefficient:\n",
    "\n",
    "$$P = x_Eexp\\left(\\frac{\\alpha}{\\left[1 + \\frac{\\alpha}{\\beta}\\frac{x_1}{x_2}\\right]^2}\\right)P_E^{vap} + x_Cexp\\left(\\frac{\\beta}{\\left[1 + \\frac{\\beta}{\\alpha}\\frac{x_2}{x_1}\\right]^2}\\right)P_C^{vap}$$\n",
    "\n",
    "$$y_E = \\frac{x_Eexp\\left(\\frac{\\alpha}{\\left[1 + \\frac{\\alpha}{\\beta}\\frac{x_1}{x_2}\\right]^2}\\right)P_E^{vap}}{P}$$\n",
    "\n",
    "Remember, we are at a fixed temperature so we can calculate $P^{vap}$ using the Antoine Equation."
   ]
  },
  {
   "cell_type": "markdown",
   "id": "8eb32ce0",
   "metadata": {},
   "source": [
    "**INSERT MATH (DON'T HAVE BETA AND ALPHA VALUES)**\n",
    "\n",
    "**INSERT COMPARISON PLOTS**"
   ]
  },
  {
   "cell_type": "code",
   "execution_count": 30,
   "id": "74bc1f96",
   "metadata": {},
   "outputs": [],
   "source": [
    "## Making a P-x,y plot\n",
    "\n",
    "xE = np.linspace(0.001,.9999,100) ## hundred values of xE to calculate P\n",
    "## NOTE: We can't have 0 and 1 inclusive because we will encounter a dividing by zero error\n",
    "xC = 1 - xE ## mole balance\n",
    "\n",
    "T = 303.15 # K, our set temperature\n",
    "\n",
    "alpha = 1 ## NEED THIS NUMBER\n",
    "\n",
    "beta = 1 ## NEED THIS NUMBER\n",
    "\n",
    "## Antoine Coefficients\n",
    "\n",
    "A_eth = 4.92531\n",
    "B_eth = 1432.526\n",
    "C_eth = -61.819\n",
    "\n",
    "A_cyc = 4.13983\n",
    "B_cyc = 1316.554\n",
    "C_cyc = -35.581\n",
    "\n",
    "## Calculate Psat for ethanol and cyclohexane\n",
    "\n",
    "PsatE = 10**(A_eth - (B_eth/(T + C_eth)))\n",
    "PsatC = 10**(A_cyc - (B_cyc/(T + C_cyc)))\n",
    "\n",
    "## Calculate the gammas\n",
    "\n",
    "gammaE = []\n",
    "gammaC = []\n",
    "\n",
    "for i in range(0,len(xE)):\n",
    "    lngammaE = alpha/(1+((alpha/beta)*(xE[i]/xC[i])))**2\n",
    "    lngammaC = beta/(1+((beta/alpha)*(xC[i]/xE[i])))**2\n",
    "    gammaE.append(np.exp(lngammaE))\n",
    "    gammaC.append(np.exp(lngammaC))\n",
    "\n",
    "## Calculate pressure and vapor mole fraction\n",
    "\n",
    "P = [] ## empty array to store all the pressure values\n",
    "yE = [] ## empty array to store all ethanol vapor values\n",
    "yC = [] ## empty array to store all cyclohexane vapor values\n",
    "\n",
    "for i in range(0,len(xE)): ## iterating over all our liquid mole fractions\n",
    "    P_calc = xE[i]*gammaE[i]*PsatE + xC[i]*gammaC[i]*PsatC\n",
    "    P.append(P_calc)\n",
    "    \n",
    "for i in range(0,len(xE)): ## iterating over all liquid mole fractions\n",
    "    yE_calc = (xE[i]*gammaE[i]*PsatE)/P[i] ## remember, pressure is an array too!\n",
    "    yE.append(yE_calc)\n",
    "    yC.append(1-yE_calc)"
   ]
  },
  {
   "cell_type": "code",
   "execution_count": 36,
   "id": "6e804911",
   "metadata": {},
   "outputs": [
    {
     "data": {
      "image/png": "[encoded data removed]",
      "text/plain": [
       "<Figure size 432x288 with 1 Axes>"
      ]
     },
     "metadata": {
      "needs_background": "light"
     },
     "output_type": "display_data"
    }
   ],
   "source": [
    "## we can plot\n",
    "\n",
    "plt.plot(xE,P,'-')\n",
    "plt.plot(yE,P, '-')\n",
    "plt.legend(['xE','yE'])\n",
    "plt.xlabel('Mole fraction ethanol')\n",
    "plt.ylabel('Pressure (kPa)')\n",
    "plt.show()"
   ]
  },
  {
   "cell_type": "markdown",
   "id": "67381bf3",
   "metadata": {},
   "source": [
    "**COMPARING RESULTS** PUT IN FIGURES ETC"
   ]
  },
  {
   "cell_type": "code",
   "execution_count": null,
   "id": "51f1f7ed",
   "metadata": {},
   "outputs": [],
   "source": []
  }
 ],
 "metadata": {
  "kernelspec": {
   "display_name": "Python 3 (ipykernel)",
   "language": "python",
   "name": "python3"
  },
  "language_info": {
   "codemirror_mode": {
    "name": "ipython",
    "version": 3
   },
   "file_extension": ".py",
   "mimetype": "text/x-python",
   "name": "python",
   "nbconvert_exporter": "python",
   "pygments_lexer": "ipython3",
   "version": "3.10.9"
  }
 },
 "nbformat": 4,
 "nbformat_minor": 5
}
