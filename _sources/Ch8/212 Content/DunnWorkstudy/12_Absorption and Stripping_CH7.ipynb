{
 "cells": [
  {
   "cell_type": "markdown",
   "id": "ed52fe01",
   "metadata": {},
   "source": [
    "# Absorption and Stripping"
   ]
  },
  {
   "cell_type": "markdown",
   "id": "c0605431",
   "metadata": {},
   "source": [
    "# 1\n",
    "\n",
    "# Revisiting course objectives\n",
    "\n",
    "- Solve standard vapor-liquid equilibrium problems in chemical engineering. `done`\n",
    "- Use mass and energy balances along with phase equilibrium information to design separation processes. `In process`\n",
    "  - Flash\n",
    "  - Binary Distillation\n",
    "  - Multicomponent distillation\n",
    "  - Absorption and Stripping\n",
    "  - Liquid Liquid Extraction\n",
    "- Learn about separations process technology. `In process`\n",
    "- Become proficient with software for chemical process simulation. `In process`\n",
    "- Obtain improved problem solving skills. `In process`\n"
   ]
  },
  {
   "cell_type": "markdown",
   "id": "5ccb8b8c",
   "metadata": {},
   "source": [
    "# 2\n",
    "\n",
    "# Approximate schedule for absorption and stripping\n",
    "\n",
    "- Intro and how to use McCabe Thiele for absorption\n",
    "- Analytical solutions\n",
    "- Column efficiency, working with concentrated streams\n",
    "- Equipment sizing\n",
    "- Multi component absorption\n",
    "\n",
    "- Up to section 12.8 in Wankat\n"
   ]
  },
  {
   "cell_type": "markdown",
   "id": "68488d79",
   "metadata": {},
   "source": [
    "# 3\n",
    "\n",
    "# Absorption\n",
    "Components to be removed are in a gas.   \n",
    "They are absorbed into a non-volatile liquid.  \n",
    "This liquid is also called a separating agent or solvent.\n",
    "\n",
    "# Stripping\n",
    "Liquid components are removed into a gas.  \n",
    "The separating agent is the stripping agent (gas stream).\n"
   ]
  },
  {
   "cell_type": "markdown",
   "id": "247bed43",
   "metadata": {},
   "source": [
    "# 4\n",
    "\n",
    "# Types of absorption\n",
    "\n",
    "- Physical: driven by solubility\n",
    "- Chemical: component to be removed reacts with the separating agent. Reversible reaction desired so agent is recoverable.\n"
   ]
  },
  {
   "cell_type": "markdown",
   "id": "bbab5ff4",
   "metadata": {},
   "source": [
    "# 5\n",
    "\n",
    "# Things are going to look familiar...\n",
    "\n",
    "- The process is driven by equilibrium\n",
    "- Equipment and operation are similar to distillation but no reboiler or condenser\n",
    "- Can be a packed tower or tray tower (McCabe-Thiele still works for trays)\n"
   ]
  },
  {
   "cell_type": "markdown",
   "id": "09ae16b1",
   "metadata": {},
   "source": [
    "# 6\n",
    "\n",
    "![Image](Dunn-Images/12_Absorption%20and%20Stripping_CH7/Slide8.jpg)\n",
    "\n",
    "Some assumptions are valid and make McCabe-Thiele straightforward\n",
    "\n",
    "For dilute systems\n",
    "\n",
    "1. L/V constant\n",
    "2. Isothermal\n",
    "3. Isobaric\n",
    "4. Heat of absorption is negligible\n"
   ]
  },
  {
   "cell_type": "markdown",
   "id": "f58ec006",
   "metadata": {},
   "source": [
    "# 7\n",
    "\n",
    "![Image](Dunn-Images/12_Absorption%20and%20Stripping_CH7/Slide10.jpg)\n",
    "\n",
    "$y_{j+1}V + x_0L = y_1V + x_jL$\n",
    "\n",
    "$y_{j+1} = (L/V)x_j + [y_1 - (L/V)x_0]$\n",
    "\n",
    "Points that will be on the operating line:\n",
    "\n",
    "$(x_j, y_{j+1})$\n",
    "\n",
    "$(x_0, y_1)$\n",
    "\n",
    "$(x_N, y_{N+1})$\n"
   ]
  },
  {
   "cell_type": "markdown",
   "id": "beebb8b5",
   "metadata": {},
   "source": [
    "# 8\n",
    "\n",
    "# Equilibrium for Absorption & Stripping\n",
    "\n",
    "Solute composition in the vapor versus in the liquid\n",
    "\n",
    "1. Carrier gas is insoluble\n",
    "2. Solvent is non-volatile\n",
    "3. Isothermal and isobaric\n",
    "\n",
    "$p_B \\rightarrow \\text{partial pressure of B in vapor}$  \n",
    "$H_B \\rightarrow \\text{mole fraction of B in the liquid}$  \n",
    "$x_B \\rightarrow \\text{Henry's constant: constant with units of atm/mole fraction Function of P, T, and composition}$\n",
    "\n",
    "Only works with **dilute** systems\n",
    "\n",
    "$p_B = H_B x_B$\n",
    "\n",
    "$y_B = \\frac{p_B}{P_{\\text{Total}}}$\n",
    "\n",
    "$p_B = y_B P_{\\text{Tot}}$\n",
    "\n",
    "$y_B = \\frac{H_B x_B}{P_{\\text{Total}}}$\n"
   ]
  },
  {
   "cell_type": "markdown",
   "id": "87172fe7",
   "metadata": {},
   "source": [
    "# 9\n",
    "\n",
    "# Steps for solving absorption problems for dilute solutions\n",
    "\n",
    "![Image](Dunn-Images/12_Absorption%20and%20Stripping_CH7/Slide14.jpg)\n",
    "\n",
    "- Plot equilibrium data\n",
    "- We often know these that tell us the operating line\n",
    "  - $x_0$\n",
    "  - $y_{N+1}$\n",
    "  - $y_1$\n",
    "  - $L/V$\n",
    "- Step off from stage 1 between equilibrium and operating lines\n",
    "\n",
    "The operating line is ABOVE the equilibrium line because gas is going into liquid.\n",
    "\n",
    "In distillation, liquid goes into gas.\n",
    "\n"
   ]
  },
  {
   "cell_type": "markdown",
   "id": "74c6f31f",
   "metadata": {},
   "source": [
    "# 10\n",
    "\n",
    "# Example\n",
    "\n",
    "![Image](Dunn-Images/12_Absorption%20and%20Stripping_CH7/Slide16.jpg)\n",
    "\n",
    "Henry's Law constants and solubility for chlorinated compounds 25 C and 2 atm\n",
    "\n",
    "Chloroform: 211.19 atm/(mole frac)\n",
    "\n",
    "$y_B = \\frac{H_B x_B}{P_{\\text{Total}}} = \\frac{211.19 \\frac{\\text{atm}}{\\text{mole frac}} \\cdot x_B}{2 \\text{ atm}}$\n"
   ]
  },
  {
   "cell_type": "markdown",
   "id": "42d059f5",
   "metadata": {},
   "source": [
    "# 11\n",
    "\n",
    "![Image](Dunn-Images/12_Absorption%20and%20Stripping_CH7/Slide18.jpg)\n",
    "\n",
    "Stages are counted where they touch the equilibrium line (blue dots)"
   ]
  },
  {
   "cell_type": "markdown",
   "id": "ef408940",
   "metadata": {},
   "source": [
    "# 12\n",
    "\n",
    "# Example simulation\n",
    "\n",
    "- [https://learncheme.com/simulations/separations/operation-of-an-absorption-column/](https://learncheme.com/simulations/separations/operation-of-an-absorption-column/)\n",
    "- Need to download Wolfram Player:\n",
    "- [https://www.wolfram.com/player/](https://www.wolfram.com/player/)\n",
    "- These simulations often have videos walking you through how to use the simulations\n"
   ]
  },
  {
   "cell_type": "markdown",
   "id": "cc24c0b6",
   "metadata": {},
   "source": [
    "# 13\n",
    "\n",
    "# Stripping analysis\n",
    "\n",
    "![Image](Dunn-Images/12_Absorption%20and%20Stripping_CH7/Slide21.jpg)\n",
    "\n",
    "Mass balances same as for absorption\n",
    "\n",
    "$y_{j+1} = \\frac{L}{V}x_j + \\left( y_1 - \\frac{L}{V}x_0 \\right)$\n",
    "\n",
    "Operating line is below equilibrium curve because liquid is going to gas like in a distillation column\n"
   ]
  },
  {
   "cell_type": "markdown",
   "id": "ffa1d8e5",
   "metadata": {},
   "source": [
    "# 14\n",
    "\n",
    "# Example simulation\n",
    "\n",
    "- [https://learncheme.com/simulations/separations/stripping-column-operation/](https://learncheme.com/simulations/separations/stripping-column-operation/)\n"
   ]
  },
  {
   "cell_type": "markdown",
   "id": "71566fe4",
   "metadata": {},
   "source": [
    "# 15\n",
    "\n",
    "### Which of the following is an appropriate plot for a physical absorption process for a dilute species? The black line is the operating line and the blue line is the equilibrium line\n",
    "\n",
    "![Image](Dunn-Images/12_Absorption%20and%20Stripping_CH7/Slide24.jpg)\n"
   ]
  },
  {
   "cell_type": "markdown",
   "id": "9504f631",
   "metadata": {},
   "source": [
    "# Analytical Solutions for Dilute Systems"
   ]
  },
  {
   "cell_type": "markdown",
   "id": "ad176d6c",
   "metadata": {},
   "source": [
    "# 16\n",
    "\n",
    "![Image](Dunn-Images/12_Absorption%20and%20Stripping_CH7/Slide27.jpg)\n",
    "\n",
    "Some assumptions are valid and make McCabe-Thiele straightforward\n",
    "\n",
    "For dilute systems\n",
    "\n",
    "1. L/V constant\n",
    "2. Isothermal\n",
    "3. Isobaric\n",
    "4. Heat of absorption is negligible\n",
    "5. <span style=\"color: rgb(250, 50,50);\">Equilibrium line is straight</span>\n",
    "\n",
    "$y_j = mx_j + b$ \n",
    "\n",
    "For Henry's law, $m = \\frac{H_B}{P_{\\text{total}}}$ b=0\n",
    "\n",
    "For every N, we achieve a certain delta y\n",
    "\n",
    "$N \\Delta y = y_{N+1} - y_1$\n",
    "\n",
    "<span style=\"color: rgb(250, 50,50);\">For this case, $L/V = m$</span>: $\\Delta y = (y_1 - \\frac{L}{V} x_0 - b)$\n",
    "\n",
    "$y_{j+1} = (\\frac{L}{V})x_j + [y_1 - (\\frac{L}{V})x_0]$\n",
    "\n",
    "$ -y_j = mx_j + b $\n",
    "\n",
    "$(\\Delta y)_j = y_{j+1} - y_j = (\\frac{L}{V} - m)x_j + (y_1 - (\\frac{L}{V}) x_0 - b)$\n",
    "\n",
    "\n",
    "Don't need stage by stage!\n",
    "\n",
    "$N = \\left[ \\frac{y_{N+1} - y_1}{(y_1 - \\frac{L}{V} x_0 - b)} \\right]$\n"
   ]
  },
  {
   "cell_type": "markdown",
   "id": "c080425a",
   "metadata": {},
   "source": [
    "# 17\n",
    "\n",
    "![Image](Dunn-Images/12_Absorption%20and%20Stripping_CH7/Slide29.jpg)\n",
    "\n",
    "In general case, delta y is not the same in every stage.\n",
    "\n",
    "$y_j = mx_j + b$\n",
    "\n",
    "$x_j = \\frac{y_j - b}{m}$\n",
    "\n",
    "$(\\Delta y)_j = y_{j+1} - y_j = (\\frac{L}{V} - m)x_j + \\left( y_1 - \\frac{L}{V} x_0 - b \\right)$\n",
    "\n",
    "$(\\Delta y)_j = y_{j+1} - y_j = (\\frac{L}{V} - m)\\frac{y_j-b}{m} + \\left( y_1 - \\frac{L}{V} x_0 - b \\right)$\n",
    "\n",
    "$(\\Delta y)_{j+1} = \\left( \\frac{L}{mV} - 1 \\right)y_{j+1} + \\left( y_1 - \\frac{L}{V} x_0 - \\frac{L}{mV} b \\right)$\n",
    "\n",
    "$(\\Delta y)_{j+1} = \\frac{L}{mV} (\\Delta y)_j$\n",
    "\n",
    "$L/mV$ is the absorption factor: moles in solute v moles in vapor. $m$ reflects equilibrium relationship\n",
    "\n",
    "If op line is curved... these relationships won’t work\n"
   ]
  },
  {
   "cell_type": "markdown",
   "id": "eb65481f",
   "metadata": {},
   "source": [
    "# 18\n",
    "\n",
    "![Image](Dunn-Images/12_Absorption%20and%20Stripping_CH7/Slide31.jpg)\n",
    "\n",
    "\n",
    "$\\Delta y_1 + \\Delta y_2 + ... + \\Delta y_N = y_{N+1} - y_1$\n",
    "\n",
    "$\\Delta y_1 \\left( 1 + \\frac{L}{mV} + \\left( \\frac{L}{mV} \\right)^2 + ... + \\left( \\frac{L}{mV} \\right)^{N-1} \\right) = y_{N+1} - y_1$\n",
    "\n",
    "\n",
    "$\\sum_{i=0}^{k} \\alpha A^i = \\frac{a(1 - A^{k+1})}{(1 - A)}$\n",
    "\n",
    "$\\frac{y_{N+1} - y_1}{\\Delta y_1} = \\left( \\frac{1 - \\left( \\frac{L}{mV} \\right)^N}{1 - \\frac{L}{mV}} \\right)$\n",
    "\n",
    "From the relationship:\n",
    "\n",
    "$(\\Delta y)_{j+1} = \\frac{L}{mV} (\\Delta y)_j$\n",
    "\n",
    "$\\Delta y_1 = \\Delta y_0 \\frac{L}{mV}$\n",
    "\n",
    "$\\Delta y_0 = y_1 - y^{*}_1$\n",
    "\n",
    "$y^{*}_1 = mx_0 + b$\n",
    "\n",
    "\n",
    "$\\frac{y_{N+1} - y_1}{y_1 - y^{*}_1} = \\frac{\\frac{L}{mV} - \\left( \\frac{L}{mV} \\right)^{N+1}}{1 - \\frac{L}{mV}}$\n",
    "\n",
    "$\\frac{y_{N+1} - y_1}{y_1 - y^{*}_1} =\\left( \\frac{1 - \\left( \\frac{L}{mV} \\right)^N}{1 - \\frac{L}{mV}} \\right)$\n"
   ]
  },
  {
   "cell_type": "markdown",
   "id": "fb9d5444",
   "metadata": {},
   "source": [
    "# 19\n",
    "\n",
    "$N = \\frac{\\ln \\left[ \\left( 1 - \\frac{mV}{L} \\right) \\left(\\frac{y_{N+1} - y_1^*}{y_1 - y^{*}_1}\\right) + \\frac{mV}{L} \\right]}{\\ln \\left( \\frac{L}{mV} \\right)}$\n",
    "\n",
    "Note there are many forms of the Kremser equation, this is just one.\n",
    "\n",
    "- The Kremser equation is quicker than stage-by-stage, especially when there are many stages.\n",
    "- If solutions are concentrated, have non-linear equilibrium relationships, or are not isothermal... This won’t work.\n",
    "\n",
    "- $mV/L$ for absorption: optimal value is about 0.7\n",
    "- For stripping, about 1.4\n"
   ]
  },
  {
   "cell_type": "markdown",
   "id": "d4d2a40b",
   "metadata": {},
   "source": [
    "# 20\n",
    "\n",
    "# Example: Strip ammonia from wastewater\n",
    "\n",
    "![Image](Dunn-Images/12_Absorption%20and%20Stripping_CH7/Slide34.jpg)\n",
    "\n",
    "We will use a different form of the Kremser equation (Wankat gives several for different cases)\n",
    "\n",
    "$\\frac{x_N - x_N^*}{x_0 - x_N^*} = \\frac{1 - \\left( \\frac{mV}{L} \\right)}{1 - \\left( \\frac{mV}{L} \\right)^{N+1}}$\n",
    "\n",
    "$\\frac{V}{L} = \\frac{30 \\text{scf air}}{1 \\text{lb water}} \\cdot \\frac{1 \\text{lb mol air}}{379 \\text{scf air}} \\cdot \\frac{18 \\text{lb water}}{1 \\text{lb mol water}}= 1.4$\n",
    "\n",
    "An equilibrium relationship for the system at 80 F is found from lit:\n",
    "\n",
    "$y_{NH3} = 1.414x_{NH3}$\n",
    "\n",
    "Because $y7 = 0$, $xN^*$ must also = 0\n",
    "\n",
    "$x_N = 7.45 \\times 10^{-6}$\n"
   ]
  },
  {
   "cell_type": "markdown",
   "id": "37d09bd9",
   "metadata": {},
   "source": [
    "# 21\n",
    "\n",
    "## Which is desirable in designing an absorption process?\n",
    "\n",
    "![Image](Dunn-Images/12_Absorption%20and%20Stripping_CH7/Slide36.jpg)\n",
    "\n",
    "A. high pressure, high temperature  \n",
    "B. high pressure, low temperature  \n",
    "C. low pressure, high temperature  \n",
    "D. low pressure, low temperature  \n"
   ]
  },
  {
   "cell_type": "markdown",
   "id": "ae2cea47",
   "metadata": {},
   "source": [
    "# 22\n",
    "\n",
    "## For this physical absorption process, which point(s) lie(s) on the operating line for the McCabe-Thiele graphical solution? (Note: x and y represent liquid and gas mole fractions, respectively)\n",
    "\n",
    "![Image](Dunn-Images/12_Absorption%20and%20Stripping_CH7/Slide38.jpg)\n",
    "\n",
    "A. $(x_N, y_1)$  \n",
    "B. $(x_0, y_1)$  \n",
    "C. $(x_0, y_{N+1})$  \n",
    "D. $(x_N, y_{N+1})$  \n",
    "E. B and D\n"
   ]
  },
  {
   "cell_type": "markdown",
   "id": "720e94e2",
   "metadata": {},
   "source": [
    "# 23\n",
    "\n",
    "![Image](Dunn-Images/12_Absorption%20and%20Stripping_CH7/Slide40.jpg)\n",
    "\n",
    "What conditions are required to take the McCabe-Thiele analysis to more concentrated systems?\n",
    "- Isothermal\n",
    "- Negligible heat of absorption\n",
    "- Isobaric\n",
    "\n",
    "In these cases, L and V are not constant\n",
    "\n",
    "$$ \\frac{S}{G} = \\frac{\\frac{\\text{mol nonvolatile solvent}}{\\text{h}}}  {\\frac{\\text{mol insoluble carrier gas}}{\\text{h}} }$$\n",
    "\n",
    "Other assumptions:\n",
    "- Solvent is non-volatile\n",
    "- Carrier gas is insoluble\n",
    "\n",
    "$$ S_N = S_j = S_0 = S = \\text{constant} $$\n",
    "$$ G_{N+1} = G_j = G_1 = G = \\text{constant} $$\n"
   ]
  },
  {
   "cell_type": "markdown",
   "id": "d52c2f58",
   "metadata": {},
   "source": [
    "# 24\n",
    "\n",
    "$$ \\frac{S}{G} = \\frac{\\frac{\\text{mol nonvolatile solvent}}{\\text{h}}}{ \\frac{\\text{mol insoluble carrier gas}}{\\text{h}} }$$\n",
    "\n",
    "Key distinction: this is not total moles of liquid and vapor....\n",
    "This is solvent (S) and carrier gas (C)\n",
    "\n",
    "Because S is non-volatile and C is insoluble in the solvent – S and C are constant\n",
    "\n",
    "We need to use ratios to get us to a familiar form of the operating equation.\n",
    "\n",
    "$$ Y = \\frac{\\text{mol B in gas}}{\\text{mole pure carrier gas C}} $$\n",
    "\n",
    "NOT total moles of gas – only of the carrier gas\n",
    "\n",
    "$$ X = \\frac{\\text{mol B in liquid}}{\\text{mole pure solvent S}} $$\n",
    "\n",
    "NOT total moles of liquid – only of the solvent\n"
   ]
  },
  {
   "cell_type": "markdown",
   "id": "d93d3330",
   "metadata": {},
   "source": [
    "# 25\n",
    "\n",
    "$$ X = \\frac{\\text{mol B in liquid}}{\\text{mole pure solvent S}} = \\frac{x}{1 - x} $$\n",
    "\n",
    "$$ Y = \\frac{\\text{mol B in gas}}{\\text{mole pure carrier gas C}} = \\frac{y}{1 - y} $$\n"
   ]
  },
  {
   "cell_type": "markdown",
   "id": "4bd68852",
   "metadata": {},
   "source": [
    "# 26\n",
    "\n",
    "![Image](Dunn-Images/12_Absorption%20and%20Stripping_CH7/Slide44.jpg)\n",
    "\n",
    "Mass Balance around dashed system boundary\n",
    "\n",
    "$$ Y_jG = \\left[ \\frac{\\text{mol B in gas stream}}{\\text{mol carrier gas}} \\right] \\frac{\\text{mol carrier gas}}{h} = \\frac{\\text{mol B in gas stream j}}{h} $$\n",
    "\n",
    "$$ X_jS = \\left[ \\frac{\\text{mol B in gas liquid j}}{\\text{mol solvent}} \\right] \\frac{\\text{mol solvent}}{h} = \\frac{\\text{mol B in liquid stream j}}{h} $$\n",
    "\n",
    "$$ Y_{j+1}G + X_0S = X_jS + Y_1G $$\n",
    "Inlet gas + inlet liquid = outlet liquid + outlet gas\n",
    "\n",
    "$$ Y_{j+1} = \\frac{S}{G}X_j + \\left[ Y_1 - \\frac{S}{G}X_0 \\right] $$\n",
    "Operating line for concentrated absorption\n"
   ]
  },
  {
   "cell_type": "markdown",
   "id": "b2cfec64",
   "metadata": {},
   "source": [
    "# 27\n",
    "\n",
    "![Image](Dunn-Images/12_Absorption%20and%20Stripping_CH7/Slide46.jpg)\n",
    "\n",
    "Carrier gas is $N_2$. Gas stream is in 90 mol% $N_2$ and 10 mol% $CO_2 $.\n",
    "\n",
    "Solvent is water (pure at inlet). Absorption!\n",
    "\n",
    "$S = 1.5 S_{\\text{min}}$\n",
    "\n",
    "What is \\( N \\)?\n",
    "\n",
    "### We are going to need our equilibrium and operating lines\n"
   ]
  },
  {
   "cell_type": "markdown",
   "id": "ca12b25b",
   "metadata": {},
   "source": [
    "# 28\n",
    "\n",
    "![Image](Dunn-Images/12_Absorption%20and%20Stripping_CH7/Slide48.jpg)\n",
    "\n",
    "Info from table 12-1\n",
    "\n",
    "When we know T (5C), we can read the Henry's law constant as 876 atm/mole fraction.\n",
    "\n",
    "The equilibrium relationship is therefore:\n",
    "\n",
    "$ y_{CO2} = \\frac{H_{CO2}}{P} x_{CO2} = \\frac{876}{10} x_{CO2}$\n",
    "\n",
    "| H | 876 atm/mole fraction | | P | 10 atm | |\n",
    "|---|-----------------------|-|---|--------|-|\n",
    "| x | y | X | Y |\n",
    "|---|---|---|---|\n",
    "| 0.0002 | 0 | 0.0002 | 0.02 |\n",
    "| 0.0004 | 0.01752 | 0.0004 | 0.04 |\n",
    "| 0.0006 | 0.03504 | 0.0006 | 0.06 |\n",
    "| 0.0008 | 0.05256 | 0.0008 | 0.08 |\n",
    "| 0.001 | 0.07008 | 0.001 | 0.10 |\n",
    "| 0.0012 | 0.0876 | 0.0012 | 0.12 |\n",
    "| 0.0014 | 0.10512 | 0.0014 | 0.14 |\n",
    "| 0.0016 | 0.12264 | 0.0016 | 0.16 |\n",
    "| 0.0018 | 0.14016 | 0.0018 | 0.19 |\n",
    "| 0.002 | 0.15768 | 0.002 | 0.21 |\n",
    "| 0.0022 | 0.1752 | 0.0022 | 0.24 |\n",
    "| 0.0024 | 0.19272 | 0.0024 | 0.27 |\n",
    "| 0.0026 | 0.21024 | 0.0026 | 0.29 |\n",
    "\n"
   ]
  },
  {
   "cell_type": "markdown",
   "id": "f3a57666",
   "metadata": {},
   "source": [
    "# 29\n",
    "\n",
    "![Image](Dunn-Images/12_Absorption%20and%20Stripping_CH7/Slide50.jpg)\n",
    "\n",
    "Carrier gas is $N_2$: Gas stream in is 90% $N_2$.  \n",
    "Solvent is water (pure at inlet).\n",
    "\n",
    "$S = 1.5 S_{\\text{min}}$\n",
    "\n",
    "What points are on the operating line?\n",
    "\n",
    "$Y_{N+1} = \\frac{y_N+1}{1 - y_{N+1}} = \\frac{0.1}{0.9} = 0.1111 \\frac{\\text{mol } CO_2}{\\text{mol } N_2}$\n",
    "\n",
    "$G = (1 \\text{ mol total gas/h})(1 - y_{N+1}) = 0.9 \\text{ mol } N_2/\\text{hr}$\n",
    "\n",
    "$Y_1 = \\frac{\\text{mol } CO_2 \\text{ out}}{\\text{mol } N_2 \\text{ out}} = \\frac{0.1 * (1 - .92)}{0.9 \\text{mol} \\;  N_2} =  0.0088$\n"
   ]
  },
  {
   "cell_type": "markdown",
   "id": "7024c490",
   "metadata": {},
   "source": [
    "# 30\n",
    "\n",
    "## What line do we need to draw to calculate minimum S/G?\n",
    "\n",
    "![Image](Dunn-Images/12_Absorption%20and%20Stripping_CH7/Slide52.jpg)\n"
   ]
  },
  {
   "cell_type": "markdown",
   "id": "5337ac56",
   "metadata": {},
   "source": [
    "# 31\n",
    "\n",
    "![Image](Dunn-Images/12_Absorption%20and%20Stripping_CH7/Slide54.jpg)\n",
    "\n",
    "$$\n",
    "\\frac{S}{G} = 1.5x\\left( \\frac{S}{G_{\\text{min}}} \\right) = 134.9\n",
    "$$\n"
   ]
  },
  {
   "cell_type": "markdown",
   "id": "fde7e6be",
   "metadata": {},
   "source": [
    "# 32\n",
    "\n",
    "![Image](Dunn-Images/12_Absorption%20and%20Stripping_CH7/Slide56.jpg)\n",
    "\n",
    "$$\n",
    "\\frac{S}{G} = 1.5 \\times \\left( \\frac{S}{G_{\\text{min}}} \\right) = 134.9\n",
    "$$\n",
    "\n",
    "$$\n",
    "Y_{j+1} = \\frac{S}{G} X_j + \\left[ Y_1 - \\frac{S}{G} X_0 \\right]\n",
    "$$\n",
    "\n",
    "$$\n",
    "X_N = \\frac{Y_{N+1} - Y_1}{S/G} = \\frac{0.1111 - 0.0088}{134.9} = 0.000758\n",
    "$$\n"
   ]
  },
  {
   "cell_type": "markdown",
   "id": "402d0ab2",
   "metadata": {},
   "source": [
    "# 33\n",
    "\n",
    "Don't includes etc."
   ]
  }
 ],
 "metadata": {
  "kernelspec": {
   "display_name": "Python 3 (ipykernel)",
   "language": "python",
   "name": "python3"
  },
  "language_info": {
   "codemirror_mode": {
    "name": "ipython",
    "version": 3
   },
   "file_extension": ".py",
   "mimetype": "text/x-python",
   "name": "python",
   "nbconvert_exporter": "python",
   "pygments_lexer": "ipython3",
   "version": "3.10.9"
  }
 },
 "nbformat": 4,
 "nbformat_minor": 5
}
