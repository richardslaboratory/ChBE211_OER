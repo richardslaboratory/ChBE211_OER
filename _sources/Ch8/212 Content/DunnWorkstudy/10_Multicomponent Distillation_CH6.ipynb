{
 "cells": [
  {
   "cell_type": "markdown",
   "id": "ac3f9417",
   "metadata": {},
   "source": [
    "# Multi-component distillation"
   ]
  },
  {
   "cell_type": "markdown",
   "id": "f53c715f",
   "metadata": {},
   "source": [
    "# 2\n",
    "\n",
    "## Keys in multi-component distillation\n",
    "\n",
    "![Image](Dunn-Images/10_Multicomponent%20Distillation_CH6/Slide3.jpg)\n",
    "\n",
    "Components that have compositions specified in D and B are called **keys**.\n",
    "\n",
    "They do not have to be the lightest and heaviest components.\n",
    "\n",
    "But, compared to each other, one will be **lighter** and one will be heavier.\n",
    "\n",
    "- LK: light key: more volatile component\n",
    "- HK: heavy key: less volatile component\n",
    "\n",
    "Components for which compositions are unknowns are non-keys. They can be lighter than the LK (LNK) or heavier than the heavy key (HNK)\n",
    "\n",
    "The N stands for non as in non-key\n"
   ]
  },
  {
   "cell_type": "markdown",
   "id": "c973cc83",
   "metadata": {},
   "source": [
    "# 3\n",
    "\n",
    "![Image](Dunn-Images/10_Multicomponent%20Distillation_CH6/Slide5.jpg)\n",
    "\n",
    "Component 1 has a BP of 60 C\n",
    "\n",
    "Component 2 has a BP 80 C\n",
    "\n",
    "Component 3 has a BP of 100C\n",
    "\n",
    "What type of \"keys\" are each of these three components?\n",
    "\n",
    "Can we solve the compositions in the D and B streams with this amount of info and without going beyond our foundational equations we used for binary systems?\n"
   ]
  },
  {
   "cell_type": "markdown",
   "id": "773b7688",
   "metadata": {},
   "source": [
    "# 4\n",
    "\n",
    "![Image](Dunn-Images/10_Multicomponent%20Distillation_CH6/Slide7.jpg)\n",
    "\n",
    "\n",
    "| Component    | \\( z_i \\) | \\( f_{D,i} \\) | \\( f_{B,i} \\) | Designation |\n",
    "|--------------|-----------|---------------|---------------|-------------|\n",
    "| Propane (C3) | 0.056     |               |               |             |\n",
    "| n-butane (C4)| 0.321     | .994          |               |             |\n",
    "| n-pentane (C5)| 0.482    |               | 0.997         |             |\n",
    "| n-hexane (C6) |           |               |               |             |\n",
    "\n",
    "What can we assume about the fate of propane and n-hexane?\n"
   ]
  },
  {
   "cell_type": "markdown",
   "id": "27873f68",
   "metadata": {},
   "source": [
    "![Image](Dunn-Images/10_Multicomponent%20Distillation_CH6/Slide9.jpg)"
   ]
  },
  {
   "cell_type": "markdown",
   "id": "98b659b7",
   "metadata": {},
   "source": [
    "# 5\n",
    "\n",
    "# External column balances\n",
    "\n",
    "$F = B + D$\n",
    "\n",
    "$Fz = Bx_B + Dx_D$\n",
    "\n",
    "# Fractional Recoveries\n",
    "\n",
    "$Dx_{{MVC},dist} = (FR_{MVC,dist})(Fz_{MVC})$\n",
    "\n",
    "$x_{MVC,dist} = \\frac{(D_{x_{MVC},dist})}{D}$\n",
    "\n",
    "$Bx_{{LVC},bott} = (FR_{LVC,bott})(Fz_{LVC})$\n",
    "\n",
    "$x_{LVC,dist} = \\frac{(B_{x_{LVC},bott})}{B}$\n",
    "\n",
    "$D = \\sum D_{x_i,Dist}$\n",
    "\n",
    "$B = \\sum B_{x_i,Bott}$\n",
    "\n",
    "Do problem & External mass bal quiz \n",
    "[https://learncheme.com/simulations/mass-energy-balances/solving-mass-balances-on-a-distillation-column/](https://learncheme.com/simulations/mass-energy-balances/solving-mass-balances-on-a-distillation-column/)\n"
   ]
  },
  {
   "cell_type": "markdown",
   "id": "2f88d801",
   "metadata": {},
   "source": [
    "# 6\n",
    "\n",
    "![Image](Dunn-Images/10_Multicomponent%20Distillation_CH6/Slide13.jpg)\n",
    "\n",
    "| Component   | \\( z_i \\) | \\( f_{D,i} \\) | \\( f_{B,i} \\) | Designation |\n",
    "|-------------|-----------|---------------|---------------|-------------|\n",
    "| Propane (C3)| 0.056     |               |               | LNK         |\n",
    "| n-butane (C4)| 0.321    | .994          |               | LK          |\n",
    "| n-pentane (C5)| 0.482   |               | 0.997         | HK          |\n",
    "| n-hexane (C6)|           |               |               | HNK         |\n"
   ]
  },
  {
   "cell_type": "markdown",
   "id": "e7710c88",
   "metadata": {},
   "source": [
    "# 7\n",
    "\n",
    "![Image](Dunn-Images/10_Multicomponent%20Distillation_CH6/Slide13.jpg)\n",
    "\n",
    "\n",
    "| Component   | \\( z_i \\) | \\( f_{D,i} \\) | \\( f_{B,i} \\) | Designation |\n",
    "|-------------|-----------|---------------|---------------|-------------|\n",
    "| Propane (C3)| 0.056     |               |               | LNK         |\n",
    "| n-butane (C4)| 0.321    | .994          |               | LK          |\n",
    "| n-pentane (C5)| 0.482   |               | 0.997         | HK          |\n",
    "| n-hexane (C6)|           |               |               | HNK         |\n",
    "\n",
    "$x_{D,i} = \\frac{Dx_{D,i}}{D}$\n",
    "\n",
    "$x_{D,LNK} = \\frac{112}{753.4} = 0.1481$\n",
    "\n",
    "$\\sum X_{D,i} = 0.999$\n",
    "\n",
    "$D = \\overline{Z}x_{D,i}D = 753.4 \\text{kmol/m}$\n",
    "\n",
    "$f_{LNK,D} = 1$\n",
    "\n",
    "$f_{HNK,B} = 1$\n",
    "\n",
    "$Bx_{LNK,B} = 0$\n",
    "\n",
    "$Dx_{LNK,D} = Fz_{LNK} = 2000 \\times 0.056 = 112$\n",
    "\n",
    "$Bx_{HNK,B} = Fz_{HNK}$\n",
    "\n",
    "$Dx_{HNK,D} = 0$\n",
    "\n",
    "$f_{LK,D} = \\frac{Dx_{LK,D}}{Fz_{LK}}$\n",
    "\n",
    "$f_{HK,B} = \\frac{Bx_{HK,B}}{Fz_{HK}}$\n",
    "\n",
    "\n",
    "$Dx_{LK,D} = 0.994 \\times 2000 \\times 0.321 = 638.5$\n",
    "\n",
    "$Dx_{HK,D} = (1 - 0.997) \\times 2000 \\times 0.482 = 2.89$\n",
    "\n"
   ]
  },
  {
   "cell_type": "markdown",
   "id": "9ea7bf84",
   "metadata": {},
   "source": [
    "# 8\n",
    "\n",
    "![Image](Dunn-Images/10_Multicomponent%20Distillation_CH6/Slide13.jpg)\n",
    "\n",
    "| Component   | \\( z_i \\) | \\( f_{D,i} \\) | \\( f_{B,i} \\) | Designation |\n",
    "|-------------|-----------|---------------|---------------|-------------|\n",
    "| Propane (C3)| 0.056     |               |               | LNK         |\n",
    "| n-butane (C4)| 0.321    | .994          |               | LK          |\n",
    "| n-pentane (C5)| 0.482   |               | 0.997         | HK          |\n",
    "| n-hexane (C6)|           |               |               | HNK         |\n",
    "\n",
    "$f_{LK,B} = (1 - 0.994)$\n",
    "\n",
    "$f_{LK,B} = \\frac{Bx_{B,LK}}{Fz_{LK}}$\n",
    "\n",
    "$Fz_i = Dx_{D,i}+ Bx_{B,i}$\n",
    "\n",
    "all HNK\n",
    "$Bx_{B,HNK} = Fz_{HNK} = 2000 \\times .141 = 282$\n",
    "\n",
    "$Bx_{B,HK} = 2000 \\times 0.997 \\times 0.482 = 961$\n",
    "\n",
    "$Bx_{B,LK} = (1-0.994) \\times 2000 \\times 0.321 = 3.85$\n",
    "\n",
    "$\\sum B \\times X_{B,i} = 1246.85$\n",
    "\n",
    "$F = 1246.85 + 753.4 = 2000 \\checkmark$\n"
   ]
  },
  {
   "cell_type": "markdown",
   "id": "ee6085e3",
   "metadata": {},
   "source": [
    "# 9\n",
    "\n",
    "![Image](Dunn-Images/10_Multicomponent%20Distillation_CH6/Slide13.jpg)\n",
    "\n",
    "\n",
    "| Component   | \\( z_i \\) | \\( f_{D,i} \\) | \\( f_{B,i} \\) | Designation |\n",
    "|-------------|-----------|---------------|---------------|-------------|\n",
    "| Propane (C3)| 0.056     |               |               | LNK         |\n",
    "| n-butane (C4)| 0.321    | .994          |               | LK          |\n",
    "| n-pentane (C5)| 0.482   |               | 0.997         | HK          |\n",
    "| n-hexane (C6)|           |               |               | HNK         |\n"
   ]
  },
  {
   "cell_type": "markdown",
   "id": "4a0ffc93",
   "metadata": {},
   "source": [
    "# 10\n",
    "\n",
    "![Image](Dunn-Images/10_Multicomponent%20Distillation_CH6/Slide23.jpg)\n",
    "\n",
    "| Component | BP       | \\( z_i \\) | \\( f_{D,i} \\) | \\( f_{B,i} \\) | Designation |\n",
    "|-----------|----------|-----------|---------------|---------------|-------------|\n",
    "| Benzene   | 80.1 C   | 23.3%     | .99           |               |             |\n",
    "| Toluene   | 110.6 C  | 33.3%     |               |               |             |\n",
    "| Cumene    | 152.4 C  | 43.4%     |               |               |             |\n"
   ]
  },
  {
   "cell_type": "markdown",
   "id": "015d4313",
   "metadata": {},
   "source": [
    "![Image](Dunn-Images/10_Multicomponent%20Distillation_CH6/Slide25.jpg)"
   ]
  },
  {
   "cell_type": "markdown",
   "id": "daca9b67",
   "metadata": {},
   "source": [
    "# 11\n",
    "\n",
    "![Image](Dunn-Images/10_Multicomponent%20Distillation_CH6/Slide27.jpg)\n",
    "\n",
    "- Benzene is low in the reboiler, mole fraction increases as move up column – maximum at condenser\n",
    "- Generally assume all HNK leaves in B [mole fraction of cumene in C stage is ~0].\n",
    "- Cumene mole fraction drops off after feed stage\n",
    "- There has to be a finite cumene concentration at the feed stage\n",
    "\n",
    "At stages 11-12, distillation is again between cumene and toluene, so toluene increases\n",
    "\n",
    "After stage 12, cumene is out of the picture and the LK concentration increases against the HK’s.\n"
   ]
  },
  {
   "cell_type": "markdown",
   "id": "a108f0da",
   "metadata": {},
   "source": [
    "# 12\n",
    "\n",
    "![Image](Dunn-Images/10_Multicomponent%20Distillation_CH6/Slide29.jpg)\n",
    "\n",
    "| Component | BP       | \\( z_i \\) | \\( f_{D,i} \\) | \\( f_{B,i} \\) | Designation |\n",
    "|-----------|----------|-----------|---------------|---------------|-------------|\n",
    "| Benzene   | 80.1 C   | 23.3%     | .99           |               |             |\n",
    "| Toluene   | 110.6 C  | 33.3%     |               |               |             |\n",
    "| Cumene    | 152.4 C  | 43.4%     |               |               |             |\n"
   ]
  },
  {
   "cell_type": "markdown",
   "id": "4ab2c61e",
   "metadata": {},
   "source": [
    "# 13\n",
    "\n",
    "![Image](Dunn-Images/10_Multicomponent%20Distillation_CH6/Slide30.jpg)\n"
   ]
  },
  {
   "cell_type": "markdown",
   "id": "db1247ba",
   "metadata": {},
   "source": [
    "# Fenske Examples"
   ]
  },
  {
   "cell_type": "markdown",
   "id": "bed50457",
   "metadata": {},
   "source": [
    "# 14\n",
    "\n",
    "![Image](Dunn-Images/10_Multicomponent%20Distillation_CH6/Slide34.jpg)\n",
    "\n",
    "1 Benzene 80.1 C LNK  \n",
    "2 Toluene 110.6 C LK  \n",
    "3 Cumene 152.4 C HK\n",
    "\n",
    "$\\alpha_{12} = 2.25$ $\\alpha_{32} = 0.21$ $\\alpha_{22} = 1$\n",
    "\n",
    "$N_{\\text{min}} = \\frac{\\ln \\left( \\frac{f_{D,A}f_{B,B}}{(1 - f_{B,B})(1 - f_{D,A})} \\right)}{\\ln \\alpha_{AB}}$\n",
    "\n",
    "\n",
    "$N_{\\text{min}} = \\frac{\\ln \\left( \\frac{f_{D,2}f_{B,3}}{(1 - f_{B,3})(1 - f_{D,2})} \\right)}{\\ln \\alpha_{23}}$\n",
    "\n",
    "$\\alpha_{ij} = \\frac{K_i}{K_j}$\n",
    "\n",
    "$\\alpha_{23} = \\frac{K_2}{K_3} = \\frac{\\frac{K_2}{K_2}}{\\frac{K_3}{K_2} }= \\frac{\\alpha_{22}}{\\alpha_{32}} = \\frac{1}{0.21}$\n",
    "\n",
    "$N_{\\text{min}} = \\frac{\\ln \\left( \\frac{0.95  \\times  0.95}{(1 - 0.95)(1 - 0.95)} \\right)}{\\ln 4.76}$\n",
    "\n",
    "Find\n",
    "\n",
    "N at total reflux\n",
    "$N_{\\text{min}}$\n",
    "\n",
    "Fractional recovery of benzene in distillate $f_{D,1}$"
   ]
  },
  {
   "cell_type": "markdown",
   "id": "8bb058bc",
   "metadata": {},
   "source": [
    "# 15\n",
    "\n",
    "![Image](Dunn-Images/10_Multicomponent%20Distillation_CH6/Slide37.jpg)\n",
    "\n",
    "1 Benzene 80.1 C LNK  \n",
    "2 Toluene 110.6 C LK  \n",
    "3 Cumene 152.4 C HK\n",
    "\n",
    "$\\alpha_{ij} = \\frac{K_i}{K_j}$\n",
    "\n",
    "\n",
    "$\\alpha_{12} = 2.25$ $\\alpha_{32} = 0.21$ $\\alpha_{22} = 1$\n",
    "\n",
    "$\\alpha_{13} = \\frac{K_1}{K_3} = \\frac{\\frac{K_1}{K_2}}{\\frac{K_3}{K_2} } = \\frac{\\alpha_{12}}{\\alpha_{32}} = \\frac{2.25}{0.21} = 10.7$\n",
    "\n",
    "$f_{D,NK} = \\frac{\\alpha_{NK,HK}^{N_{\\text{min}} }}{\\frac{f_{B,HK} }{1 - f_{B,HK}} + \\alpha_{NK,HK}^{N_{\\text{min}} }}$\n",
    "\n",
    "$f_{D,1} = \\frac{\\alpha_{13}^{N_{\\text{min}}}}{\\frac{f_{B,3}} {1 - f_{B,3}} + \\alpha_{13}^{N_{\\text{min}}}}$\n",
    "\n",
    "$f_{D,1} = \\frac{10.7^{3.77}}{\\frac{.95}{0.05} + 10.7^{3.77}} = 0.998$\n",
    "\n",
    "Find\n",
    "N at total reflux\n",
    "$N_{\\text{min}}$\n",
    "\n",
    "Fractional recovery of benzene in distillate $f_{D,1}$\n",
    "\n",
    "Recorded walk-through in Panopto: 5 min\n",
    "[https://northwestern.hosted.panopto.com/Panopto/Pages/Viewer.aspx?id=997fbf73-e00b-4683-b1ee-ae37012cb3e9](https://northwestern.hosted.panopto.com/Panopto/Pages/Viewer.aspx?id=997fbf73-e00b-4683-b1ee-ae37012cb3e9)\n"
   ]
  },
  {
   "cell_type": "markdown",
   "id": "2c1b110f",
   "metadata": {},
   "source": [
    "# Underwood"
   ]
  },
  {
   "cell_type": "markdown",
   "id": "e8caad94",
   "metadata": {},
   "source": [
    "# 16\n",
    "\n",
    "![Image](Dunn-Images/10_Multicomponent%20Distillation_CH6/Slide40.jpg)\n",
    "\n",
    "Underwood (1948)\n",
    "\n",
    "$V_{T,min}y_{i,j+1} = L_{min}x_{i,j} + Dx_{D,i}$\n",
    "\n",
    "$x_{i,j-1} = x_{i,j} = x_{i,j+1}$\n",
    "\n",
    "$y_{i,j+1} = y_{i,j} = y_{i,j+1}$\n",
    "\n",
    "$y_{i,j+1} = Kx_{i,j+1}$\n",
    "\n",
    "$V_{min}y_{i,j+1} = \\frac{L_{min}}{K_i}y_{i,j+1} + Dx_i$\n",
    "\n",
    "$\\alpha_{i,ref} = \\frac{K_i}{K_{ref}}$\n",
    "\n",
    "$V_{min}y_{i,j+1} = \\frac{L_{min}}{\\alpha_{i,ref}K_{ref}}y_{i,j+1} + Dx_i$\n"
   ]
  },
  {
   "cell_type": "markdown",
   "id": "65d0f006",
   "metadata": {},
   "source": [
    "# 17\n",
    "\n",
    "$V_{\\text{min}}y_{i,j+1} \\left( 1 - \\frac{L_{\\text{min}}}{V_{T,\\text{min}} \\alpha_{i,\\text{ref}} K_{\\text{ref}}} \\right) = D x_i$\n",
    "\n",
    "$V_{\\text{min}}y_{i,j+1} = \\frac{\\alpha_{i,\\text{ref}} D x_{D,i} }{\\alpha_{i,\\text{ref}} - \\frac{L_{\\text{min}}}{V_{\\text{min}}K_{\\text{ref}}}}$\n",
    "\n",
    "Sum for total $V_{\\text{min}}$\n",
    "\n",
    "$V_{\\text{min}} = \\sum_{i=1}^{c} \\left( V_{\\text{min}}y_{i,j+1} \\right) = \\sum_{i=1}^{c} \\frac{\\alpha_{i,\\text{ref}} D x_{D,i}}{\\alpha_{i,ref} - \\frac{L_{\\text{min}} }{ V_{\\text{min}}K_{\\text{ref}}}}$\n",
    "\n",
    "$-\\overline{V}_{\\text{min}} = \\sum_{i=1}^{c} \\left( V_{\\text{min}}y_{i,j+1}\\right) = \\sum_{i=1}^{c} \\frac{\\alpha_{i,\\text{ref}} B x_{B,i}}{\\alpha_{i,ref} - \\frac{\\overline{L}_{\\text{min}} }{ \\overline{V}_{\\text{min}}K_{\\text{ref}}}}$\n",
    "\n",
    "Volatilities, K not necessarily the same in bottom and top of column\n",
    "\n",
    "$\\phi = \\frac{L_{T,\\text{min}}}{V_{T,\\text{min}}K_{T,\\text{ref}}}$  \n",
    "\n",
    "\n",
    "$\\overline{\\phi}= \\frac{L_{B,\\text{min}}}{V_{B,\\text{min}}K_{B,\\text{ref}}}$\n",
    "\n",
    "Assumption: phi is same in top and bottom of column\n",
    "(works best for CMO, constant relative volatility)\n",
    "\n",
    "Put it phi and add $V_{\\text{min}}$ equations\n",
    "\n",
    "$V_{T,\\text{min}} - V_{B,\\text{min}} = \\sum_{i=1}^{c} \\left[ \\frac{\\alpha_{i,\\text{ref}} D x_{D,i}}{\\alpha_{i,\\text{ref}} - \\phi} + \\frac{\\alpha_{i,\\text{ref}} B x_{B,i}}{\\alpha_{i,\\text{ref}} - \\phi} \\right]$\n",
    "\n",
    "Use overall mass balance for i to simplify\n",
    "\n",
    "$F z_i = D x_{D,i} + B x_{B,i}$\n",
    "\n",
    "$F(1 - q) = V_{T,\\text{min}} - V_{B,\\text{min}} = \\sum_{i=1}^{c} \\left[\\frac{\\alpha_{i,\\text{ref}} F z_i}{\\alpha_{i,\\text{ref}} - \\phi}\\right]$\n"
   ]
  },
  {
   "cell_type": "markdown",
   "id": "690f393c",
   "metadata": {},
   "source": [
    "# 18\n",
    "\n",
    "Underwood equations\n",
    "\n",
    "$F(1 - q) = V_{T,\\text{min}} - V_{B,\\text{min}} = \\sum \\left[ \\frac{\\alpha_{i,\\text{ref}} F z_i}{\\alpha_{i,\\text{ref}} - \\phi} \\right]$\n",
    "\n",
    "First Underwood Equation. ---- Use to find phi\n",
    "\n",
    "$V_{\\text{min}} = \\sum_{i=1}^{c} \\left( V_{\\text{min}}y_{i,j+1}\\right) = \\sum_{i=1}^{c} \\left( \\frac{\\alpha_{i,\\text{ref}} D x_{D,i}}{\\alpha_{i,\\text{ref}} - \\phi} \\right)$\n",
    "\n",
    "Second Underwood Equation. ---- Use to find $V_{\\text{min}}$\n",
    "\n",
    "Use cases\n",
    "\n",
    "1. All NKs are non-distributive\n",
    "$D_{x_{HNK}} = 0$ and $D_{L, \\text{LNK}} = F z_{\\text{LNK}}$\n",
    "\n",
    "2. Use Fenske results for NK distributions here.\n",
    "\n",
    "Note constant relativity assumption:\n",
    "Geometric mean applies\n",
    "\n",
    "Options:\n",
    "$(\\alpha_{B} \\alpha_{D} \\alpha_{F})^{1/3}$\n",
    "$(\\alpha_{B} \\alpha_{D})^{1/2}$\n"
   ]
  },
  {
   "cell_type": "markdown",
   "id": "bdaac55c",
   "metadata": {},
   "source": [
    "# Gilliland"
   ]
  },
  {
   "cell_type": "markdown",
   "id": "e757d6da",
   "metadata": {},
   "source": [
    "# 19\n",
    "\n",
    "![Image](Dunn-Images/10_Multicomponent%20Distillation_CH6/Slide47.jpg)\n",
    "\n",
    "Gilliland Correlation for number of stages at a finite r"
   ]
  },
  {
   "cell_type": "markdown",
   "id": "2f2c9c89",
   "metadata": {},
   "source": [
    "# 20\n",
    "\n",
    "One form of Fenske\n",
    "\n",
    "$N_{\\text{min}} = \\frac{\\ln \\left[ \\frac{(X_A/X_B)_D}{(X_A/X_B)_R} \\right]}{\\ln \\alpha_{AB}}$\n",
    "\n",
    "Can be used to estimate stages to go from feed to distillate concentration for keys\n",
    "\n",
    "$ N_{F,\\text{min}} = \\frac{\\ln \\left[ \\frac{(X_{LK}/X_{HK})_D}{(Z_{LK}/Z_{HK})} \\right]}{\\ln \\alpha_{LK,HK}} $\n",
    "\n",
    "Ratio of feed to total stages could be ~constant. --> estimate feed stage.\n",
    "\n",
    "$\\frac{N_{F,\\text{min}}}{N_{\\text{min}}} = \\frac{N_F}{N}$\n"
   ]
  },
  {
   "cell_type": "markdown",
   "id": "5ea3d8eb",
   "metadata": {},
   "source": [
    "# 21\n",
    "\n",
    "Liddle fit the curve – once you find the x you could calculate the N\n",
    "\n",
    "For $0 \\leq x \\leq 0.01$:\n",
    "\n",
    "$\\frac{N - N_{\\text{min}}}{N + 1} = 1.0 - 18.5715x$\n",
    "\n",
    "For $0.01 \\leq x \\leq 0.90$:\n",
    "\n",
    "$\\frac{N - N_{\\text{min}}}{N + 1} = 0.545827 - 0.591422x + \\frac{0.002743}{x}$\n",
    "\n",
    "For $0.90 \\leq x \\leq 1.0$:\n",
    "\n",
    "$\\frac{N - N_{\\text{min}}}{N + 1} = 0.16595 - 0.16595x$\n"
   ]
  },
  {
   "cell_type": "code",
   "execution_count": null,
   "id": "bb0020b2",
   "metadata": {},
   "outputs": [],
   "source": []
  }
 ],
 "metadata": {
  "kernelspec": {
   "display_name": "Python 3 (ipykernel)",
   "language": "python",
   "name": "python3"
  },
  "language_info": {
   "codemirror_mode": {
    "name": "ipython",
    "version": 3
   },
   "file_extension": ".py",
   "mimetype": "text/x-python",
   "name": "python",
   "nbconvert_exporter": "python",
   "pygments_lexer": "ipython3",
   "version": "3.10.9"
  }
 },
 "nbformat": 4,
 "nbformat_minor": 5
}
