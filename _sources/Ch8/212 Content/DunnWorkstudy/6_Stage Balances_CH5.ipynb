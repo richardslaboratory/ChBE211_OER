{
 "cells": [
  {
   "cell_type": "markdown",
   "id": "664d0181",
   "metadata": {},
   "source": [
    "# Stage-by-Stage Balances"
   ]
  },
  {
   "cell_type": "markdown",
   "id": "438df74c",
   "metadata": {},
   "source": [
    "# 2\n",
    "\n",
    "![Image](Dunn-Images/6_Stage%20Balances_CH5/Slide3.jpg)\n"
   ]
  },
  {
   "cell_type": "markdown",
   "id": "8d1db8a7",
   "metadata": {},
   "source": [
    "# 3\n",
    "\n",
    "![Image](Dunn-Images/6_Stage%20Balances_CH5/Slide5.jpg)\n"
   ]
  },
  {
   "cell_type": "markdown",
   "id": "7505a072",
   "metadata": {},
   "source": [
    "# 4\n",
    "\n",
    "![Image](Dunn-Images/6_Stage%20Balances_CH5/Slide7.jpg)\n",
    "\n",
    "Overall mass balance:\n",
    "$$ V_2 = L_1 + D $$\n",
    "\n",
    "For the more volatile component:\n",
    "$$ V_2 y_2 = L_1 x_1 + D x_D $$\n",
    "\n",
    "Energy balance:\n",
    "$$ V_2 H_2 + Q_c = L_1 h_1 + D h_D $$\n",
    "\n",
    "Where:\n",
    "$$ h_1 = h_1(x_1)$$\n",
    "$$H_2 = H_2(y_2)$$\n",
    "$$ x_1 \\text{and} y_1 \\text{are related by equilibrium on stage 1.} $$\n",
    "\n",
    "## Six equations Unknowns:\n",
    "\n",
    "$$ L_1, V_2, y_2, x_1, H_2, h_1$$\n",
    "\n",
    "Solve these and move to next stage.\n",
    "\n"
   ]
  },
  {
   "cell_type": "markdown",
   "id": "f2e320f3",
   "metadata": {},
   "source": [
    "# 5\n",
    "\n",
    "![Image](Dunn-Images/6_Stage%20Balances_CH5/Slide9.jpg)\n",
    "\n",
    "\n",
    "Overall mass balance:\n",
    "$$ V_3 = L_2 + D $$\n",
    "\n",
    "For the more volatile component:\n",
    "$$ V_3 y_3 = L_2 x_2 + D x_D $$\n",
    "\n",
    "Energy balance:\n",
    "$$ V_3 H_3 + Q_c = L_2 h_2 + D h_D $$\n",
    "\n",
    "Where:\n",
    "$$ h_2 = h_2(x_2)$$\n",
    "$$ H_3 = H_3(y_3)$$\n",
    "$$ x_2 \\text{and} y_2 \\text{are related by equilibrium on stage 2.} $$\n",
    "\n",
    "## Six equations Unknowns:\n",
    "\n",
    "$$ L_2, V_2, y_3, x_2, H_3, h_2$$\n",
    "\n",
    "Solve these and move to next stage.\n",
    "\n",
    "\n"
   ]
  },
  {
   "cell_type": "markdown",
   "id": "5d272715",
   "metadata": {},
   "source": [
    "# 6\n",
    "\n",
    "![Image](Dunn-Images/6_Stage%20Balances_CH5/Slide11.jpg)\n",
    "\n",
    "Overall mass balance:\n",
    "$$ V_{j+1} = L_j + D $$\n",
    "\n",
    "For the more volatile component:\n",
    "$$ V_{j+1} y_{j+1} = L_j x_j + D x_D $$\n",
    "\n",
    "Energy balance:\n",
    "$$ V_{j+1} H_{j+1} + Q_c = L_j h_j + D h_D $$\n",
    "\n",
    "Where:\n",
    "$$ h_j = h_j(x_j)$$\n",
    "$$ H_{j+1} = H_{j+1}(y_{j+1})$$\n",
    "$$ x_j \\text{and} y_j \\text{are related by equilibrium on stage j.} $$\n",
    "\n",
    "## Six equations Unknowns:\n",
    "\n",
    "$$ L_j, V_{j+1}, y_{j+1}, x_j, H_{j+1}, h_j$$\n",
    "\n",
    "Solve these and move to next stage.\n",
    "\n",
    "\n"
   ]
  },
  {
   "cell_type": "markdown",
   "id": "b81a1e64",
   "metadata": {},
   "source": [
    "# 7\n",
    "\n",
    "![Image](Dunn-Images/6_Stage%20Balances_CH5/Slide13.jpg)\n",
    "\n",
    "# Stripping Section\n",
    "\n",
    "Overbars on V and L indicate flows in stripping section\n",
    "\n",
    "## Unknowns\n",
    "- $\\overline{L}_{f}$\n",
    "- $\\overline{V}_{f+1}$\n",
    "- $x_f$\n",
    "- $y_{f+1}$\n",
    "- $H_{f+1}$\n",
    "- $h_f$\n",
    "\n",
    "## Equations\n",
    "- $\\overline{V}_{f+1} = \\overline{L}_f - B$\n",
    "- $\\overline{V}_{f+1}y_{f+1} = \\overline{L}_fx_f - Bx_B$\n",
    "- $\\overline{V}_{f+1}H_{f+1} = \\overline{L}_fh_f - Bh_B + Q_R$\n",
    "- $h_f = h_f(x_f)$\n",
    "- $H_{f+1} = H_{f+1}(y_{f+1})$\n",
    "\n",
    "$x_f$ and $y_f$ are related by equilibrium on stage f.\n"
   ]
  },
  {
   "cell_type": "markdown",
   "id": "ac823ed5",
   "metadata": {},
   "source": [
    "# 8\n",
    "\n",
    "![Image](Dunn-Images/6_Stage%20Balances_CH5/Slide15.jpg)\n",
    "\n",
    "We have solved the top part of the column and know F.\n",
    "\n",
    "So we can calculate B and $Q_R$ from column balances\n",
    "\n",
    "$x_B$ could be specified in problem statement\n",
    "\n",
    "$y_f$ solved from top down calculations\n",
    "\n",
    "$\\overline{V}_k = L_k - B$\n",
    "\n",
    "$\\overline{V}_k y_k = \\overline{L}_{k-1} x_{k-1} - B x_B$\n",
    "\n",
    "$\\overline{V}_k H_k = \\overline{L}_{k-1} x_{k-1} - B x_B + Q_R$\n",
    "\n",
    "$h_{k-1} = h_{k-1}(x_{k-1})$\n",
    "\n",
    "$H_k = H_k(y_k)$\n",
    "\n",
    "$x_{k-1}$ and $y_{k-1}$ are related by equilibrium on stage k-1.\n"
   ]
  },
  {
   "cell_type": "markdown",
   "id": "d1566023",
   "metadata": {},
   "source": [
    "# 9\n",
    "\n",
    "![Image](Dunn-Images/6_Stage%20Balances_CH5/Slide17.jpg)\n",
    "\n",
    "Partial reboiler has both liquid and vapor phases.\n",
    "\n",
    "It acts as an equilibrium stage: N+1\n",
    "\n",
    "$k=N+1$\n",
    "\n",
    "$k-1=N$\n",
    "\n",
    "$X_{N+1} = X_B$\n"
   ]
  },
  {
   "cell_type": "markdown",
   "id": "d38c7cbc",
   "metadata": {},
   "source": [
    "# 10\n",
    "\n",
    "[https://learncheme.com/simulations/separations/feed-stages-in-a-distillation-column/]"
   ]
  },
  {
   "cell_type": "markdown",
   "id": "c692bef8",
   "metadata": {},
   "source": [
    "# 11\n",
    "\n",
    "![Image](Dunn-Images/6_Stage%20Balances_CH5/Slide19.jpg)\n"
   ]
  }
 ],
 "metadata": {
  "kernelspec": {
   "display_name": "Python 3 (ipykernel)",
   "language": "python",
   "name": "python3"
  },
  "language_info": {
   "codemirror_mode": {
    "name": "ipython",
    "version": 3
   },
   "file_extension": ".py",
   "mimetype": "text/x-python",
   "name": "python",
   "nbconvert_exporter": "python",
   "pygments_lexer": "ipython3",
   "version": "3.9.6"
  }
 },
 "nbformat": 4,
 "nbformat_minor": 5
}
