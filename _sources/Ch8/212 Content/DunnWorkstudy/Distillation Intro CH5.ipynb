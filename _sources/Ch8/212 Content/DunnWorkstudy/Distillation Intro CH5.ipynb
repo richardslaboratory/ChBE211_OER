{
 "cells": [
  {
   "cell_type": "markdown",
   "id": "451a627f",
   "metadata": {},
   "source": [
    "# Distillation Intro"
   ]
  },
  {
   "cell_type": "markdown",
   "id": "a2a1882a",
   "metadata": {},
   "source": [
    "# 2\n",
    "\n",
    "- [https://encyclopedia.che.engin.umich.edu/distillation-columns/#XGUUTANAUkO2GYAGNAP3](https://encyclopedia.che.engin.umich.edu/distillation-columns/#XGUUTANAUkO2GYAGNAP3)\n",
    "\n",
    "- Typically operate at constant P (otherwise, need to do a lot of pumping to change pressures)\n",
    "\n",
    "- Txy diagrams generally will be more helpful than Pxy diagrams\n"
   ]
  },
  {
   "cell_type": "markdown",
   "id": "1b9ded43",
   "metadata": {},
   "source": [
    "# 3\n",
    "\n",
    "![Image](Dunn-Images/4_Distillation%20Intro_CH5/Slide4.jpg)\n",
    "\n",
    "As vaporization happens, the most volatile component concentrates in the liquid phase\n",
    "  \n",
    "Governed by relative volatility.  If two components are equally volatile, can't be separated with this approach.\n",
    "  \n",
    "Generally isobaric at P"
   ]
  },
  {
   "cell_type": "markdown",
   "id": "ef4dda64",
   "metadata": {},
   "source": [
    "# 4\n",
    "\n",
    "![Image](Dunn-Images/4_Distillation%20Intro_CH5/Slide6.jpg)\n",
    "\n",
    "<span style=\"color: rgb(200, 0, 0);\">Generally specified (along with P)</span>"
   ]
  },
  {
   "cell_type": "markdown",
   "id": "c391c83c",
   "metadata": {},
   "source": [
    "Note: The reflux is usually a saturated liquid\n",
    "<!-- Change color? -->\n"
   ]
  },
  {
   "cell_type": "markdown",
   "id": "8ff698b9",
   "metadata": {},
   "source": [
    "# 5\n",
    "\n",
    "![Image](Dunn-Images/4_Distillation%20Intro_CH5/Slide8.jpg)\n",
    "\n",
    "<span style=\"color: rgb(150, 180, 200);\">Design - specified</span>:  \n",
    "Design to achieve the separation  \n",
    "Mole fraction MVC in Dstillate  \n",
    "Mole fraction MVC in Bottoms  \n",
    "$\\textbf{External reflux ratio} L_0/D$  \n",
    "Optimal feed $\\underline{\\text{location}}$ to design a column with least number of trays required to achieve the separation\n",
    "\n",
    "<span style=\"color: rgb(150, 180, 200);\">Simulation - calculate</span>:  \n",
    "$ D, B, Qs, N, N_\\text{feed} $\n"
   ]
  },
  {
   "cell_type": "markdown",
   "id": "5b3d51a5",
   "metadata": {},
   "source": [
    "# 6\n",
    "\n",
    "![Image](Dunn-Images/4_Distillation%20Intro_CH5/Slide10.jpg)\n",
    "\n",
    "### Simulation - Column is built - specified:\n",
    "$N$  \n",
    "$N_\\text{feed}$  \n",
    "$V_{N+1}$  \n",
    "Specify the separation $(x_D, L_0/D, \\text{etc}) $\n",
    "\n",
    "### Simulation - calculate:\n",
    "$ D, B, Qs, N, N_\\text{feed}$"
   ]
  },
  {
   "cell_type": "markdown",
   "id": "79d623d5",
   "metadata": {},
   "source": [
    "# 7\n",
    "\n",
    "## External column balances\n",
    "\n",
    "$$ F = B + D $$\n",
    "$$ Fz = Bx_B + Dx_D $$\n",
    "\n",
    "## Fractional Recoveries\n",
    "\n",
    "$$ Dx_{\\text{MVC,dist}} = \\left(FR_{\\text{MVC,dist}}\\right) \\left(Fz_{\\text{MVC}} \\right) \\quad x_{\\text{MVC,dist}} = \\frac{\\left(Dx_{\\text{MVC, dist}}\\right)}{D} \\quad D = \\sum Dx_{i,\\text{dist}}$$\n",
    "\n",
    "$$ Bx_{\\text{LVC,dist}} = \\left(FR_{\\text{LVC,bott}}\\right) \\left(Fz_{\\text{LVC}} \\right) \\quad x_{\\text{LVC,bott}} = \\frac{\\left(Bx_{\\text{LVC, bott}}\\right)}{B} \\quad B = \\sum Bx_{i,\\text{bott}}$$"
   ]
  },
  {
   "cell_type": "markdown",
   "id": "e9b7c7fe",
   "metadata": {},
   "source": [
    "Do problem & External mass bal quiz\n",
    "\n",
    "[LearnChemE Simulation for Mass Balances on a Distillation Column](https://learncheme.com/simulations/mass-energy-balances/solving-mass-balances-on-a-distillation-column/)\n"
   ]
  },
  {
   "cell_type": "markdown",
   "id": "428220af",
   "metadata": {},
   "source": [
    "# 8\n",
    "\n",
    "![Image](Dunn-Images/4_Distillation%20Intro_CH5/Slide13.jpg)\n",
    "\n",
    "$$\n",
    "Fh_f + Q_C + Q_R = Dh_D + Bh_B\n",
    "$$\n",
    "$$\n",
    "Q_r > 0 \\quad Q_c < 0\n",
    "$$\n",
    "\n",
    "Convention: All heat loads treated as inputs.  (Take away energy $\\rightarrow$ Negative Q)\n",
    "\n",
    "Total condenser: Changes PHASE of the stream entering it, but not its composition. All entering vapor is condensed and becomes liquid.\n",
    "\n",
    "\n",
    "$$\n",
    "y_1 = x_0 = x_D\n",
    "$$\n",
    "\n",
    "$$\n",
    "V_1 = L_0 + D\n",
    "$$\n",
    "\n",
    "$$\n",
    "V_1H_1 + Q_c = Dh_D + L_0h_0\n",
    "$$"
   ]
  }
 ],
 "metadata": {
  "kernelspec": {
   "display_name": "Python 3 (ipykernel)",
   "language": "python",
   "name": "python3"
  },
  "language_info": {
   "codemirror_mode": {
    "name": "ipython",
    "version": 3
   },
   "file_extension": ".py",
   "mimetype": "text/x-python",
   "name": "python",
   "nbconvert_exporter": "python",
   "pygments_lexer": "ipython3",
   "version": "3.10.9"
  }
 },
 "nbformat": 4,
 "nbformat_minor": 5
}
