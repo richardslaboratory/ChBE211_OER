{
 "cells": [
  {
   "cell_type": "markdown",
   "id": "4379d699",
   "metadata": {},
   "source": [
    "**Dunn_WQ23_212**  \n",
    "_Not for Distribution Beyond Winter 23 212 Students_\n",
    "\n",
    "$$ \\require{cancel} $$\n",
    "\n",
    "\n",
    "## Flash Distillation\n",
    "- $ F \\to (T, P) \\to V, L $\n",
    "    - $ z_i $: mole fraction of $ i $ in feed\n",
    "    - $ x_i $: mole fraction of $ i $ in the liquid phase\n",
    "    - $ y_i $ is the mole fraction of $ i $ in the vapor"
   ]
  },
  {
   "cell_type": "markdown",
   "id": "710fac71",
   "metadata": {},
   "source": [
    "## (1) What mass balances can we write for this system?\n",
    "- **Overall**: $ F = V + L $\n",
    "- **Component**: $ F z_i = V y_i + L x_i $\n",
    "- For a binary system, we write this balance for the most volatile component: $ Fz = Vy + Lx $\n"
   ]
  },
  {
   "cell_type": "markdown",
   "id": "721ff051",
   "metadata": {},
   "source": [
    "### Can also do energy balance:\n",
    "$ Fh_F + Q_{\\text{flash}} = VH_V + Lh_L $\n",
    "- $ h_F $: Enthalpy of the feed \n",
    "- $ H_V $: Enthalpy of the vapor stream\n",
    "- $ h_L $: Enthalpy of the liquid stream "
   ]
  },
  {
   "cell_type": "markdown",
   "id": "8cea4c04",
   "metadata": {},
   "source": [
    "### Enthalpies are a function of stream conditions:\n",
    "- $ h_F = h_F (T_F, z) $\n",
    "- $ H_V = H_V (T_{drum}, y) $\n",
    "- $ h_L = h_L (T_{drum}, x) $\n"
   ]
  },
  {
   "cell_type": "markdown",
   "id": "cbf86b7e",
   "metadata": {},
   "source": [
    "## (2)\n",
    "## L and V at T of drum\n",
    "\n",
    "**Components are A and B**  \n",
    "\n",
    "**Ideal Mixtures**:\n",
    "\n",
    "$h_? (T_{\\text{drum}}, x) = x_A C_{PL,A} (T_{\\text{drum}} - T_{\\text{ref}}) + x_B C_{PL,B} (T_{\\text{drum}} - T_{\\text{ref}})$\n",
    "\n",
    "$h_F(T_F, z) = z_A C_{PL,A} (T_F - T_{\\text{ref}}) + z_B C_{PL,B} (T_F - T_{\\text{ref}})$\n",
    "\n",
    "$H_v(T, y) = y_A [\\lambda_A + C_{PV,A} (T - T_{\\text{ref}}] + y_B    $\n",
    "\n",
    "\n",
    "OR read from graph - switch to Ponchon-Savarit \n",
    "\n"
   ]
  },
  {
   "cell_type": "markdown",
   "id": "e2588466",
   "metadata": {},
   "source": [
    "**Approach to solving**  \n",
    "\n",
    "**1. Sequential - decouple all equations**\n",
    "\n",
    "We are going to work with mass balances to get them into a form for which we can ??? a graphical solution.\n",
    "\n",
    "$ F_L = Lx + Vy $  \n",
    "\n",
    "$\\Rightarrow$ want to get in the form of y=mx+b\n",
    "\n",
    "$y = -\\frac{Lx}{V} + \\frac{Fz}{V}$\n",
    "\n",
    "This is called the operating equation, it satisfies mass balances.\n",
    "\n",
    "**Fraction vaporized**: $ f = \\frac{V}{F}$  \n",
    "\n",
    "**Fraction feed remaining as liquid**: $q = \\frac{L}{F}$  \n"
   ]
  },
  {
   "cell_type": "markdown",
   "id": "c1ba1202",
   "metadata": {},
   "source": [
    "## (3)\n",
    "\n",
    "**We are going to keep working with the operating equation to get it in a workable form.**\n",
    "\n",
    "- Slope of operating line is $ \\frac{-L}{V}$ \n",
    "\n",
    "$$ \\frac{L}{V} =\n",
    "\\frac{F-V}{V} = \n",
    "\\frac{1-{\\frac{V}{F}}}{\\frac{V}{F}} = \n",
    "\\frac{1-f}{f} $$\n",
    "\n",
    "$$ y = \\frac{-l -f}{f} x + \\frac{z}{f} $$\n",
    "\n",
    "Or, working in terms of $ q $:\n",
    "\n",
    "$$ \\frac{L}{V} =\n",
    "\\frac{L}{F-L} = \n",
    "\\frac{\\frac{L}{F}}{1-\\frac{L}{F}} = \n",
    "\\frac{q}{1-q} $$\n",
    "\n",
    "$$ y = -\\frac{q}{1-q} x + [\\frac{1}{1-q}] z $$\n",
    "\n",
    "Where wil mass balance cross the y = x line?\n",
    "\n",
    "**Solve for x**\n",
    "$$ y = x \\to x = \\frac{-q}{1-q} x + \\frac{1}{1-q} z $$  \n",
    "\n",
    "$$ x (\\frac{1-q}{1-q} + \\frac{q}{1-q}) = \\frac{1}{1-q} z $$\n",
    "\n",
    "$$ x \\cancel{\\frac{1}{1-q}} = \\cancel{\\frac{1}{1-q}} z $$\n",
    "\n",
    "$x = z \\rightarrow$ feed composition\n"
   ]
  },
  {
   "cell_type": "markdown",
   "id": "437e77d1",
   "metadata": {},
   "source": [
    "## (4)\n",
    "$$ 0 = -\\frac{q}{1-q} x + \\frac{1}{1-q} z $$\n",
    "\n",
    "$$ \\frac{q}{1-q} x = \\frac{1}{1-q}z $$\n",
    "\n",
    "$$ x = \\frac{\\cancel{1-q}}{q} \\cdot \\frac{z}{\\cancel{1-q}} = \\frac{z}{q} \\rightarrow \\text{point B} $$\n",
    "\n",
    "**BOTH** mass balance + ?? requirements are satisfied $\\Rightarrow$ here, if the $x_i$ and $y_i$ of the V + L streams.\n",
    "\n",
    "Both mass balance and vapor-liquid equilibrium requirements are satisfied $\\Rightarrow$ here, at point C.\n",
    "\n",
    "At this point, we determine the $x_i$ and $y_i$ of the vapor and liquid streams.\n"
   ]
  },
  {
   "cell_type": "code",
   "execution_count": null,
   "id": "f26180bc",
   "metadata": {},
   "outputs": [],
   "source": []
  }
 ],
 "metadata": {
  "kernelspec": {
   "display_name": "Python 3 (ipykernel)",
   "language": "python",
   "name": "python3"
  },
  "language_info": {
   "codemirror_mode": {
    "name": "ipython",
    "version": 3
   },
   "file_extension": ".py",
   "mimetype": "text/x-python",
   "name": "python",
   "nbconvert_exporter": "python",
   "pygments_lexer": "ipython3",
   "version": "3.10.9"
  }
 },
 "nbformat": 4,
 "nbformat_minor": 5
}
