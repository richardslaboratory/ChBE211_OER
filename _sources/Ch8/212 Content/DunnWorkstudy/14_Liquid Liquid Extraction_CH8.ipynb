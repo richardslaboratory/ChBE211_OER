{
 "cells": [
  {
   "cell_type": "markdown",
   "id": "8236a6c7",
   "metadata": {},
   "source": [
    "# Liquid Liquid Extraction"
   ]
  },
  {
   "cell_type": "markdown",
   "id": "543eb62f",
   "metadata": {},
   "source": [
    "# 2\n",
    "\n",
    "# Physical basis of liquid liquid extraction (LLE)\n",
    "\n",
    "- There are two liquid phases\n",
    "- One or more solutes is present in one liquid phase\n",
    "- The solute moves into the second liquid phase\n",
    "  \n",
    "--- \n",
    "  \n",
    "  \n",
    "- What does immiscible mean?\n",
    "- The two liquids must be partially or entirely immiscible"
   ]
  },
  {
   "cell_type": "markdown",
   "id": "e6cc1881",
   "metadata": {},
   "source": [
    "# 3\n",
    "\n",
    "# Characteristics of LLE\n",
    "\n",
    "- Low temperatures are possible\n",
    "- Could work for biologically-relevant molecules that degrade under high temperatures"
   ]
  },
  {
   "cell_type": "markdown",
   "id": "dd0f0337",
   "metadata": {},
   "source": [
    "# Core physical property of importance\n",
    "\n",
    "- Differing levels of **solubility**\n",
    "- Solubility parameters should be selected to favor selection of the solute(s) of interest\n"
   ]
  },
  {
   "cell_type": "markdown",
   "id": "6eded96b",
   "metadata": {},
   "source": [
    "# 4\n",
    "\n",
    "# Establishing our nomenclature\n",
    "\n",
    "A: the **solute**. The compound we would like to separate out from one of the two liquid phases\n",
    "\n",
    "D: the **diluent**. Liquid that enters the LLE process with the solute in it.\n",
    "- Raffinate: diluent + solute\n",
    "\n",
    "S: the **solvent**. The liquid phase that serves as the separating agent into which the solute moves via mass transfer.\n",
    "- Extract: solvent + solute\n"
   ]
  },
  {
   "cell_type": "markdown",
   "id": "d0d37571",
   "metadata": {},
   "source": [
    "# 5\n",
    "\n",
    "# Establishing the basic LLE flow diagram\n",
    "\n",
    "Counter current flow like the column-based methods we've studied\n",
    "\n",
    "![Image](Dunn-Images/14_Liquid%20Liquid%20Extraction_CH8/Slide7.jpg)\n"
   ]
  },
  {
   "cell_type": "markdown",
   "id": "1ea17c7e",
   "metadata": {},
   "source": [
    "# 6\n",
    "\n",
    "# Key assumptions:\n",
    "\n",
    "- Isothermal\n",
    "- Isobaric\n",
    "- Negligible heat of mixing\n",
    "\n",
    "**What if we have a very dilute system, what are assumptions we can make like we did for absorption/stripping?**\n",
    "- Flow of raffinate is constant (R)\n",
    "- Flow of extract is constant (E)\n",
    "- This is like assuming L and V are constant\n",
    "\n",
    "**Based on our experience with adsorption and stripping, what do you think we might do when systems are concentrated to make designing them 'easy'?**\n",
    "- Work with ratios like $X = x/(1-x)$\n",
    "\n",
    "![Image](Dunn-Images/14_Liquid%20Liquid%20Extraction_CH8/Slide9.jpg)\n"
   ]
  },
  {
   "cell_type": "markdown",
   "id": "86779983",
   "metadata": {},
   "source": [
    "# 7\n",
    "\n",
    "If we also assume the diluent and solvent are totally immiscible, the diluent and solvent flowrates are constant.\n",
    "\n",
    "- $ F_D, F_S$ are constant.\n",
    "- $F_D$ and $F_S$ are the flows of diluent and solvent WITHOUT any solute in them. \n",
    "- Raffinate is diluent + solute.\n",
    "- Extract is solvent + diluent.\n",
    "\n",
    "As more solute is added (more concentrated systems), the two liquid phases become more chemically similar and become increasingly miscible.\n",
    "\n",
    "![Image](Dunn-Images/14_Liquid%20Liquid%20Extraction_CH8/Slide11.jpg)\n"
   ]
  },
  {
   "cell_type": "markdown",
   "id": "47399630",
   "metadata": {},
   "source": [
    "# 8\n",
    "\n",
    "# Expressing Solubility: The new equilibrium data\n",
    "\n",
    "Distribution ratio $K_d$\n",
    "- $K_{d,A} = \\frac{y_A}{x_A}$\n",
    "- Units! The $x$ and $y$ could be weight fractions, mole fractions, or concentrations\n",
    "\n",
    "For dilute systems, $K$ will be constant.\n",
    "\n",
    "For concentrated systems, it can be $f(\\text{concentration})$\n",
    "\n",
    "$K_{d,A} = \\frac{\\frac{g_A}{g_{\\text{extract}}}}{\\frac{g_A}{g_{\\text{raffinate}}}} = \\frac{\\text{How much A is in the solvent}} {\\text{How much A is in the diluent}} \\rightarrow \\text{how facile is the separation?}$ \n",
    "\n",
    "\n",
    "**Note**: $K$ is not actually unitless! \n",
    "  \n",
    "Key point of noting this is to know that $K_d$ on different bases (weight, mol, concentration) will not be the same. Need to pay attention to basis of $K_d$.\n"
   ]
  },
  {
   "cell_type": "markdown",
   "id": "54da69f0",
   "metadata": {},
   "source": [
    "# 9\n",
    "\n",
    "# Table may not be 100% accurate\n",
    "\n",
    "![Image](Dunn-Images/14_Liquid%20Liquid%20Extraction_CH8/Slide14.jpg)\n",
    "\n",
    "\n",
    "# Table 1-3. Distribution coefficients for immiscible extraction\n",
    "\n",
    "Equilibrium in Weight Fraction Units (Perry and Green, 1984)\n",
    "\n",
    "| Solute (A) | Solvent | Diluent | T, °C | $K_d = \\frac{y_A}{x_A}$ |\n",
    "|------------|---------|---------|-------|-------------------------|\n",
    "| Acetic acid | Benzene | Water | 25 | 0.0328 |\n",
    "| Acetic acid | Benzene | Water | 30 | 0.0984 |\n",
    "| Acetic acid | Benzene | Water | 40 | 0.1022 |\n",
    "| Acetic acid | Benzene | Water | 50 | 0.0588 |\n",
    "| Acetic acid | Benzene | Water | 60 | 0.0637 |\n",
    "| Acetic acid | 1-Butanol | Water | 26.7 | 1.613 |\n",
    "| Furfural | Methylisobutyl ketone | Water | 25 | 7.10 |\n",
    "| Ethyl benzene | β,β'-Thiodipropionitrile | n-Hexane | 25 | 0.100 |\n",
    "| m-Xylene | β,β'-Thiodipropionitrile | n-Hexane | 25 | 0.050 |\n",
    "| p-Xylene | β,β'-Thiodipropionitrile | n-Hexane | 25 | 0.150 |\n",
    "| o-Xylene | β,β'-Thiodipropionitrile | n-Hexane | 25 | 0.080 |\n",
    "\n",
    "Equilibrium in Mass Ratio Units (Brian, 1972)\n",
    "\n",
    "| Solute (A) | Solvent | Diluent | Ratio |\n",
    "|------------|---------|---------|-------|\n",
    "| Linoleic acid | Heptane | Methylcellosolve | 2.17 |\n",
    "| (C18H32O2COOH) | | 10 vol% water | |\n",
    "| Abietic acid | Heptane | Methylcellosolve | 1.57 |\n",
    "| (C20H30COOH) | | 10 vol% water | |\n",
    "| Oleic acid | Heptane | Methylcellosolve | 4.14 |\n",
    "| | | 10 vol% water | |\n"
   ]
  },
  {
   "cell_type": "markdown",
   "id": "d886d829",
   "metadata": {},
   "source": [
    "- At which temperature will the transfer of acetic acid to benzene be greatest?\n",
    "\n",
    "- Which solvent is more selective for acetic acid at ~25C, benzene or 1-butanol?\n",
    "\n",
    "- For which solute is B, B' - thiodipropionitrile the most selective of those listed here at 25C?"
   ]
  },
  {
   "cell_type": "markdown",
   "id": "e39bb303",
   "metadata": {},
   "source": [
    "# 10\n",
    "\n",
    "\n",
    "# McCabe Thiele\n",
    "\n",
    "## Equilibrium line:\n",
    "$y_A = K_{d,A} \\cdot X_A$\n",
    "  \n",
    "Operating line from mass balance\n",
    "\n",
    "$Ey_{j+1} + RX_0 = Ey_1 + Rx_j$\n",
    "\n",
    "$y_{j+1} = \\left(\\frac{R}{E}\\right) x_j + \\left[y_1 - \\left(\\frac{R}{E}\\right) x_0\\right]$\n",
    "\n",
    "We are working under a set of assumptions in which R/E is constant.\n",
    "Operating line slope is therefore also constant.\n",
    "\n",
    "![Image](Dunn-Images/14_Liquid%20Liquid%20Extraction_CH8/Slide16.jpg)\n"
   ]
  },
  {
   "cell_type": "markdown",
   "id": "85427100",
   "metadata": {},
   "source": [
    "# 11\n",
    "\n",
    "# Some comments about McCabe-Thiele for LLE\n",
    "\n",
    "- In stripping, we have max L/G.\n",
    "- Maximum R/E is the analogous paramter in LLE- find minimum extract flow for infinite stages"
   ]
  },
  {
   "cell_type": "markdown",
   "id": "4152e118",
   "metadata": {},
   "source": [
    "# 12\n",
    "\n",
    "# Another old friend... the Kremser Equation!\n",
    "\n",
    "- Need one additional assumption to use Kremser in the context of dilute LLE\n",
    "\n",
    "- Equilibrium is linear – usually $b_i = 0$ and $m_i = K_{d,I}$\n",
    "\n",
    "- $y_i = m_i x_i + b_i $\n",
    "\n",
    "Kremser for absorption/stripping when $L/V=m$ (lines are parallel)\n",
    "  \n",
    "$ N = \\frac{y_{N+1} - y_1}{\\left( y_1 - \\frac{L}{V} x_o - b \\right)} $\n",
    "\n",
    "For LLE when $R/mE = 1$\n",
    "  \n",
    "$ N = \\frac{y_{N+1} - y_1}{\\left( y_1 - \\frac{R}{E} x_o - b \\right)} $\n"
   ]
  },
  {
   "cell_type": "markdown",
   "id": "1b4d6b4e",
   "metadata": {},
   "source": [
    "# 13\n",
    "\n",
    "When the lines are not parallel, $R/mE$ doesn't equal $1$ and these equations are valid.\n",
    "\n",
    "$$ \\frac{y_1 - y_1^*}{y_{N+1} - y_1^*} = \\frac{1-\\frac{R}{mE}}{1 - \\left(\\frac{R}{mE}\\right)^{N+1}} $$\n",
    "  \n",
    "$$ y_1^* = mx_0 + b $$\n",
    "  \n",
    "$$ N = \\frac{\\ln \\left[ \\left( 1 - \\frac{mE}{R} \\right) \\left( \\frac{y_{N+1} - y_1^*}{y_1 - y_1^*} \\right) + \\frac{mE}{R} \\right]}{\\ln \\left( \\frac{R}{mE} \\right)} $$\n"
   ]
  },
  {
   "cell_type": "markdown",
   "id": "9f9da453",
   "metadata": {},
   "source": [
    "# 14\n",
    "\n",
    "# Extraction Factor\n",
    "\n",
    "\n",
    "![Image](Dunn-Images/14_Liquid%20Liquid%20Extraction_CH8/Slide23.jpg)\n",
    "- Analogous to absorption factor: $L/mV$\n",
    "- Extraction factor is: $mE/R = K_{d}E/R = yE/Rx$ (because $m = y/x$)\n",
    "- When $mE/R > 1$, there is more solute in the extract phase – net movement of solute is to the right.\n",
    "- When $mE/R < 1$, net movement of solute is to the left\n",
    "- We want to move to the right! Target $>1$ with minimum value of 1.\n",
    "\n",
    "A practical approach to calculating a minimum value: $m/ER = 1.3 \\Rightarrow E/R$ should be at least $1.3/m$\n"
   ]
  }
 ],
 "metadata": {
  "kernelspec": {
   "display_name": "Python 3 (ipykernel)",
   "language": "python",
   "name": "python3"
  },
  "language_info": {
   "codemirror_mode": {
    "name": "ipython",
    "version": 3
   },
   "file_extension": ".py",
   "mimetype": "text/x-python",
   "name": "python",
   "nbconvert_exporter": "python",
   "pygments_lexer": "ipython3",
   "version": "3.9.6"
  }
 },
 "nbformat": 4,
 "nbformat_minor": 5
}
