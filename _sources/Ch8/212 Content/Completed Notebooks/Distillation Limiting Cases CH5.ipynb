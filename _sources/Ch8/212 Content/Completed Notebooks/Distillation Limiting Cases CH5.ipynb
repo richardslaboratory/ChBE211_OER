{
 "cells": [
  {
   "cell_type": "markdown",
   "id": "e51de127",
   "metadata": {},
   "source": [
    "# Distillation: Limiting Conditions\n",
    "\n",
    "## Some Figure\n",
    "\n",
    "1. **Total Reflux: No ??? Streams.**\n",
    "   - Does this ever happen? - Start up if downstream equipment old???\n",
    "   - All vapor is condensed and refluxed  \n",
    "   $L = V \\rightarrow \\frac{L}{V} = 1$\n",
    "   - All liquid is boiled up  \n",
    "   $\\frac{\\overline{L}}{\\overline{V}} = 1$  \n",
    "   $ \\text{Feed} = 0 $\n",
    "   - Maximum seperation possible with a set number of stages but  0 ????\n",
    "   - Operating lines collapse to $y = x$ line.\n",
    "\n",
    "2. **Minimum Reflux $\\frac{L}{D}$ min**\n",
    "   - Just trickly enough reflux in to achieve desired separation with an infinite number of stages.\n",
    "   - Hypothetical only.\n",
    "   - To make the stairs stepping infinite, thethe ?? + VLE lines must touch.\n",
    "\n",
    "## Some Figure\n",
    "\n",
    "- Can happen at feed stage or at tangent pinch point.\n",
    "- Draw operating line to pitch point  \n",
    "$ \\text{Slope} = (\\frac{L}{D})_{\\text{min}}$\n",
    "- Often used to specify operating conditions $\\rightarrow $ $\\frac{L}{D} = M(4D)_{\\text{min}}$\n",
    "- Minimum heat in ????.\n",
    "- Usually optimal $\\frac{L}{D}$ is between 1.05 - 1.25 times $\\frac{L}{D}_{\\text{min}}$\n",
    "\n"
   ]
  }
 ],
 "metadata": {
  "kernelspec": {
   "display_name": "Python 3 (ipykernel)",
   "language": "python",
   "name": "python3"
  },
  "language_info": {
   "codemirror_mode": {
    "name": "ipython",
    "version": 3
   },
   "file_extension": ".py",
   "mimetype": "text/x-python",
   "name": "python",
   "nbconvert_exporter": "python",
   "pygments_lexer": "ipython3",
   "version": "3.9.6"
  }
 },
 "nbformat": 4,
 "nbformat_minor": 5
}
